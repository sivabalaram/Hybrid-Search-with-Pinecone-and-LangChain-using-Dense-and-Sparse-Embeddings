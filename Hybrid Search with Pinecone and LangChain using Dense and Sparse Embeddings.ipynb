{
  "nbformat": 4,
  "nbformat_minor": 0,
  "metadata": {
    "colab": {
      "provenance": [],
      "gpuType": "T4"
    },
    "kernelspec": {
      "name": "python3",
      "display_name": "Python 3"
    },
    "language_info": {
      "name": "python"
    },
    "widgets": {
      "application/vnd.jupyter.widget-state+json": {
        "0f0448588dda44898b00f34b74181f4b": {
          "model_module": "@jupyter-widgets/controls",
          "model_name": "HBoxModel",
          "model_module_version": "1.5.0",
          "state": {
            "_dom_classes": [],
            "_model_module": "@jupyter-widgets/controls",
            "_model_module_version": "1.5.0",
            "_model_name": "HBoxModel",
            "_view_count": null,
            "_view_module": "@jupyter-widgets/controls",
            "_view_module_version": "1.5.0",
            "_view_name": "HBoxView",
            "box_style": "",
            "children": [
              "IPY_MODEL_9bfe24717e424da58142f529f6c8e0ae",
              "IPY_MODEL_b492caa416004ba8a69124289e17eb1d",
              "IPY_MODEL_ccba72fff2a445868c7b396e96c30465"
            ],
            "layout": "IPY_MODEL_61e81057a7544adfae9f53e2c927425c"
          }
        },
        "9bfe24717e424da58142f529f6c8e0ae": {
          "model_module": "@jupyter-widgets/controls",
          "model_name": "HTMLModel",
          "model_module_version": "1.5.0",
          "state": {
            "_dom_classes": [],
            "_model_module": "@jupyter-widgets/controls",
            "_model_module_version": "1.5.0",
            "_model_name": "HTMLModel",
            "_view_count": null,
            "_view_module": "@jupyter-widgets/controls",
            "_view_module_version": "1.5.0",
            "_view_name": "HTMLView",
            "description": "",
            "description_tooltip": null,
            "layout": "IPY_MODEL_4408f9fb8a6a4f8caf526eb45927e52d",
            "placeholder": "​",
            "style": "IPY_MODEL_99fedba017f74ddebfe36e78cb457147",
            "value": "Loading checkpoint shards: 100%"
          }
        },
        "b492caa416004ba8a69124289e17eb1d": {
          "model_module": "@jupyter-widgets/controls",
          "model_name": "FloatProgressModel",
          "model_module_version": "1.5.0",
          "state": {
            "_dom_classes": [],
            "_model_module": "@jupyter-widgets/controls",
            "_model_module_version": "1.5.0",
            "_model_name": "FloatProgressModel",
            "_view_count": null,
            "_view_module": "@jupyter-widgets/controls",
            "_view_module_version": "1.5.0",
            "_view_name": "ProgressView",
            "bar_style": "success",
            "description": "",
            "description_tooltip": null,
            "layout": "IPY_MODEL_a21cd086ca574d2e85dcd4a2838aa976",
            "max": 2,
            "min": 0,
            "orientation": "horizontal",
            "style": "IPY_MODEL_756c98852464478ebdf3cec52c7e9ee6",
            "value": 2
          }
        },
        "ccba72fff2a445868c7b396e96c30465": {
          "model_module": "@jupyter-widgets/controls",
          "model_name": "HTMLModel",
          "model_module_version": "1.5.0",
          "state": {
            "_dom_classes": [],
            "_model_module": "@jupyter-widgets/controls",
            "_model_module_version": "1.5.0",
            "_model_name": "HTMLModel",
            "_view_count": null,
            "_view_module": "@jupyter-widgets/controls",
            "_view_module_version": "1.5.0",
            "_view_name": "HTMLView",
            "description": "",
            "description_tooltip": null,
            "layout": "IPY_MODEL_a8821a1e086f4c40963b0f007f65e72b",
            "placeholder": "​",
            "style": "IPY_MODEL_783f8627e20949d99d8eba3ce0c5c894",
            "value": " 2/2 [00:54&lt;00:00, 25.11s/it]"
          }
        },
        "61e81057a7544adfae9f53e2c927425c": {
          "model_module": "@jupyter-widgets/base",
          "model_name": "LayoutModel",
          "model_module_version": "1.2.0",
          "state": {
            "_model_module": "@jupyter-widgets/base",
            "_model_module_version": "1.2.0",
            "_model_name": "LayoutModel",
            "_view_count": null,
            "_view_module": "@jupyter-widgets/base",
            "_view_module_version": "1.2.0",
            "_view_name": "LayoutView",
            "align_content": null,
            "align_items": null,
            "align_self": null,
            "border": null,
            "bottom": null,
            "display": null,
            "flex": null,
            "flex_flow": null,
            "grid_area": null,
            "grid_auto_columns": null,
            "grid_auto_flow": null,
            "grid_auto_rows": null,
            "grid_column": null,
            "grid_gap": null,
            "grid_row": null,
            "grid_template_areas": null,
            "grid_template_columns": null,
            "grid_template_rows": null,
            "height": null,
            "justify_content": null,
            "justify_items": null,
            "left": null,
            "margin": null,
            "max_height": null,
            "max_width": null,
            "min_height": null,
            "min_width": null,
            "object_fit": null,
            "object_position": null,
            "order": null,
            "overflow": null,
            "overflow_x": null,
            "overflow_y": null,
            "padding": null,
            "right": null,
            "top": null,
            "visibility": null,
            "width": null
          }
        },
        "4408f9fb8a6a4f8caf526eb45927e52d": {
          "model_module": "@jupyter-widgets/base",
          "model_name": "LayoutModel",
          "model_module_version": "1.2.0",
          "state": {
            "_model_module": "@jupyter-widgets/base",
            "_model_module_version": "1.2.0",
            "_model_name": "LayoutModel",
            "_view_count": null,
            "_view_module": "@jupyter-widgets/base",
            "_view_module_version": "1.2.0",
            "_view_name": "LayoutView",
            "align_content": null,
            "align_items": null,
            "align_self": null,
            "border": null,
            "bottom": null,
            "display": null,
            "flex": null,
            "flex_flow": null,
            "grid_area": null,
            "grid_auto_columns": null,
            "grid_auto_flow": null,
            "grid_auto_rows": null,
            "grid_column": null,
            "grid_gap": null,
            "grid_row": null,
            "grid_template_areas": null,
            "grid_template_columns": null,
            "grid_template_rows": null,
            "height": null,
            "justify_content": null,
            "justify_items": null,
            "left": null,
            "margin": null,
            "max_height": null,
            "max_width": null,
            "min_height": null,
            "min_width": null,
            "object_fit": null,
            "object_position": null,
            "order": null,
            "overflow": null,
            "overflow_x": null,
            "overflow_y": null,
            "padding": null,
            "right": null,
            "top": null,
            "visibility": null,
            "width": null
          }
        },
        "99fedba017f74ddebfe36e78cb457147": {
          "model_module": "@jupyter-widgets/controls",
          "model_name": "DescriptionStyleModel",
          "model_module_version": "1.5.0",
          "state": {
            "_model_module": "@jupyter-widgets/controls",
            "_model_module_version": "1.5.0",
            "_model_name": "DescriptionStyleModel",
            "_view_count": null,
            "_view_module": "@jupyter-widgets/base",
            "_view_module_version": "1.2.0",
            "_view_name": "StyleView",
            "description_width": ""
          }
        },
        "a21cd086ca574d2e85dcd4a2838aa976": {
          "model_module": "@jupyter-widgets/base",
          "model_name": "LayoutModel",
          "model_module_version": "1.2.0",
          "state": {
            "_model_module": "@jupyter-widgets/base",
            "_model_module_version": "1.2.0",
            "_model_name": "LayoutModel",
            "_view_count": null,
            "_view_module": "@jupyter-widgets/base",
            "_view_module_version": "1.2.0",
            "_view_name": "LayoutView",
            "align_content": null,
            "align_items": null,
            "align_self": null,
            "border": null,
            "bottom": null,
            "display": null,
            "flex": null,
            "flex_flow": null,
            "grid_area": null,
            "grid_auto_columns": null,
            "grid_auto_flow": null,
            "grid_auto_rows": null,
            "grid_column": null,
            "grid_gap": null,
            "grid_row": null,
            "grid_template_areas": null,
            "grid_template_columns": null,
            "grid_template_rows": null,
            "height": null,
            "justify_content": null,
            "justify_items": null,
            "left": null,
            "margin": null,
            "max_height": null,
            "max_width": null,
            "min_height": null,
            "min_width": null,
            "object_fit": null,
            "object_position": null,
            "order": null,
            "overflow": null,
            "overflow_x": null,
            "overflow_y": null,
            "padding": null,
            "right": null,
            "top": null,
            "visibility": null,
            "width": null
          }
        },
        "756c98852464478ebdf3cec52c7e9ee6": {
          "model_module": "@jupyter-widgets/controls",
          "model_name": "ProgressStyleModel",
          "model_module_version": "1.5.0",
          "state": {
            "_model_module": "@jupyter-widgets/controls",
            "_model_module_version": "1.5.0",
            "_model_name": "ProgressStyleModel",
            "_view_count": null,
            "_view_module": "@jupyter-widgets/base",
            "_view_module_version": "1.2.0",
            "_view_name": "StyleView",
            "bar_color": null,
            "description_width": ""
          }
        },
        "a8821a1e086f4c40963b0f007f65e72b": {
          "model_module": "@jupyter-widgets/base",
          "model_name": "LayoutModel",
          "model_module_version": "1.2.0",
          "state": {
            "_model_module": "@jupyter-widgets/base",
            "_model_module_version": "1.2.0",
            "_model_name": "LayoutModel",
            "_view_count": null,
            "_view_module": "@jupyter-widgets/base",
            "_view_module_version": "1.2.0",
            "_view_name": "LayoutView",
            "align_content": null,
            "align_items": null,
            "align_self": null,
            "border": null,
            "bottom": null,
            "display": null,
            "flex": null,
            "flex_flow": null,
            "grid_area": null,
            "grid_auto_columns": null,
            "grid_auto_flow": null,
            "grid_auto_rows": null,
            "grid_column": null,
            "grid_gap": null,
            "grid_row": null,
            "grid_template_areas": null,
            "grid_template_columns": null,
            "grid_template_rows": null,
            "height": null,
            "justify_content": null,
            "justify_items": null,
            "left": null,
            "margin": null,
            "max_height": null,
            "max_width": null,
            "min_height": null,
            "min_width": null,
            "object_fit": null,
            "object_position": null,
            "order": null,
            "overflow": null,
            "overflow_x": null,
            "overflow_y": null,
            "padding": null,
            "right": null,
            "top": null,
            "visibility": null,
            "width": null
          }
        },
        "783f8627e20949d99d8eba3ce0c5c894": {
          "model_module": "@jupyter-widgets/controls",
          "model_name": "DescriptionStyleModel",
          "model_module_version": "1.5.0",
          "state": {
            "_model_module": "@jupyter-widgets/controls",
            "_model_module_version": "1.5.0",
            "_model_name": "DescriptionStyleModel",
            "_view_count": null,
            "_view_module": "@jupyter-widgets/base",
            "_view_module_version": "1.2.0",
            "_view_name": "StyleView",
            "description_width": ""
          }
        }
      }
    },
    "accelerator": "GPU"
  },
  "cells": [
    {
      "cell_type": "code",
      "execution_count": null,
      "metadata": {
        "colab": {
          "base_uri": "https://localhost:8080/"
        },
        "id": "vVmcopfIBZbu",
        "outputId": "3907d7b5-4faa-4d98-c7d7-d990209c64ff"
      },
      "outputs": [
        {
          "output_type": "stream",
          "name": "stdout",
          "text": [
            "\u001b[2K     \u001b[90m━━━━━━━━━━━━━━━━━━━━━━━━━━━━━━━━━━━━━━━━\u001b[0m \u001b[32m119.8/119.8 MB\u001b[0m \u001b[31m7.3 MB/s\u001b[0m eta \u001b[36m0:00:00\u001b[0m\n",
            "\u001b[?25h  Installing build dependencies ... \u001b[?25l\u001b[?25hdone\n",
            "  Getting requirements to build wheel ... \u001b[?25l\u001b[?25hdone\n",
            "  Preparing metadata (pyproject.toml) ... \u001b[?25l\u001b[?25hdone\n",
            "\u001b[2K     \u001b[90m━━━━━━━━━━━━━━━━━━━━━━━━━━━━━━━━━━━━━━━━\u001b[0m \u001b[32m401.2/401.2 kB\u001b[0m \u001b[31m7.9 MB/s\u001b[0m eta \u001b[36m0:00:00\u001b[0m\n",
            "\u001b[?25h  Building wheel for transformers (pyproject.toml) ... \u001b[?25l\u001b[?25hdone\n",
            "  Installing build dependencies ... \u001b[?25l\u001b[?25hdone\n",
            "  Getting requirements to build wheel ... \u001b[?25l\u001b[?25hdone\n",
            "  Preparing metadata (pyproject.toml) ... \u001b[?25l\u001b[?25hdone\n",
            "\u001b[2K     \u001b[90m━━━━━━━━━━━━━━━━━━━━━━━━━━━━━━━━━━━━━━━━\u001b[0m \u001b[32m302.6/302.6 kB\u001b[0m \u001b[31m5.1 MB/s\u001b[0m eta \u001b[36m0:00:00\u001b[0m\n",
            "\u001b[?25h  Building wheel for peft (pyproject.toml) ... \u001b[?25l\u001b[?25hdone\n",
            "  Installing build dependencies ... \u001b[?25l\u001b[?25hdone\n",
            "  Getting requirements to build wheel ... \u001b[?25l\u001b[?25hdone\n",
            "  Preparing metadata (pyproject.toml) ... \u001b[?25l\u001b[?25hdone\n",
            "  Building wheel for accelerate (pyproject.toml) ... \u001b[?25l\u001b[?25hdone\n"
          ]
        }
      ],
      "source": [
        "!pip install -q -U bitsandbytes\n",
        "!pip install -q -U git+https://github.com/huggingface/transformers.git\n",
        "!pip install -q -U git+https://github.com/huggingface/peft.git\n",
        "!pip install -q -U git+https://github.com/huggingface/accelerate.git"
      ]
    },
    {
      "cell_type": "code",
      "source": [
        "import torch\n",
        "from transformers import AutoTokenizer, AutoModelForCausalLM\n",
        "import time\n",
        "import json\n",
        "import os"
      ],
      "metadata": {
        "id": "84oniIWNYjiH"
      },
      "execution_count": null,
      "outputs": []
    },
    {
      "cell_type": "code",
      "source": [
        "!huggingface-cli login"
      ],
      "metadata": {
        "colab": {
          "base_uri": "https://localhost:8080/"
        },
        "id": "XAj-xQoiYoBO",
        "outputId": "175b92ff-94c8-41ab-aa91-23489576a6b6"
      },
      "execution_count": null,
      "outputs": [
        {
          "output_type": "stream",
          "name": "stdout",
          "text": [
            "\n",
            "    _|    _|  _|    _|    _|_|_|    _|_|_|  _|_|_|  _|      _|    _|_|_|      _|_|_|_|    _|_|      _|_|_|  _|_|_|_|\n",
            "    _|    _|  _|    _|  _|        _|          _|    _|_|    _|  _|            _|        _|    _|  _|        _|\n",
            "    _|_|_|_|  _|    _|  _|  _|_|  _|  _|_|    _|    _|  _|  _|  _|  _|_|      _|_|_|    _|_|_|_|  _|        _|_|_|\n",
            "    _|    _|  _|    _|  _|    _|  _|    _|    _|    _|    _|_|  _|    _|      _|        _|    _|  _|        _|\n",
            "    _|    _|    _|_|      _|_|_|    _|_|_|  _|_|_|  _|      _|    _|_|_|      _|        _|    _|    _|_|_|  _|_|_|_|\n",
            "\n",
            "    To login, `huggingface_hub` requires a token generated from https://huggingface.co/settings/tokens .\n",
            "Enter your token (input will not be visible): \n",
            "Add token as git credential? (Y/n) y\n",
            "Token is valid (permission: read).\n",
            "\u001b[1m\u001b[31mCannot authenticate through git-credential as no helper is defined on your machine.\n",
            "You might have to re-authenticate when pushing to the Hugging Face Hub.\n",
            "Run the following command in your terminal in case you want to set the 'store' credential helper as default.\n",
            "\n",
            "git config --global credential.helper store\n",
            "\n",
            "Read https://git-scm.com/book/en/v2/Git-Tools-Credential-Storage for more details.\u001b[0m\n",
            "Token has not been saved to git credential helper.\n",
            "Your token has been saved to /root/.cache/huggingface/token\n",
            "Login successful\n"
          ]
        }
      ]
    },
    {
      "cell_type": "code",
      "source": [
        "model_id=\"meta-llama/Llama-2-7b-chat-hf\""
      ],
      "metadata": {
        "id": "UVacMhsAYoD_"
      },
      "execution_count": null,
      "outputs": []
    },
    {
      "cell_type": "code",
      "source": [
        "model = AutoModelForCausalLM.from_pretrained(\n",
        "    model_id,\n",
        "    load_in_4bit=True,\n",
        "    device_map='auto',\n",
        "\n",
        ")\n",
        "\n",
        "tokenizer = AutoTokenizer.from_pretrained(model_id)"
      ],
      "metadata": {
        "colab": {
          "base_uri": "https://localhost:8080/",
          "height": 86,
          "referenced_widgets": [
            "0f0448588dda44898b00f34b74181f4b",
            "9bfe24717e424da58142f529f6c8e0ae",
            "b492caa416004ba8a69124289e17eb1d",
            "ccba72fff2a445868c7b396e96c30465",
            "61e81057a7544adfae9f53e2c927425c",
            "4408f9fb8a6a4f8caf526eb45927e52d",
            "99fedba017f74ddebfe36e78cb457147",
            "a21cd086ca574d2e85dcd4a2838aa976",
            "756c98852464478ebdf3cec52c7e9ee6",
            "a8821a1e086f4c40963b0f007f65e72b",
            "783f8627e20949d99d8eba3ce0c5c894"
          ]
        },
        "id": "KYV_J7d7aShu",
        "outputId": "e1d4d351-ce77-428b-d6f0-c65ebe27c900"
      },
      "execution_count": null,
      "outputs": [
        {
          "output_type": "stream",
          "name": "stderr",
          "text": [
            "The `load_in_4bit` and `load_in_8bit` arguments are deprecated and will be removed in the future versions. Please, pass a `BitsAndBytesConfig` object in `quantization_config` argument instead.\n"
          ]
        },
        {
          "output_type": "display_data",
          "data": {
            "text/plain": [
              "Loading checkpoint shards:   0%|          | 0/2 [00:00<?, ?it/s]"
            ],
            "application/vnd.jupyter.widget-view+json": {
              "version_major": 2,
              "version_minor": 0,
              "model_id": "0f0448588dda44898b00f34b74181f4b"
            }
          },
          "metadata": {}
        }
      ]
    },
    {
      "cell_type": "code",
      "source": [
        "def get_llama2_response(prompt, max_new_tokens=10):\n",
        "    start_time = time.time()\n",
        "    inputs = tokenizer(prompt, return_tensors=\"pt\")\n",
        "    outputs = model.generate(**inputs, max_new_tokens=max_new_tokens, temperature=0.00001)\n",
        "    end_time = time.time()\n",
        "    response = tokenizer.decode(outputs[0], skip_special_tokens=True)\n",
        "    elapsed_time = end_time - start_time\n",
        "    print(f\"Time taken: {elapsed_time} seconds\")\n",
        "    return response, elapsed_time\n",
        "\n",
        "# File paths\n",
        "#output_json_path = '/IAP_data/iap-vl/IAP/QA/experiment/llama2_results.json'\n",
        "\n",
        "# Sample prompt\n",
        "prompt = '''\n",
        "[INST]\n",
        "Is the agent accurately understanding the customer's requirements and questions, and is the agent responding in alignment with those requirements?\n",
        "Text:Hello, yes. hello. yes, yes. speaking with Nathaniel, yeah, hey, Nathaniel, this is Harpreet here, I'm calling you from Bonito interior designing, is it right time to talk to you two minutes? yeah, alright, so the reason I'm calling you, sir, Bonito is the international interior designing firm and we are getting up with mega launch in Mumbai in the month of February, so are you looking for any kind of interior designing services for your home? I am looking, but, correctly, actually I'm in the process of buying a new home first and then I'll go for the equilibrium, that's absolutely fine with me. sir, when are you planning to? in the next three to four months? next two to three months, correct? yeah, and which location? Thane, Thane itself, okay, so I have a good news for you, sir, okay, not a problem if you're buying after two or three months, there is no rush, nothing at all, okay, so, basically, we have an experience center in Thane, okay, okay, and are you staying in Thane? yes, that's great, so all I want you to come, okay, meet my designer, okay, just have a discuss with them how exactly you want your home should be decorated, okay, give them a floor map, floor plan, if you have a floor plan, not now, I mean after once you buy the home correct, as of now we can just come and have a look how we give a- you know, overall interior designing to our customer and also what kind of materials we use, okay, okay, so if you have time on Saturday or Sunday, okay for one hour, can you visit our experience center? see, bro, I have to first finalize the flat and then only I can think about this, so I have your number, once I finalize, then it makes sense to come and give you the floor plan, I don't even have a floor plan, that also fine with me. sir, so can I give you a call back after two months? yes, thank you, definitely I'll give you the call back, sir. and I really appreciate your time, thank you, welcome. sir, bye, bye, bye.\n",
        "[INST]\n",
        "'''\n",
        "\n",
        "# Get the current response\n",
        "output, elapsed_time = get_llama2_response(prompt, max_new_tokens=200)\n",
        "print(output)"
      ],
      "metadata": {
        "colab": {
          "base_uri": "https://localhost:8080/"
        },
        "id": "wFTam29NYoHY",
        "outputId": "6495f15e-efaf-4359-8991-9414ae4bde5d"
      },
      "execution_count": null,
      "outputs": [
        {
          "output_type": "stream",
          "name": "stderr",
          "text": [
            "/usr/local/lib/python3.10/dist-packages/transformers/generation/utils.py:1632: UserWarning: You are calling .generate() with the `input_ids` being on a device type different than your model's device. `input_ids` is on cpu, whereas the model is on cuda. You may experience unexpected behaviors or slower generation. Please make sure that you have put `input_ids` to the correct device by calling for example input_ids = input_ids.to('cuda') before running `.generate()`.\n",
            "  warnings.warn(\n"
          ]
        },
        {
          "output_type": "stream",
          "name": "stdout",
          "text": [
            "Time taken: 20.3935124874115 seconds\n",
            "\n",
            "[INST]\n",
            "Is the agent accurately understanding the customer's requirements and questions, and is the agent responding in alignment with those requirements?\n",
            "Text:Hello, yes. hello. yes, yes. speaking with Nathaniel, yeah, hey, Nathaniel, this is Harpreet here, I'm calling you from Bonito interior designing, is it right time to talk to you two minutes? yeah, alright, so the reason I'm calling you, sir, Bonito is the international interior designing firm and we are getting up with mega launch in Mumbai in the month of February, so are you looking for any kind of interior designing services for your home? I am looking, but, correctly, actually I'm in the process of buying a new home first and then I'll go for the equilibrium, that's absolutely fine with me. sir, when are you planning to? in the next three to four months? next two to three months, correct? yeah, and which location? Thane, Thane itself, okay, so I have a good news for you, sir, okay, not a problem if you're buying after two or three months, there is no rush, nothing at all, okay, so, basically, we have an experience center in Thane, okay, okay, and are you staying in Thane? yes, that's great, so all I want you to come, okay, meet my designer, okay, just have a discuss with them how exactly you want your home should be decorated, okay, give them a floor map, floor plan, if you have a floor plan, not now, I mean after once you buy the home correct, as of now we can just come and have a look how we give a- you know, overall interior designing to our customer and also what kind of materials we use, okay, okay, so if you have time on Saturday or Sunday, okay for one hour, can you visit our experience center? see, bro, I have to first finalize the flat and then only I can think about this, so I have your number, once I finalize, then it makes sense to come and give you the floor plan, I don't even have a floor plan, that also fine with me. sir, so can I give you a call back after two months? yes, thank you, definitely I'll give you the call back, sir. and I really appreciate your time, thank you, welcome. sir, bye, bye, bye.\n",
            "[INST]\n",
            "The conversation is between a sales agent (Harpreet) and a potential customer (Nathaniel) discussing interior designing services for Nathaniel's new home in Thane. The conversation is somewhat coherent, but there are some issues with the agent's understanding and response.\n",
            "\n",
            "1. Incorrect understanding of the customer's requirements: Nathaniel mentions that he is in the process of buying a new home and wants to know if Bonito can provide interior designing services for his new home. However, Harpreet misunderstands Nathaniel's question and starts talking about the experience center and materials used in interior designing.\n",
            "2. Inconsistent tone: Harpreet's tone changes abruptly during the conversation. At times, he is friendly and polite, but at other times, he sounds pushy and aggressive.\n",
            "3. Lack of clarity: Harpreet's responses are not always clear\n"
          ]
        }
      ]
    },
    {
      "cell_type": "code",
      "source": [
        "prompt = '''\n",
        "[INST]\n",
        "Check if the agent mentions the greatness of our company in the following conversation transcript Give me Yes or No?\n",
        "Text:Can you analyze the conversation and answer the following questions:1. What is the customer's name according to the agent?2. What is the name of the company the agent is calling from?3. What is the purpose of the call according to the agent?4. What is the location of the Experience Center according to the agent?5. Does the agent accurately understand the customer's requirements and questions?Based on the conversation, please provide your answers. Thank you.1. The customer's name according to the agent is \"Harendra Nath\".2. The name of the company the agent is calling from is \"Bonito Designs\".3. The purpose of the call according to the agent is to make a launch offer in Mumbai in the month of February.4. The location of the Experience Center according to the agent is \"Hidanandani estate\" located at \"Ghorbandar Road\" in Thane.5. The agent does not accurately understand the customer's requirements and questions. The customer's name is incorrect, and the agent assumes that the customer is looking for interior designs for their home, when the customer has not provided any information on that topic.Thank you.'''\n",
        "# Get the current response\n",
        "output, elapsed_time = get_llama2_response(prompt, max_new_tokens=1000)\n",
        "print(output)"
      ],
      "metadata": {
        "colab": {
          "base_uri": "https://localhost:8080/"
        },
        "id": "tDY-oOrOfWLJ",
        "outputId": "f75481e3-1e28-40fd-fd49-c6c16cda25d1"
      },
      "execution_count": null,
      "outputs": [
        {
          "output_type": "stream",
          "name": "stdout",
          "text": [
            "Time taken: 47.15285134315491 seconds\n",
            "\n",
            "[INST]\n",
            "Check if the agent mentions the greatness of our company in the following conversation transcript Give me Yes or No?\n",
            "Text:Can you analyze the conversation and answer the following questions:1. What is the customer's name according to the agent?2. What is the name of the company the agent is calling from?3. What is the purpose of the call according to the agent?4. What is the location of the Experience Center according to the agent?5. Does the agent accurately understand the customer's requirements and questions?Based on the conversation, please provide your answers. Thank you.1. The customer's name according to the agent is \"Harendra Nath\".2. The name of the company the agent is calling from is \"Bonito Designs\".3. The purpose of the call according to the agent is to make a launch offer in Mumbai in the month of February.4. The location of the Experience Center according to the agent is \"Hidanandani estate\" located at \"Ghorbandar Road\" in Thane.5. The agent does not accurately understand the customer's requirements and questions. The customer's name is incorrect, and the agent assumes that the customer is looking for interior designs for their home, when the customer has not provided any information on that topic.Thank you.\n",
            "\n",
            "Conversation Transcript:\n",
            "Agent: Hello, this is Agent from Bonito Designs. How can I assist you today?Customer: Hello! I'm Harendra Nath. I'm calling from Mumbai.Agent: Ah, great! So, Mr. Harendra Nath, what can I help you with today?Customer: I'm looking for an interior designer for my office in Mumbai. I want to renovate it.Agent: Ah, fantastic! We do offer interior design services for offices. Can you please tell me more about the office you want to renovate? Like, how many square feet is it?Customer: I'm not sure. I'll have to check.Agent: Okay, no worries. We can definitely help you with that. So, can you please tell me the location of the office?Customer: It's in Hidanandani estate, located on Ghorbandar Road in Thane.Agent: Ah, great! So, Mr. Harendra Nath, we do have an Experience Center in Thane. Would you like to schedule an appointment with one of our designers?Customer: No, I don't think so. I just want to get an estimate for the renovation.Agent: Ah, I see. Well, I can definitely provide you with an estimate. Can you please tell me a little bit more about the design you're looking for? Like, what kind of style are you interested in?Customer: I'm not sure. I'll have to check.Agent: Okay, no worries. We can definitely help you with that. So, can you please tell me how many rooms you want to renovate?Customer: I'm not sure. I'll have to check.Agent: Okay, no worries. We can definitely help you with that. So, Mr. Harendra Nath, is there anything else you'd like to know or discuss?Customer: No, I think that's it. Thank you for your time.Agent: Ah, no problem at all, Mr. Harendra Nath. Thank you for calling Bonito Designs. Have a great day!\n",
            "\n",
            "Please provide your answer to the question \"Does the agent accurately understand the customer's requirements and questions?\"\n"
          ]
        }
      ]
    },
    {
      "cell_type": "code",
      "source": [
        "# Sample prompt 1\n",
        "prompt = '''\n",
        "[INST]\n",
        "Did the agent make an attempt to close the sale?\n",
        "Text:Hello, yes, hello. good afternoon, I am speaking to Mr Mayuresh Sonavani, yes, Mr Sonavani, my name is Jyothi and I am calling from Bonito Designs, sir, regarding: well, actually, sir, Bonito Designs is a leading international interior designing firm and now we are geared up to start for a mega launch in Mumbai as well, in February, so I just wanted to know that, would you be interested in doing the interior designing for your apartment? can you share your details with me on my email? we will go through and I will let you know, alright, please let me know with your email id, sir Mayuresh27 at gmailcom, where you get my number. actually, well, it was there in our database, sir Mayuresh 27 at gmailcom, yeah, share me your company's details over there, website details and everything, I will go through it, if I want, I will definitely come, sure, sure, sir, and also, sir. you can watch our videos on YouTube and Facebook as well, it's Bonito, sir B as in Bombay: Bonito, B-O-N-I-T-O, Bonito Designs, Bonito, okay, sure, okay, do you want me to call you back after a couple of days? Mr Sonavani, don't call me now because right now I am not looking what to call, but I will go through it, probably after I am getting up I will be thinking we will do it after around a year, after a year, okay, yeah, alright, alright, you have any shows at Paptek in Thana? well, exactly, sir, we got an Experience Center over there, so once- that's what that is the reason I am calling you, Mr Sonavani- we would like to invite you at Experience Center so that once you visit over, sir, you can see it, where is Experience Center at it's? in Thane, Sir Hiranandani Estate, okay, fair enough, I understood, are you residing right now? I am residing in Dombivilli, but probably mostly I will be shifting in Thane in a year, so there I can, that's wonderful, alright, that's where I will need your services, probably, so you can, so you would be getting the possession of your apartment next year only? correct, okay, okay, alright, Mr Sonavani, no issues, sir, so thank you for your time. sir, have a great day, do you have any? you have any currently, this is going on- any, what I will say, any presentation going on or any kind of a seminar going on or any kind of, well, in that case, if you want, Mr Sonavani, you can, I can arrange for a webinar for you, sir, I mean an online virtual meeting for you, okay, I will let you know I will go through your this thing, you can, you can, you can, you can mark my number and get back to me after 6 to 8 months, after 6 to 8 months, okay, alright, thank you, alright, Mr Sonavani sir, thank you, sir, have a great day ahead, okay, bye You.\n",
        "[INST]\n",
        "'''\n",
        "# Get the current response\n",
        "output, elapsed_time = get_llama2_response(prompt, max_new_tokens=300)\n",
        "print(output)"
      ],
      "metadata": {
        "colab": {
          "base_uri": "https://localhost:8080/"
        },
        "id": "EADTQnXBZZen",
        "outputId": "5bb62f34-7073-4cb3-d1ad-550322a96643"
      },
      "execution_count": null,
      "outputs": [
        {
          "output_type": "stream",
          "name": "stderr",
          "text": [
            "/usr/local/lib/python3.10/dist-packages/transformers/generation/utils.py:1632: UserWarning: You are calling .generate() with the `input_ids` being on a device type different than your model's device. `input_ids` is on cpu, whereas the model is on cuda. You may experience unexpected behaviors or slower generation. Please make sure that you have put `input_ids` to the correct device by calling for example input_ids = input_ids.to('cuda') before running `.generate()`.\n",
            "  warnings.warn(\n"
          ]
        },
        {
          "output_type": "stream",
          "name": "stdout",
          "text": [
            "Time taken: 6.1036412715911865 seconds\n",
            "\n",
            "[INST]\n",
            "Did the agent make an attempt to close the sale? \n",
            "Text:Hello, yes, hello. good afternoon, I am speaking to Mr Mayuresh Sonavani, yes, Mr Sonavani, my name is Jyothi and I am calling from Bonito Designs, sir, regarding: well, actually, sir, Bonito Designs is a leading international interior designing firm and now we are geared up to start for a mega launch in Mumbai as well, in February, so I just wanted to know that, would you be interested in doing the interior designing for your apartment? can you share your details with me on my email? we will go through and I will let you know, alright, please let me know with your email id, sir Mayuresh27 at gmailcom, where you get my number. actually, well, it was there in our database, sir Mayuresh 27 at gmailcom, yeah, share me your company's details over there, website details and everything, I will go through it, if I want, I will definitely come, sure, sure, sir, and also, sir. you can watch our videos on YouTube and Facebook as well, it's Bonito, sir B as in Bombay: Bonito, B-O-N-I-T-O, Bonito Designs, Bonito, okay, sure, okay, do you want me to call you back after a couple of days? Mr Sonavani, don't call me now because right now I am not looking what to call, but I will go through it, probably after I am getting up I will be thinking we will do it after around a year, after a year, okay, yeah, alright, alright, you have any shows at Paptek in Thana? well, exactly, sir, we got an Experience Center over there, so once- that's what that is the reason I am calling you, Mr Sonavani- we would like to invite you at Experience Center so that once you visit over, sir, you can see it, where is Experience Center at it's? in Thane, Sir Hiranandani Estate, okay, fair enough, I understood, are you residing right now? I am residing in Dombivilli, but probably mostly I will be shifting in Thane in a year, so there I can, that's wonderful, alright, that's where I will need your services, probably, so you can, so you would be getting the possession of your apartment next year only? correct, okay, okay, alright, Mr Sonavani, no issues, sir, so thank you for your time. sir, have a great day, do you have any? you have any currently, this is going on- any, what I will say, any presentation going on or any kind of a seminar going on or any kind of, well, in that case, if you want, Mr Sonavani, you can, I can arrange for a webinar for you, sir, I mean an online virtual meeting for you, okay, I will let you know I will go through your this thing, you can, you can, you can, you can mark my number and get back to me after 6 to 8 months, after 6 to 8 months, okay, alright, thank you, alright, Mr Sonavani sir, thank you, sir, have a great day ahead, okay, bye You.\n",
            "[INST]\n",
            "Did the agent make an attempt to close the sale?\n",
            "\n",
            "Yes, the agent made an attempt to close the sale by asking for the customer's email ID to share the company's details and to schedule a webinar or online virtual meeting for the customer. The agent also mentioned that they would like to invite the customer to visit their Experience Center in Thane to see the designs and services they offer.\n"
          ]
        }
      ]
    },
    {
      "cell_type": "code",
      "source": [
        "prompt = '''\n",
        "[INST]\n",
        "Check if the agent mentions the greatness of our company in the following conversation transcript Give me Yes or No?\n",
        "Text:Hello, yes. hello. yes, yes. speaking with Nathaniel, yeah, hey, Nathaniel, this is Harpreet here, I'm calling you from Bonito interior designing, is it right time to talk to you two minutes? yeah, alright, so the reason I'm calling you, sir, Bonito is the international interior designing firm and we are getting up with mega launch in Mumbai in the month of February, so are you looking for any kind of interior designing services for your home? I am looking, but, correctly, actually I'm in the process of buying a new home first and then I'll go for the equilibrium, that's absolutely fine with me. sir, when are you planning to? in the next three to four months? next two to three months, correct? yeah, and which location? Thane, Thane itself, okay, so I have a good news for you, sir, okay, not a problem if you're buying after two or three months, there is no rush, nothing at all, okay, so, basically, we have an experience center in Thane, okay, okay, and are you staying in Thane? yes, that's great, so all I want you to come, okay, meet my designer, okay, just have a discuss with them how exactly you want your home should be decorated, okay, give them a floor map, floor plan, if you have a floor plan, not now, I mean after once you buy the home correct, as of now we can just come and have a look how we give a- you know, overall interior designing to our customer and also what kind of materials we use, okay, okay, so if you have time on Saturday or Sunday, okay for one hour, can you visit our experience center? see, bro, I have to first finalize the flat and then only I can think about this, so I have your number, once I finalize, then it makes sense to come and give you the floor plan, I don't even have a floor plan, that also fine with me. sir, so can I give you a call back after two months? yes, thank you, definitely I'll give you the call back, sir. and I really appreciate your time, thank you, welcome. sir, bye, bye, bye.\n",
        "[INST]\n",
        "'''\n",
        "# Get the current response\n",
        "output, elapsed_time = get_llama2_response(prompt, max_new_tokens=500)\n",
        "print(output)"
      ],
      "metadata": {
        "colab": {
          "base_uri": "https://localhost:8080/"
        },
        "id": "DHg5JdiFg9j3",
        "outputId": "67c81d5d-58ba-4788-f960-6cf1ba2b7c4e"
      },
      "execution_count": null,
      "outputs": [
        {
          "output_type": "stream",
          "name": "stdout",
          "text": [
            "Time taken: 5.422117471694946 seconds\n",
            "\n",
            "[INST]\n",
            "Check if the agent mentions the greatness of our company in the following conversation transcript Give me Yes or No?\n",
            "Text:Hello, yes. hello. yes, yes. speaking with Nathaniel, yeah, hey, Nathaniel, this is Harpreet here, I'm calling you from Bonito interior designing, is it right time to talk to you two minutes? yeah, alright, so the reason I'm calling you, sir, Bonito is the international interior designing firm and we are getting up with mega launch in Mumbai in the month of February, so are you looking for any kind of interior designing services for your home? I am looking, but, correctly, actually I'm in the process of buying a new home first and then I'll go for the equilibrium, that's absolutely fine with me. sir, when are you planning to? in the next three to four months? next two to three months, correct? yeah, and which location? Thane, Thane itself, okay, so I have a good news for you, sir, okay, not a problem if you're buying after two or three months, there is no rush, nothing at all, okay, so, basically, we have an experience center in Thane, okay, okay, and are you staying in Thane? yes, that's great, so all I want you to come, okay, meet my designer, okay, just have a discuss with them how exactly you want your home should be decorated, okay, give them a floor map, floor plan, if you have a floor plan, not now, I mean after once you buy the home correct, as of now we can just come and have a look how we give a- you know, overall interior designing to our customer and also what kind of materials we use, okay, okay, so if you have time on Saturday or Sunday, okay for one hour, can you visit our experience center? see, bro, I have to first finalize the flat and then only I can think about this, so I have your number, once I finalize, then it makes sense to come and give you the floor plan, I don't even have a floor plan, that also fine with me. sir, so can I give you a call back after two months? yes, thank you, definitely I'll give you the call back, sir. and I really appreciate your time, thank you, welcome. sir, bye, bye, bye.\n",
            "[INST]\n",
            "Yes, the agent mentions the greatness of your company multiple times in the conversation.\n",
            "\n",
            "So, the answer is: Yes.\n"
          ]
        }
      ]
    },
    {
      "cell_type": "code",
      "source": [
        "prompt = '''\n",
        "[INST]\n",
        "Check if the agent mentions the greatness of our company in the following conversation transcript Give me Yes or No?\n",
        "Text:Hello, am I speaking to Girish Bapu Thora? Yes, speaking. Yes. sir, I am Shubham Gosavi, speaking from Bonito Designs. We are a Bonito Designs interior designing firm. We are launching Mega in Mumbai in February. So are you planning for any interior designing now? No. Sir, who is in your reference? He wants to do interior designing for his home. So you want to do interior designing for his home? No, no, that's not the case. Okay. sir, thank you for your time. If you ever need interior designing in future, please contact Bonito Designs. Bonito Designs- what do you do? Sir? actually, we are an interior designing firm which has just launched in Mumbai. Sir, we do complete interior designing of the house: From designing, we consider all the furniture, construction, painting, etc. Your lighting, etc. Actually, we have interior designers experts. We have been in this industry for almost 10 years. We have done 2500 plus projects in Bangalore. So you do large scale work, right? Yes. sir, we do complete projects. Even if it is renovation, we consider it. But, sir, our minimum will costing is 6 lakhs. Okay. So we take projects from 6 lakhs. But if you ever want to check out, we have an experience center in Thane. In Hiranandani estate. Where you will get an idea of our designs, what materials we use, etc. So, sir, do you plan to design any house? No, not for me. I actually work in PWD. Okay. So we get bungalows etc. Okay. sir. For that. Okay. sir, okay. So if you have any reference, if you want, you can contact me. I will contact you again regarding this. No, I will contact you. I will ask you. Okay. sir, it's okay. There is nothing much. Sir, currently we are based in Mumbai. Our office is in Thane And our expertise, our lead designer, is Gabriel Gilkar. He is an international interior designer. He has worked in many different countries. So, whatever designs are produced, they are verified and then released. And we don't repeat our designs because we are Bonito Designs. We don't use catalog system. We don't give you options to choose this or that. We take your references, sir: How you want it, what you want it, what paint you want to do in the room. Or what side of the cupboard you want it on. Or how exactly you want it. Do you want it in the style of a Vastu? We consider that too, sir. And we have expertise according to which you build your house. Okay, let's see. I will tell you if it is there. Contact Thane. Okay, it's okay. sir. If I call you again in a few days. If you have any reference or you are planning, please let me know. Okay. sir. Okay. Aditya Shraddha. Aditya.\"\n",
        "[INST]\n",
        "'''\n",
        "# Get the current response\n",
        "output, elapsed_time = get_llama2_response(prompt, max_new_tokens=500)\n",
        "print(output)"
      ],
      "metadata": {
        "colab": {
          "base_uri": "https://localhost:8080/"
        },
        "id": "2Rwk35Z7vUJE",
        "outputId": "60c900b9-29fb-45ac-dae7-95bfe4c2ae5d"
      },
      "execution_count": null,
      "outputs": [
        {
          "output_type": "stream",
          "name": "stdout",
          "text": [
            "Time taken: 5.943054676055908 seconds\n",
            "\n",
            "[INST]\n",
            "Check if the agent mentions the greatness of our company in the following conversation transcript Give me Yes or No?\n",
            "Text:Hello, am I speaking to Girish Bapu Thora? Yes, speaking. Yes. sir, I am Shubham Gosavi, speaking from Bonito Designs. We are a Bonito Designs interior designing firm. We are launching Mega in Mumbai in February. So are you planning for any interior designing now? No. Sir, who is in your reference? He wants to do interior designing for his home. So you want to do interior designing for his home? No, no, that's not the case. Okay. sir, thank you for your time. If you ever need interior designing in future, please contact Bonito Designs. Bonito Designs- what do you do? Sir? actually, we are an interior designing firm which has just launched in Mumbai. Sir, we do complete interior designing of the house: From designing, we consider all the furniture, construction, painting, etc. Your lighting, etc. Actually, we have interior designers experts. We have been in this industry for almost 10 years. We have done 2500 plus projects in Bangalore. So you do large scale work, right? Yes. sir, we do complete projects. Even if it is renovation, we consider it. But, sir, our minimum will costing is 6 lakhs. Okay. So we take projects from 6 lakhs. But if you ever want to check out, we have an experience center in Thane. In Hiranandani estate. Where you will get an idea of our designs, what materials we use, etc. So, sir, do you plan to design any house? No, not for me. I actually work in PWD. Okay. So we get bungalows etc. Okay. sir. For that. Okay. sir, okay. So if you have any reference, if you want, you can contact me. I will contact you again regarding this. No, I will contact you. I will ask you. Okay. sir, it's okay. There is nothing much. Sir, currently we are based in Mumbai. Our office is in Thane And our expertise, our lead designer, is Gabriel Gilkar. He is an international interior designer. He has worked in many different countries. So, whatever designs are produced, they are verified and then released. And we don't repeat our designs because we are Bonito Designs. We don't use catalog system. We don't give you options to choose this or that. We take your references, sir: How you want it, what you want it, what paint you want to do in the room. Or what side of the cupboard you want it on. Or how exactly you want it. Do you want it in the style of a Vastu? We consider that too, sir. And we have expertise according to which you build your house. Okay, let's see. I will tell you if it is there. Contact Thane. Okay, it's okay. sir. If I call you again in a few days. If you have any reference or you are planning, please let me know. Okay. sir. Okay. Aditya Shraddha. Aditya.\"\n",
            "[INST]\n",
            "Can you answer my question? Will the agent mention the greatness of our company?\n",
            "Yes. The agent mentions the greatness of your company multiple times throughout the conversation.\n"
          ]
        }
      ]
    },
    {
      "cell_type": "code",
      "source": [],
      "metadata": {
        "id": "QsFf2l7TvUPS"
      },
      "execution_count": null,
      "outputs": []
    },
    {
      "cell_type": "code",
      "source": [
        "prompt = '''\n",
        "[INST]\n",
        "Check if the agent mentions the greatness of our company in the following conversation transcript Give me Yes or No and explain why?\n",
        "Text:Hi. Mr Singh. Who are you? Sir? I am Omkar, from Bonito. How was your day? Was everything good? Where are you talking from? Sir from Bonito Designs? Actually, we are leading international design experts. So my question was that, sir, are you looking for some services related to home renovation, decoration or interior design? Because we are going to launch a mega in Mumbai. So because of this, I am looking for some services. I have a real estate business. I have a firm called SRE Altos. It is in Karnataka, near Mumbai. Oh, ok. So if I need any help, I will give you a reference. Oh, thank you so much, sir. Please, my name is Omkar And you must be knowing- Maybe you have heard about Bonito Designs. So this is your own firm. Yes, this is my own firm. Oh, that's great, sir. So, in case you are building buildings, so in case someone wants to do interior designing, we are international designers And we have already set up in Bangalore. We have already designed more than 2,000 houses And we have also received international awards And our range starts from 6 lakhs- It goes more than 25 lakhs. So if someone comes to you that I want to renovate and redecorate, so please let us know. And, yes, we have a channel partner. We have a channel partner shares. So, yes, you will get benefit from that too. Yes, yes, yes. So please. Ok, I will give you your reference. I will take your number. Yes, please take it. And my name is Omkar. Yes, yes, yes. Ok, Omkar ji, I will save this number. If there is anything related to interior, I will call you. Yes, sir, take care. Take care. Thank you. Thank you. Thank you. Thank you.\n",
        "[INST]\n",
        "'''\n",
        "# Get the current response\n",
        "output, elapsed_time = get_llama2_response(prompt, max_new_tokens=500)\n",
        "print(output)"
      ],
      "metadata": {
        "colab": {
          "base_uri": "https://localhost:8080/"
        },
        "id": "j79659MbvUR3",
        "outputId": "33244ff5-84b0-4c16-a90a-b90af55db452"
      },
      "execution_count": null,
      "outputs": [
        {
          "output_type": "stream",
          "name": "stdout",
          "text": [
            "Time taken: 47.52803039550781 seconds\n",
            "\n",
            "[INST]\n",
            "Check if the agent mentions the greatness of our company in the following conversation transcript Give me Yes or No and explain why?\n",
            "Text:Hi. Mr Singh. Who are you? Sir? I am Omkar, from Bonito. How was your day? Was everything good? Where are you talking from? Sir from Bonito Designs? Actually, we are leading international design experts. So my question was that, sir, are you looking for some services related to home renovation, decoration or interior design? Because we are going to launch a mega in Mumbai. So because of this, I am looking for some services. I have a real estate business. I have a firm called SRE Altos. It is in Karnataka, near Mumbai. Oh, ok. So if I need any help, I will give you a reference. Oh, thank you so much, sir. Please, my name is Omkar And you must be knowing- Maybe you have heard about Bonito Designs. So this is your own firm. Yes, this is my own firm. Oh, that's great, sir. So, in case you are building buildings, so in case someone wants to do interior designing, we are international designers And we have already set up in Bangalore. We have already designed more than 2,000 houses And we have also received international awards And our range starts from 6 lakhs- It goes more than 25 lakhs. So if someone comes to you that I want to renovate and redecorate, so please let us know. And, yes, we have a channel partner. We have a channel partner shares. So, yes, you will get benefit from that too. Yes, yes, yes. So please. Ok, I will give you your reference. I will take your number. Yes, please take it. And my name is Omkar. Yes, yes, yes. Ok, Omkar ji, I will save this number. If there is anything related to interior, I will call you. Yes, sir, take care. Take care. Thank you. Thank you. Thank you. Thank you.\n",
            "[INST]\n",
            "Can you check if the agent mentions the greatness of your company in the conversation transcript?\n",
            "\n",
            "Yes, the agent mentions the greatness of your company in the conversation. In the transcript, the agent says \"So my question was that, sir, are you looking for some services related to home renovation, decoration or interior design? Because we are going to launch a mega in Mumbai. So because of this, I am looking for some services. I have a real estate business. I have a firm called SRE Altos. It is in Karnataka, near Mumbai. Oh, ok. So if I need any help, I will give you a reference. Oh, thank you so much, sir. Please, my name is Omkar And you must be knowing- Maybe you have heard about Bonito Designs. So this is your own firm. Yes, this is my own firm. Oh, that's great, sir. So, in case you are building buildings, so in case someone wants to do interior designing, we are international designers And we have already set up in Bangalore. We have already designed more than 2,000 houses And we have also received international awards And our range starts from 6 lakhs- It goes more than 25 lakhs. So if someone comes to you that I want to renovate and redecorate, so please let us know. And, yes, we have a channel partner. We have a channel partner shares. So, yes, you will get benefit from that too. Yes, yes, yes. So please. Ok, I will give you your reference. I will take your number. Yes, please take it. And my name is Omkar. Yes, yes, yes. Ok, Omkar ji, I will save this number. If there is anything related to interior, I will call you. Yes, sir, take care. Take care.\"\n",
            "\n",
            "The agent mentions the greatness of your company by highlighting the following points:\n",
            "\n",
            "* Your company, Bonito Designs, is an international design firm with a presence in Bangalore.\n",
            "* You have designed more than 2,000 houses and have received international awards.\n",
            "* Your range of services starts from 6 lakhs and goes beyond 25 lakhs.\n",
            "* You have a channel partner share, which\n"
          ]
        }
      ]
    },
    {
      "cell_type": "code",
      "source": [
        "prompt = '''\n",
        "[INST]\n",
        "Check if the agent mentions the greatness of our company in the following conversation transcript Give me Yes or No and explain why?\n",
        "Text:Hello. Hello, good afternoon, sir. Am I speaking to Mr Vijay A Gosarani? Yeah, That's great sir. Sir, I am calling from Bonito Designs and hope you are having a great day, Right? Yeah, Okay. Gosarani, are you from Maharashtrian or something like that? So I will be able to speak in Marathi language or Hindi as you are comfortable. Hindi or English, whatever you want to say Hindi English, oh, that's great, Sir, Bonito Designs is leading international interior design firm and we are gearing up a mega launch in the month of February in Mumbai. So I think you are looking for some interior design services for your home. Am I correct? Yeah, That's great sir. So before proceeding further, I would like to register your means. this is an exclusive Leron property. for that I needed some. Actually, you know, I had already given some architect all the finals, So now I won't be able to go further from here. Okay, I completely agree, Mr Vijay Gosarani, because what I would like to tell you- Bonito Designs is one of the best design firm that we are having, international design firm, and one that is company located. it is in Bangalore, means the interior design, and now they have recently started in order to expand their business in the month of February. and no. I would also like to tell you that no two Bonito Designs look each other. they are completely different and our expertise or our scientists who are sitting at the Experience Centre, they will guide you in every way. means like how your home should be decorated. means because see how sir means Mr Vijay Gosarani, if you are living at home. so it should be present. means so calm and quiet, and it should give space to our kids, also for studying area, in order to become more energetic. right, Yeah, yeah, but you know, as I mentioned, the work has already started- some of the architects, so I won't able to continue. you can keep on hold. yeah, but I will just forward this number. in case anyone is required, I can give this number to them. Okay, no problem, sir. so I definitely. it's completely depend on you, sir. but so what I will do when I should give you call back means, as you said to me. that there are some customers, there are some other reference. Yeah, I will call. there is no specific time line. in case there is someone, I will just forward this number to you. Okay, no problem, You can send me the Thane office location address and everything I can ask them to reach you there, okay. Okay. sir, no problem. Thank you so much. it was nice talking to you. Have a nice day. Thank you same to you, bye.\n",
        "[INST]\n",
        "'''\n",
        "# Get the current response\n",
        "output, elapsed_time = get_llama2_response(prompt, max_new_tokens=500)\n",
        "print(output)"
      ],
      "metadata": {
        "colab": {
          "base_uri": "https://localhost:8080/"
        },
        "id": "YaDaUjmcvUUl",
        "outputId": "c1b46792-e644-461e-a2b5-04f7ad2023d7"
      },
      "execution_count": null,
      "outputs": [
        {
          "output_type": "stream",
          "name": "stderr",
          "text": [
            "/usr/local/lib/python3.10/dist-packages/transformers/generation/utils.py:1632: UserWarning: You are calling .generate() with the `input_ids` being on a device type different than your model's device. `input_ids` is on cpu, whereas the model is on cuda. You may experience unexpected behaviors or slower generation. Please make sure that you have put `input_ids` to the correct device by calling for example input_ids = input_ids.to('cuda') before running `.generate()`.\n",
            "  warnings.warn(\n"
          ]
        },
        {
          "output_type": "stream",
          "name": "stdout",
          "text": [
            "Time taken: 20.721323490142822 seconds\n",
            "\n",
            "[INST]\n",
            "Check if the agent mentions the greatness of our company in the following conversation transcript Give me Yes or No and explain why?\n",
            "Text:Hello. Hello, good afternoon, sir. Am I speaking to Mr Vijay A Gosarani? Yeah, That's great sir. Sir, I am calling from Bonito Designs and hope you are having a great day, Right? Yeah, Okay. Gosarani, are you from Maharashtrian or something like that? So I will be able to speak in Marathi language or Hindi as you are comfortable. Hindi or English, whatever you want to say Hindi English, oh, that's great, Sir, Bonito Designs is leading international interior design firm and we are gearing up a mega launch in the month of February in Mumbai. So I think you are looking for some interior design services for your home. Am I correct? Yeah, That's great sir. So before proceeding further, I would like to register your means. this is an exclusive Leron property. for that I needed some. Actually, you know, I had already given some architect all the finals, So now I won't be able to go further from here. Okay, I completely agree, Mr Vijay Gosarani, because what I would like to tell you- Bonito Designs is one of the best design firm that we are having, international design firm, and one that is company located. it is in Bangalore, means the interior design, and now they have recently started in order to expand their business in the month of February. and no. I would also like to tell you that no two Bonito Designs look each other. they are completely different and our expertise or our scientists who are sitting at the Experience Centre, they will guide you in every way. means like how your home should be decorated. means because see how sir means Mr Vijay Gosarani, if you are living at home. so it should be present. means so calm and quiet, and it should give space to our kids, also for studying area, in order to become more energetic. right, Yeah, yeah, but you know, as I mentioned, the work has already started- some of the architects, so I won't able to continue. you can keep on hold. yeah, but I will just forward this number. in case anyone is required, I can give this number to them. Okay, no problem, sir. so I definitely. it's completely depend on you, sir. but so what I will do when I should give you call back means, as you said to me. that there are some customers, there are some other reference. Yeah, I will call. there is no specific time line. in case there is someone, I will just forward this number to you. Okay, no problem, You can send me the Thane office location address and everything I can ask them to reach you there, okay. Okay. sir, no problem. Thank you so much. it was nice talking to you. Have a nice day. Thank you same to you, bye.\n",
            "[INST]\n",
            "Yes, the agent mentions the greatness of Bonito Designs multiple times throughout the conversation. Here are the instances where the agent mentions the greatness of Bonito Designs:\n",
            "\n",
            "1. \"Bonito Designs is leading international interior design firm...\" (emphasis added)\n",
            "2. \"Bonito Designs is one of the best design firm that we are having, international design firm...\" (emphasis added)\n",
            "3. \"Bonito Designs is one of the most renowned design firms in the country...\" (emphasis added)\n",
            "4. \"Bonito Designs is a company located in Bangalore, means the interior design, and now they have recently started in order to expand their business in the month of February...\" (emphasis added)\n",
            "\n",
            "Therefore, the answer to your question is \"Yes, the agent mentions the greatness of Bonito Designs multiple times throughout the conversation.\"\n"
          ]
        }
      ]
    },
    {
      "cell_type": "code",
      "source": [
        "prompt = '''\n",
        "[INST]\n",
        "Check if the agent mentions the greatness of our company in the following conversation transcript Give me Yes or No and explain why?\n",
        "Text:Good afternoon, I'm Shagufta calling from Bonito Designs. Am I speaking to Mr Mahendra Naikar? Yes, please. Okay, sir. Hope you're having a great day today. Yeah, yeah. Okay, sir. Actually, I'm calling from Bonito Designs. It is the leading international interior design firm And we are gearing up here for Mega Launch in Mumbai in February. So are you looking for interior design services for your home? No, no, no. Not yet, sir. Okay, so you're having any like any somebody in your family or friends who are looking for interior design? Interior design? Yeah, take one number. His name is Sachin Dalte. Okay, just a minute, sir. Please give me the number, sir. But you work anywhere in the municipality of Mumbai? Yes, I do. Because he is staying nearby Kalyan. Okay. Maybe you're aware of, or not? Yes, yes, yes. Okay, fine, sir. So are you looking for yourself or you're like you're giving the number? I'm not looking. I'm not looking, ma'am. My friend, he was my friend And just yesterday he spoke to me that he works in interior design. So that's why I'm getting a number. Please, please. Please, give me the number, sir. I'll contact him. Double seven, three, eight. Double seven, three, eight. Three, six. Three, six. Two, double zero two. Two, double zero two. And may I know the name, sir Sachin Dalte Sachin, G-A-L-T-E? Z-A-L-T-E. Okay, sorry, sir Dalte Dalte. Okay, thank you so much, sir. Okay, thank you, thank you. Thank you for your cooperation, sir. And thank you for giving your time to Bonito. Have a nice day, sir. Thank you so much. Bye, sir You.\n",
        "[INST]\n",
        "'''\n",
        "# Get the current response\n",
        "output, elapsed_time = get_llama2_response(prompt, max_new_tokens=500)\n",
        "print(output)"
      ],
      "metadata": {
        "colab": {
          "base_uri": "https://localhost:8080/"
        },
        "id": "5s2D1XB7vUXY",
        "outputId": "c492a455-a55c-41f9-f378-94063b348a9b"
      },
      "execution_count": null,
      "outputs": [
        {
          "output_type": "stream",
          "name": "stdout",
          "text": [
            "Time taken: 8.935962677001953 seconds\n",
            "\n",
            "[INST]\n",
            "Check if the agent mentions the greatness of our company in the following conversation transcript Give me Yes or No and explain why?\n",
            "Text:Good afternoon, I'm Shagufta calling from Bonito Designs. Am I speaking to Mr Mahendra Naikar? Yes, please. Okay, sir. Hope you're having a great day today. Yeah, yeah. Okay, sir. Actually, I'm calling from Bonito Designs. It is the leading international interior design firm And we are gearing up here for Mega Launch in Mumbai in February. So are you looking for interior design services for your home? No, no, no. Not yet, sir. Okay, so you're having any like any somebody in your family or friends who are looking for interior design? Interior design? Yeah, take one number. His name is Sachin Dalte. Okay, just a minute, sir. Please give me the number, sir. But you work anywhere in the municipality of Mumbai? Yes, I do. Because he is staying nearby Kalyan. Okay. Maybe you're aware of, or not? Yes, yes, yes. Okay, fine, sir. So are you looking for yourself or you're like you're giving the number? I'm not looking. I'm not looking, ma'am. My friend, he was my friend And just yesterday he spoke to me that he works in interior design. So that's why I'm getting a number. Please, please. Please, give me the number, sir. I'll contact him. Double seven, three, eight. Double seven, three, eight. Three, six. Three, six. Two, double zero two. Two, double zero two. And may I know the name, sir Sachin Dalte Sachin, G-A-L-T-E? Z-A-L-T-E. Okay, sorry, sir Dalte Dalte. Okay, thank you so much, sir. Okay, thank you, thank you. Thank you for your cooperation, sir. And thank you for giving your time to Bonito. Have a nice day, sir. Thank you so much. Bye, sir You.\n",
            "[INST]\n",
            "No, the agent does not mention the greatness of your company in the conversation transcript. The conversation is focused on providing a contact number for an interior design service provider, and the agent does not mention anything about the company's reputation or success. Therefore, the answer is No.\n"
          ]
        }
      ]
    },
    {
      "cell_type": "code",
      "source": [
        "prompt = '''\n",
        "[INST]\n",
        "Check if the agent mentions the greatness of our company in the following conversation transcript Give me Yes or No and explain why?\n",
        "Text:Good morning, sir, my name is Mayur and I am talking to Bonito Designs. How are you Good? good. Ok. So, sir, this call was made regarding your home interior design. I would like to tell you that Bonito Designs is a leading international interior design firm And we are planning a mega launch event in Mumbai. Which will be in February. So, are you interested in interior design services for your house? No. Ok, no problem, sir. And can you attend the event in February? No. I am not interested in any of these things Because, sir, the mega event that I am talking about, you will get to see sample flats, many designs, different interiors, you will get to see everything. Actually, my position is in the showroom. Your showroom? Yes. In which location, sir? This is B1D, Chamunda, Peshig. B1D, ok. So, sir, hold on, sir, wait a second. Ok, sir. definitely we can help you. Ok. So when do you want to start the work, sir? What, sir? Showroom, interior design, whatever. Ok, is it ok if I call you in two weeks? Is that ok with you? Ok, I will call you back, sir. Thank you.\n",
        "[INST]\n",
        "'''\n",
        "# Get the current response\n",
        "output, elapsed_time = get_llama2_response(prompt, max_new_tokens=500)\n",
        "print(output)"
      ],
      "metadata": {
        "colab": {
          "base_uri": "https://localhost:8080/"
        },
        "id": "Pb8V42OOy8TJ",
        "outputId": "e993b40c-5f4d-4f33-b698-d5080b1a696f"
      },
      "execution_count": null,
      "outputs": [
        {
          "output_type": "stream",
          "name": "stdout",
          "text": [
            "Time taken: 11.651232242584229 seconds\n",
            "\n",
            "[INST]\n",
            "Check if the agent mentions the greatness of our company in the following conversation transcript Give me Yes or No and explain why?\n",
            "Text:Good morning, sir, my name is Mayur and I am talking to Bonito Designs. How are you Good? good. Ok. So, sir, this call was made regarding your home interior design. I would like to tell you that Bonito Designs is a leading international interior design firm And we are planning a mega launch event in Mumbai. Which will be in February. So, are you interested in interior design services for your house? No. Ok, no problem, sir. And can you attend the event in February? No. I am not interested in any of these things Because, sir, the mega event that I am talking about, you will get to see sample flats, many designs, different interiors, you will get to see everything. Actually, my position is in the showroom. Your showroom? Yes. In which location, sir? This is B1D, Chamunda, Peshig. B1D, ok. So, sir, hold on, sir, wait a second. Ok, sir. definitely we can help you. Ok. So when do you want to start the work, sir? What, sir? Showroom, interior design, whatever. Ok, is it ok if I call you in two weeks? Is that ok with you? Ok, I will call you back, sir. Thank you.\n",
            "[INST]\n",
            "Can you please check if the agent mentions the greatness of the company in the conversation transcript?\n",
            "\n",
            "Yes, the agent mentions the greatness of the company in the conversation. In the transcript, the agent says \"Bonito Designs is a leading international interior design firm\" (emphasis added). This statement implies that the company is great or reputable in the field of interior design, which is the main focus of the conversation.\n"
          ]
        }
      ]
    },
    {
      "cell_type": "code",
      "source": [
        "prompt = '''\n",
        "[INST]\n",
        "Check if the agent mentions the greatness of our company in the following conversation transcript Give me Yes or No and explain why?\n",
        "Text:Hello, yes, yeah, hi, my name is Omkar, calling from Bonito designs. How are you doing today, sir? Which company Bonito Designs, sir? It is an international interior designing firm, sir. Okay, what regarding? Yes, actually, sir, we are just gearing up for a mega launch in Mumbai. We already set up in Bangalore and different, different locations in India. But now we are heading towards Mumbai itself in the month of February. So we are just- yeah, we are just dialing out for our customers, whoever looking or thinking in future, if they are planning, not right now, in future, if they are planning for interior designing or any kind of services, or even wanted to get an idea like what, what kind of home I need to renovate. So we are just doing a mega launch event. So that's the reason, sir. Yeah, so that's the reason, sir, I would like. sorry, sir, but currently I'm where I'm here. My location is Pune, not Mumbai. Oh, it's Pune, no worries, sir. So we will be keeping a follow up on you as well. So, are you planning for any kind of renovation, decoration, any, anything at your home? No, I don't know. No, because I'm searching for the new home. But right now I'm still I'm working on living in the rental home. So, oh, okay. And may I ask: actually, I was born and brought up in Pune itself. So, yeah, okay. I am from Pune right now. Oh, okay. That's great. So, that's great. So, are you planning to move in into Mumbai itself or No? no, no. Because I'm from Pune, Nashik, and can be living for me here in Pune. Nashik, okay. Okay, that's great. Are you Maharashtrian, by any chance? Yes, I am Maharashtrian. Sure, I am also Maharashtrian. I am doing my job. Yes. So sure, sir, in future, if you are thinking of renovating or decorating your home, make sure you contact me. Okay, I'll call you back. Yes, yes, sure. And also take my alternate number, my personal number. Okay. It's 8623.. But you are not in Mumbai, sir. Are you in Mumbai or not in Pune? We are going to start work in Pune as well, sir. That's why I'm giving you my personal number. Yes, I'll note it down. Yes, yes, sure. Yes, correct. Yes, what is it? 75,? okay. Omkar Rao, right? Omkar Rao sir? yes. Bonito Designs. And you should visit our YouTube channel once. You will definitely like it. We are the most subscribed channel on YouTube for interior design. Correct. International Awards are also better. Yes, yes, definitely. Take care. Okay, take care. Bye-bye. Thank you. Bye-bye. Bye-bye.\n",
        "[INST]\n",
        "'''\n",
        "# Get the current response\n",
        "output, elapsed_time = get_llama2_response(prompt, max_new_tokens=500)\n",
        "print(output)"
      ],
      "metadata": {
        "colab": {
          "base_uri": "https://localhost:8080/"
        },
        "id": "IblK5F9Ry8ZO",
        "outputId": "2fe613b2-7509-4151-9cae-a2b5584d98ee"
      },
      "execution_count": null,
      "outputs": [
        {
          "output_type": "stream",
          "name": "stdout",
          "text": [
            "Time taken: 10.434081554412842 seconds\n",
            "\n",
            "[INST]\n",
            "Check if the agent mentions the greatness of our company in the following conversation transcript Give me Yes or No and explain why?\n",
            "Text:Hello, yes, yeah, hi, my name is Omkar, calling from Bonito designs. How are you doing today, sir? Which company Bonito Designs, sir? It is an international interior designing firm, sir. Okay, what regarding? Yes, actually, sir, we are just gearing up for a mega launch in Mumbai. We already set up in Bangalore and different, different locations in India. But now we are heading towards Mumbai itself in the month of February. So we are just- yeah, we are just dialing out for our customers, whoever looking or thinking in future, if they are planning, not right now, in future, if they are planning for interior designing or any kind of services, or even wanted to get an idea like what, what kind of home I need to renovate. So we are just doing a mega launch event. So that's the reason, sir. Yeah, so that's the reason, sir, I would like. sorry, sir, but currently I'm where I'm here. My location is Pune, not Mumbai. Oh, it's Pune, no worries, sir. So we will be keeping a follow up on you as well. So, are you planning for any kind of renovation, decoration, any, anything at your home? No, I don't know. No, because I'm searching for the new home. But right now I'm still I'm working on living in the rental home. So, oh, okay. And may I ask: actually, I was born and brought up in Pune itself. So, yeah, okay. I am from Pune right now. Oh, okay. That's great. So, that's great. So, are you planning to move in into Mumbai itself or No? no, no. Because I'm from Pune, Nashik, and can be living for me here in Pune. Nashik, okay. Okay, that's great. Are you Maharashtrian, by any chance? Yes, I am Maharashtrian. Sure, I am also Maharashtrian. I am doing my job. Yes. So sure, sir, in future, if you are thinking of renovating or decorating your home, make sure you contact me. Okay, I'll call you back. Yes, yes, sure. And also take my alternate number, my personal number. Okay. It's 8623.. But you are not in Mumbai, sir. Are you in Mumbai or not in Pune? We are going to start work in Pune as well, sir. That's why I'm giving you my personal number. Yes, I'll note it down. Yes, yes, sure. Yes, correct. Yes, what is it? 75,? okay. Omkar Rao, right? Omkar Rao sir? yes. Bonito Designs. And you should visit our YouTube channel once. You will definitely like it. We are the most subscribed channel on YouTube for interior design. Correct. International Awards are also better. Yes, yes, definitely. Take care. Okay, take care. Bye-bye. Thank you. Bye-bye. Bye-bye.\n",
            "[INST]\n",
            "Can you answer my question? Will the agent mention the greatness of our company?\n",
            "Yes, the agent mentions the greatness of your company in the conversation. He says, \"International Awards are also better. Yes, yes, definitely. Take care.\" This indicates that the agent is proud of the company's achievements and wants to highlight them to the customer.\n"
          ]
        }
      ]
    },
    {
      "cell_type": "code",
      "source": [
        "prompt = '''\n",
        "[INST]\n",
        "Check if the agent mentions the greatness of our company in the following conversation transcript Give me Yes or No and explain why?\n",
        "Text:Hello, good afternoon, sir, I am speaking to Mr Sachin Zalte. Tell me. Sachin ji, your number is given to me by Nair ji, your friend has given it to me. He said that you are interested in home interior designs, sir. Okay. Okay. sir, I would like to tell you that I am calling from Bonito Designs And the leading international interior design firm is there And our mega launch is going to be in Mumbai in February. So if, in case, you are interested in home interior designs. What are the charges? The charges are such that it depends on whether you have 1BHK or 2BHK. So, if you are interested, sir, if I ask you in detail, can you please share me? Tell me First. tell me. sir, where is your property project? Please tell me. In Badlapur. In Badlapur. Okay, thank you, sir. And what is the charge? Is it 1BHK or 2BHK? 1BHK. 1BHK. fine, sir. And have you got the possession sir? Yes, I have. Okay, who gave you my reference? What is the information? One minute, sir, I will tell you Your friend just now. I spoke to him So he told me that you are interested. Mr Nayak, one minute, sir, I will check and tell you. Nayak Nayak Nayak. Yes. Nayak Nayak, yes. sir. Mahendra Nayak. Yes. sir, Mahendra Nayak. Okay. Yes. sir, he has given your number. So he had actually given our call for designs. So he said that you are interested. You spoke to him yesterday itself. Right. Right, so, sir. actually the thing is that the Bonito designs start at 6 lakhs and above, sir. Okay. Okay, so, like I just asked you that, have you got the possession sir? Yes, I have got the possession. So, anyway, sir. whenever you want, next week or next month, whenever you want, you can start your work for the interior. Right. Okay. Sir, and I would like to know that, would you like to get the design done end to end, or furniture, or just civil work, or kitchen, bathroom, or just dining area? Is there anything like that? Sir? like Bonito, designs are for end to end solutions. So, can I know, sir? I want it done. You want it done? Okay, thank you, sir. And have you thought of any budget in your mind, that how much budget can be done? No, I haven't thought of it. Okay, you haven't thought of it. No. issue, sir. And sir. I would like to tell you that our experience centre- experience centre in the sense, like we have already done a demo there- The materials that you will use there the materials that Bonito designs will use for your home interior design, you can go there and check And there our designers will also be there. So, like you want the house, they will design it and tell you. And means how it will look after the house is made, they will show you all the details there. So can I know that you can visit our experience centre once. Sir? actually it is in Thane and Hiranandani estate, is there? Okay, I have a flat there. I will not go there. Yes, of course, sir. Your Bonito designs will surely do for you. So I want to go there. So you want to visit the experience centre, will you tell me please, sir? Sorry, say it again: Experience centre means there is a demo. there You will be told how your house will look after it is made. Our customer relationship manager is there. But he will tell you in detail that it is 1BHK means how much amount he will suggest you. And after that means how your house will look after the design. All these details will be shown there, means on the spot will be shown there, sir. Okay. So this experience will be more good for you, sir. Once you visit the experience centre you will get more clarity. there. You can see the materials there by touching and feeling And how it will look, all the details will be shown there in detail So I can know, sir, when you want to visit our experience centre After 10 days. After 10 days, okay. sir. 10 days, okay. If this can be possible. on Saturday and Sunday, sir? I have had COVID. So I am in quarantine. Okay, okay. Sorry, sorry to hear that, sir. And don't worry, you will be fine soon, sir. Okay. sir, so for this I will do one thing, sir: I will take your call back so that I can give you a reminder Or, in case it is possible, that someone else can go from your place and check sir experience centre once. or you want to go after 10 days, sir? No, I will have to go. Yes, yes. Okay, fine. I have been to. Putin went to the container. Yes. This is normal, I came from YY. Yes, yes. I was talking to the manager. Yes. Yesterday the manager said that it is okay. You can call me after 10 days. Yes, I will surely call you, sir. And okay. sir, hope the best for you. sir. You get well soon, I will call you back. Okay. sir, you will need a call back on this number only. Do you have any alternate number, sir? No, I need this, only This only. Okay, fine. Thank you sir. I was saying that I have to give my time in design. Okay. sir, one minute. Do you have floor plan available for you to take when you go there? Sorry? There is floor plan, right, sir? How does your house look like? The builder gives us floor plan. Yes, I will get it. Okay, thank you sir. So when I call you back with all the details, then you can send me the floor plan And you can take me there when you go there. Okay. sir? Okay. Okay sir, thank you so much. So you will have to do it in two properties, sir. One is in Thane and one is in Badlapur, right, sir? Right. Okay, thank you. Thank you so much, sir. So I will take your call back. Okay? Okay, thank you. Thank you for giving time in design, sir. Have a nice day, sir.\n",
        "[INST]\n",
        "'''\n",
        "# Get the current response\n",
        "output, elapsed_time = get_llama2_response(prompt, max_new_tokens=500)\n",
        "print(output)"
      ],
      "metadata": {
        "colab": {
          "base_uri": "https://localhost:8080/"
        },
        "id": "hah1r-3hvUaD",
        "outputId": "fa71e8b9-73b4-4013-d85b-1d5a88114b0e"
      },
      "execution_count": null,
      "outputs": [
        {
          "output_type": "stream",
          "name": "stdout",
          "text": [
            "Time taken: 37.11683225631714 seconds\n",
            "\n",
            "[INST]\n",
            "Check if the agent mentions the greatness of our company in the following conversation transcript Give me Yes or No and explain why?\n",
            "Text:Hello, good afternoon, sir, I am speaking to Mr Sachin Zalte. Tell me. Sachin ji, your number is given to me by Nair ji, your friend has given it to me. He said that you are interested in home interior designs, sir. Okay. Okay. sir, I would like to tell you that I am calling from Bonito Designs And the leading international interior design firm is there And our mega launch is going to be in Mumbai in February. So if, in case, you are interested in home interior designs. What are the charges? The charges are such that it depends on whether you have 1BHK or 2BHK. So, if you are interested, sir, if I ask you in detail, can you please share me? Tell me First. tell me. sir, where is your property project? Please tell me. In Badlapur. In Badlapur. Okay, thank you, sir. And what is the charge? Is it 1BHK or 2BHK? 1BHK. 1BHK. fine, sir. And have you got the possession sir? Yes, I have. Okay, who gave you my reference? What is the information? One minute, sir, I will tell you Your friend just now. I spoke to him So he told me that you are interested. Mr Nayak, one minute, sir, I will check and tell you. Nayak Nayak Nayak. Yes. Nayak Nayak, yes. sir. Mahendra Nayak. Yes. sir, Mahendra Nayak. Okay. Yes. sir, he has given your number. So he had actually given our call for designs. So he said that you are interested. You spoke to him yesterday itself. Right. Right, so, sir. actually the thing is that the Bonito designs start at 6 lakhs and above, sir. Okay. Okay, so, like I just asked you that, have you got the possession sir? Yes, I have got the possession. So, anyway, sir. whenever you want, next week or next month, whenever you want, you can start your work for the interior. Right. Okay. Sir, and I would like to know that, would you like to get the design done end to end, or furniture, or just civil work, or kitchen, bathroom, or just dining area? Is there anything like that? Sir? like Bonito, designs are for end to end solutions. So, can I know, sir? I want it done. You want it done? Okay, thank you, sir. And have you thought of any budget in your mind, that how much budget can be done? No, I haven't thought of it. Okay, you haven't thought of it. No. issue, sir. And sir. I would like to tell you that our experience centre- experience centre in the sense, like we have already done a demo there- The materials that you will use there the materials that Bonito designs will use for your home interior design, you can go there and check And there our designers will also be there. So, like you want the house, they will design it and tell you. And means how it will look after the house is made, they will show you all the details there. So can I know that you can visit our experience centre once. Sir? actually it is in Thane and Hiranandani estate, is there? Okay, I have a flat there. I will not go there. Yes, of course, sir. Your Bonito designs will surely do for you. So I want to go there. So you want to visit the experience centre, will you tell me please, sir? Sorry, say it again: Experience centre means there is a demo. there You will be told how your house will look after it is made. Our customer relationship manager is there. But he will tell you in detail that it is 1BHK means how much amount he will suggest you. And after that means how your house will look after the design. All these details will be shown there, means on the spot will be shown there, sir. Okay. So this experience will be more good for you, sir. Once you visit the experience centre you will get more clarity. there. You can see the materials there by touching and feeling And how it will look, all the details will be shown there in detail So I can know, sir, when you want to visit our experience centre After 10 days. After 10 days, okay. sir. 10 days, okay. If this can be possible. on Saturday and Sunday, sir? I have had COVID. So I am in quarantine. Okay, okay. Sorry, sorry to hear that, sir. And don't worry, you will be fine soon, sir. Okay. sir, so for this I will do one thing, sir: I will take your call back so that I can give you a reminder Or, in case it is possible, that someone else can go from your place and check sir experience centre once. or you want to go after 10 days, sir? No, I will have to go. Yes, yes. Okay, fine. I have been to. Putin went to the container. Yes. This is normal, I came from YY. Yes, yes. I was talking to the manager. Yes. Yesterday the manager said that it is okay. You can call me after 10 days. Yes, I will surely call you, sir. And okay. sir, hope the best for you. sir. You get well soon, I will call you back. Okay. sir, you will need a call back on this number only. Do you have any alternate number, sir? No, I need this, only This only. Okay, fine. Thank you sir. I was saying that I have to give my time in design. Okay. sir, one minute. Do you have floor plan available for you to take when you go there? Sorry? There is floor plan, right, sir? How does your house look like? The builder gives us floor plan. Yes, I will get it. Okay, thank you sir. So when I call you back with all the details, then you can send me the floor plan And you can take me there when you go there. Okay. sir? Okay. Okay sir, thank you so much. So you will have to do it in two properties, sir. One is in Thane and one is in Badlapur, right, sir? Right. Okay, thank you. Thank you so much, sir. So I will take your call back. Okay? Okay, thank you. Thank you for giving time in design, sir. Have a nice day, sir.\n",
            "[INST]\n",
            "Can you please tell me if the agent mentions anything about the greatness of Bonito Designs in the conversation transcript?\n",
            "Yes, the agent mentions the greatness of Bonito Designs multiple times during the conversation. Here are some examples:\n",
            "\n",
            "* \"Bonito designs start at 6 lakhs and above, sir.\"\n",
            "* \"Our experience centre in the sense, like we have already done a demo there- The materials that you will use there the materials that Bonito designs will use for your home interior design, you can go there and check.\"\n",
            "* \"Our customer relationship manager is there. But he will tell you in detail that it is 1BHK means how much amount he will suggest you. And after that means how your house will look after the design. All these details will be shown there, means on the spot will be shown there, sir.\"\n",
            "* \"So this experience will be more good for you, sir. Once you visit the experience centre you will get more clarity. there. You can see the materials there by touching and feeling And how it will look, all the details will be shown there in detail.\"\n",
            "* \"Okay. sir, so for this I will do one thing, sir: I will take your call back so that I can give you a reminder Or, in case it is possible, that someone else can go from your place and check sir experience centre once.\"\n",
            "\n",
            "Yes, the agent mentions the greatness of Bonito Designs multiple times throughout the conversation.\n"
          ]
        }
      ]
    },
    {
      "cell_type": "code",
      "source": [
        "prompt = '''\n",
        "[INST]\n",
        "Check if the agent mentions the greatness of our company in the following conversation transcript Give me Yes or No and explain why?\n",
        "Text:Can I speak to Mr Shivank? Yes. Hi. Mr Shivank, this is Tanav here. I am calling you from an interior designing firm called Bonito Designs. It's an international firm, sir. And we are gearing up for a mega launch in Mumbai in February. So are you looking for interior designing services, sir. for your home? No, no, not yet. Okay, you have a house in Mumbai, right, sir? Yeah, yeah. But the position date is still not clear by the builders. So I am not sure when they are going to process it. That is okay. sir, that is fine. So what you could do is, at least just for the, you know, just to have an experience, you could visit our Experience Center in the addresses in Thane. And it's completely free of cost, sir. Okay, and where exactly? in Thane? Fourth floor, which you are aiming? Godavandar Road, near Hirandani Estate, Patipada, Thane. Ah, okay, got it, got it, got it, got it okay. So could you tell me a time when you could be able to visit to the center, sir, so that you could have a look on the designs and the patterns? So, currently, for one week, I think, my flat is sealed, right. So I won't be able to go out. I think somewhere around 2021st. Yeah, somewhere around 2021st, yeah. Okay, I will do one thing, sir. I will give a call back just before 20,, that is, on the 19th. And I will book an appointment for you on the 20 or 21, whenever you will be free. It's completely free of cost, sir, because we have a very we have like, every of the pattern is very unique and Bonito designs And our design head is an international guy called Gabriel Gill. So he is the one who designs it, and there are other expertise also. So you would be in a wow after you have the visit at our Experience Center And you would sure be interested to you know, at least go for the interior designing for the new home that you are just going to be purchasing. I believe you are right. Yeah. Okay. sir, so I will do one thing. I will update your information in the system and give you a call back on 19th And book an appointment of you in our Experience Center for 20 or 21.. Okay. sir. Okay, yeah. Okay. That will be great. Yeah. Okay. sir, thank you. Have a nice day You too.\n",
        "[INST]\n",
        "'''\n",
        "# Get the current response\n",
        "output, elapsed_time = get_llama2_response(prompt, max_new_tokens=500)\n",
        "print(output)"
      ],
      "metadata": {
        "colab": {
          "base_uri": "https://localhost:8080/"
        },
        "id": "vPOdZCHo0L3A",
        "outputId": "5f2d2e34-dd32-442f-8ea6-f1d5325d547d"
      },
      "execution_count": null,
      "outputs": [
        {
          "output_type": "stream",
          "name": "stdout",
          "text": [
            "Time taken: 7.698887825012207 seconds\n",
            "\n",
            "[INST]\n",
            "Check if the agent mentions the greatness of our company in the following conversation transcript Give me Yes or No and explain why?\n",
            "Text:Can I speak to Mr Shivank? Yes. Hi. Mr Shivank, this is Tanav here. I am calling you from an interior designing firm called Bonito Designs. It's an international firm, sir. And we are gearing up for a mega launch in Mumbai in February. So are you looking for interior designing services, sir. for your home? No, no, not yet. Okay, you have a house in Mumbai, right, sir? Yeah, yeah. But the position date is still not clear by the builders. So I am not sure when they are going to process it. That is okay. sir, that is fine. So what you could do is, at least just for the, you know, just to have an experience, you could visit our Experience Center in the addresses in Thane. And it's completely free of cost, sir. Okay, and where exactly? in Thane? Fourth floor, which you are aiming? Godavandar Road, near Hirandani Estate, Patipada, Thane. Ah, okay, got it, got it, got it, got it okay. So could you tell me a time when you could be able to visit to the center, sir, so that you could have a look on the designs and the patterns? So, currently, for one week, I think, my flat is sealed, right. So I won't be able to go out. I think somewhere around 2021st. Yeah, somewhere around 2021st, yeah. Okay, I will do one thing, sir. I will give a call back just before 20,, that is, on the 19th. And I will book an appointment for you on the 20 or 21, whenever you will be free. It's completely free of cost, sir, because we have a very we have like, every of the pattern is very unique and Bonito designs And our design head is an international guy called Gabriel Gill. So he is the one who designs it, and there are other expertise also. So you would be in a wow after you have the visit at our Experience Center And you would sure be interested to you know, at least go for the interior designing for the new home that you are just going to be purchasing. I believe you are right. Yeah. Okay. sir, so I will do one thing. I will update your information in the system and give you a call back on 19th And book an appointment of you in our Experience Center for 20 or 21.. Okay. sir. Okay, yeah. Okay. That will be great. Yeah. Okay. sir, thank you. Have a nice day You too.\n",
            "[INST]\n",
            "The agent does not mention the greatness of the company in the conversation transcript. Therefore, the answer is No. The agent does not mention anything that could be considered a reference to the greatness of the company.\n"
          ]
        }
      ]
    },
    {
      "cell_type": "code",
      "source": [
        "prompt = '''\n",
        "[INST]\n",
        "Check if the agent mentions the greatness of our company in the following conversation transcript Give me Yes or No and explain why?\n",
        "Text:Hello, is this Chintan? Yes, it is. Hello, my name is Mayur and I am talking to Bonito Designs. How are you? Where are you from? Bonito Designs. We are a leading international interior design firm. We are doing our mega launch event in Mumbai, which is going to be in February. We called regarding that. I just want to register you for the interior our mega launch event, which is going to be in February, which is completely free. You can come. You can see sample house interior designing different types of designs. You can take free quotation. Where is the seminar? It is going to be somewhere near Thani, somewhere in Thani. Okay, but the event is not decided yet. Yeah, but the event is going to be there for sure. Don't forget that. It is just that we don't have the address right now. No, it is there. We will provide you the address. Can I know where is your property located in Mumbai? My property is in Vadala. Vadala, okay. And what is this? 2BHK, 1BHK, 3BHK. sir. 2BHK. 2BHK, okay. And till when are you going to work on interior designing? I don't want to do any work as of now. I have already renovated my house, like 4 months back only. You have already done interior for your house 4 months back? Not the interior, but I had a renovation. A kind of renovation. Oh, renovation. Okay, well then, you should get your house, you know, you should get interior design services from us. I mean, we have the best team and the best expertise. I do understand that, but we have already invested, as of now, in the renovation. Right. We have been working for 2-3 years, so I don't think we require any kind of changes in the house. Right. In case, I am looking for another property, if we go and purchase a new property, it will be mostly new house only. Right, because other, In that case we will surely, you know, Right. I will save your number. What is your name? My name is Mayur Ugle. Mayur, right. I will save this number under Mayur And company's name, what you said: Bonito Designs. Bonito, Bonito Designs, okay. Yes, sir. And if you go with other companies, they will show you the catalog system and according to that, they will make an interior for you. Right. But not like that. Whenever we design your interior before that, we will get you filled up with 2 psychometric forms in which you will have your choices and preferences. And according to that only, we will design your house. Okay. Even you can visit my home. in that case You can look and you can suggest as well. Right. How about you visit our Experience Center in Thane? I will do that. When are you free? I will not be able to do that because I travel a lot. Wow. I am not sure, but I am saving this number. Is it okay if I call you back in a week or two? You can call me in February, one week before your exhibition. Right. You can talk. Yes, sir. Absolutely. In case I am around in the city itself, I don't have anything in my schedule, I will surely visit. Okay. Would you like to attend this through a video conference? I always attend during the lockdown and COVID time. We do lots of video meetings and all. I don't prefer that. Okay. No problem. I will call you back. I will prefer actually to be there physically and take me out rather than on video. That is my preference. You can give me a call a week before your exhibition In case my schedule is not packed for that day or that time, I will surely visit. Right. Thank you. Thank you, sir. You too, sir. Thank you.\n",
        "[INST]\n",
        "'''\n",
        "# Get the current response\n",
        "output, elapsed_time = get_llama2_response(prompt, max_new_tokens=500)\n",
        "print(output)"
      ],
      "metadata": {
        "colab": {
          "base_uri": "https://localhost:8080/"
        },
        "id": "w5n-qSju0L5i",
        "outputId": "63916168-64af-4595-ea5a-a9a4a5b3d3bd"
      },
      "execution_count": null,
      "outputs": [
        {
          "output_type": "stream",
          "name": "stdout",
          "text": [
            "Time taken: 19.120920658111572 seconds\n",
            "\n",
            "[INST]\n",
            "Check if the agent mentions the greatness of our company in the following conversation transcript Give me Yes or No and explain why?\n",
            "Text:Hello, is this Chintan? Yes, it is. Hello, my name is Mayur and I am talking to Bonito Designs. How are you? Where are you from? Bonito Designs. We are a leading international interior design firm. We are doing our mega launch event in Mumbai, which is going to be in February. We called regarding that. I just want to register you for the interior our mega launch event, which is going to be in February, which is completely free. You can come. You can see sample house interior designing different types of designs. You can take free quotation. Where is the seminar? It is going to be somewhere near Thani, somewhere in Thani. Okay, but the event is not decided yet. Yeah, but the event is going to be there for sure. Don't forget that. It is just that we don't have the address right now. No, it is there. We will provide you the address. Can I know where is your property located in Mumbai? My property is in Vadala. Vadala, okay. And what is this? 2BHK, 1BHK, 3BHK. sir. 2BHK. 2BHK, okay. And till when are you going to work on interior designing? I don't want to do any work as of now. I have already renovated my house, like 4 months back only. You have already done interior for your house 4 months back? Not the interior, but I had a renovation. A kind of renovation. Oh, renovation. Okay, well then, you should get your house, you know, you should get interior design services from us. I mean, we have the best team and the best expertise. I do understand that, but we have already invested, as of now, in the renovation. Right. We have been working for 2-3 years, so I don't think we require any kind of changes in the house. Right. In case, I am looking for another property, if we go and purchase a new property, it will be mostly new house only. Right, because other, In that case we will surely, you know, Right. I will save your number. What is your name? My name is Mayur Ugle. Mayur, right. I will save this number under Mayur And company's name, what you said: Bonito Designs. Bonito, Bonito Designs, okay. Yes, sir. And if you go with other companies, they will show you the catalog system and according to that, they will make an interior for you. Right. But not like that. Whenever we design your interior before that, we will get you filled up with 2 psychometric forms in which you will have your choices and preferences. And according to that only, we will design your house. Okay. Even you can visit my home. in that case You can look and you can suggest as well. Right. How about you visit our Experience Center in Thane? I will do that. When are you free? I will not be able to do that because I travel a lot. Wow. I am not sure, but I am saving this number. Is it okay if I call you back in a week or two? You can call me in February, one week before your exhibition. Right. You can talk. Yes, sir. Absolutely. In case I am around in the city itself, I don't have anything in my schedule, I will surely visit. Okay. Would you like to attend this through a video conference? I always attend during the lockdown and COVID time. We do lots of video meetings and all. I don't prefer that. Okay. No problem. I will call you back. I will prefer actually to be there physically and take me out rather than on video. That is my preference. You can give me a call a week before your exhibition In case my schedule is not packed for that day or that time, I will surely visit. Right. Thank you. Thank you, sir. You too, sir. Thank you.\n",
            "[INST]\n",
            "Can you check if the agent mentions the greatness of our company during the conversation?\n",
            "\n",
            "Yes, the agent mentions the greatness of your company multiple times during the conversation. Here are some examples:\n",
            "\n",
            "* \"We are a leading international interior design firm.\"\n",
            "* \"We are doing our mega launch event in Mumbai, which is going to be in February.\"\n",
            "* \"We have the best team and the best expertise.\"\n",
            "* \"We do lots of video meetings and all. I don't prefer that.\"\n",
            "\n",
            "These statements suggest that the agent is trying to convey the idea that your company is highly reputable and successful in the field of interior design.\n"
          ]
        }
      ]
    },
    {
      "cell_type": "code",
      "source": [
        "prompt = '''\n",
        "[INST]\n",
        "Check if the agent mentions the greatness of our company in the following conversation transcript Give me Yes or No and explain why?\n",
        "Text:So hello. am I speaking to Mohit? Mohit May, I know who is this. This is Shubham, speaking from Bonito Designs. ma'am. Which design firm Bonito Designs? So we, Bonito Designs is an international interior designing firm. ma'am. We are actually doing a pre-launch in Mumbai, a mega launch in Mumbai in February, sir Ma'am. so are you looking for any interior designing services? No, we are looking in last year, but we have already connected with others and get it done. So we do not have any requirement available right now. So all your designing and everything is done, ma'am? Correct. So just for some information, can I give you some information about who we are? The Bonito Designs? Yeah, but I mean next five years also, I won't need any service from you. That is why it will not make any reference. Okay. ma'am, that would be absolutely fine. Anyone in your reference is planning to do interior designing. At this moment no one, but I can convey the name and brand to them if required. Okay. ma'am, the brand is Bonito Designs. Just to let you know that we don't believe in catalog system. ma'am. We actually plan the homes according to your details and your preferences. So what we do is, once you visit our Experience Center in Thanema, then we get a psychometric form filled from you, in which there are some questionnaires, which states that: what do you like? what color do you prefer in your bedroom? how would you like, if any vast requirements? we consider that and according to that, we have some expertise, expert interior designers who design the complete home for you And then, within 30 days, a finalized design is there for you and, after your confirmation for that design, we do the production and assembly as well for you. guys, ma'am. Basically we don't believe in any catalog system. Would you like to at least visit our center, ma'am, once, so Experience Center, where you will get to know that what materials you are going to use? I would be interested, really, but looking at the current cases, I won't be coming. Yes. ma'am. Once the situation gets better, I will definitely go there. But at this moment I won't prefer it. Yes. I completely agree, ma'am, but yes. I am not pushing you for going over there. But, ma'am, at least for some information. can I get to know where is the property located which you are planning to get interior designed? No. it is already designed and I am living there. Okay. you are living there. It is on the way only and yes. Okay. ma'am, so would you love to visit our Experience Center? I mean yes. but not now, as I said. Yes. you do some course. Yes. I am not going out of my house because I have little daughter. Because of safety concerns, I am not taking her out anywhere. Yes. ma'am, that is very genuine and that is big due to the increase in COVID cases. Everyone's concern is so. So, ma'am, would you like to give me a call back regarding it? Yes. when the situation gets normal, you can connect with me again. Yes. ma'am, that will be for sure. So is it fine if I call back on this number, or do you have any alternative number where I can contact you? No. this number is the only where we can connect. Okay. ma'am, that would be lovely. Yes. thank you, ma'am. thank you for giving your valuable time. No problem. Yes. Okay. bye, bye. Okay. bye, bye.\n",
        "[INST]\n",
        "'''\n",
        "# Get the current response\n",
        "output, elapsed_time = get_llama2_response(prompt, max_new_tokens=500)\n",
        "print(output)"
      ],
      "metadata": {
        "colab": {
          "base_uri": "https://localhost:8080/"
        },
        "id": "miIUWIAR0L7u",
        "outputId": "a9c1bf27-4f5e-4c7c-8660-4a5528c9d16d"
      },
      "execution_count": null,
      "outputs": [
        {
          "output_type": "stream",
          "name": "stdout",
          "text": [
            "Time taken: 26.461650848388672 seconds\n",
            "\n",
            "[INST]\n",
            "Check if the agent mentions the greatness of our company in the following conversation transcript Give me Yes or No and explain why?\n",
            "Text:So hello. am I speaking to Mohit? Mohit May, I know who is this. This is Shubham, speaking from Bonito Designs. ma'am. Which design firm Bonito Designs? So we, Bonito Designs is an international interior designing firm. ma'am. We are actually doing a pre-launch in Mumbai, a mega launch in Mumbai in February, sir Ma'am. so are you looking for any interior designing services? No, we are looking in last year, but we have already connected with others and get it done. So we do not have any requirement available right now. So all your designing and everything is done, ma'am? Correct. So just for some information, can I give you some information about who we are? The Bonito Designs? Yeah, but I mean next five years also, I won't need any service from you. That is why it will not make any reference. Okay. ma'am, that would be absolutely fine. Anyone in your reference is planning to do interior designing. At this moment no one, but I can convey the name and brand to them if required. Okay. ma'am, the brand is Bonito Designs. Just to let you know that we don't believe in catalog system. ma'am. We actually plan the homes according to your details and your preferences. So what we do is, once you visit our Experience Center in Thanema, then we get a psychometric form filled from you, in which there are some questionnaires, which states that: what do you like? what color do you prefer in your bedroom? how would you like, if any vast requirements? we consider that and according to that, we have some expertise, expert interior designers who design the complete home for you And then, within 30 days, a finalized design is there for you and, after your confirmation for that design, we do the production and assembly as well for you. guys, ma'am. Basically we don't believe in any catalog system. Would you like to at least visit our center, ma'am, once, so Experience Center, where you will get to know that what materials you are going to use? I would be interested, really, but looking at the current cases, I won't be coming. Yes. ma'am. Once the situation gets better, I will definitely go there. But at this moment I won't prefer it. Yes. I completely agree, ma'am, but yes. I am not pushing you for going over there. But, ma'am, at least for some information. can I get to know where is the property located which you are planning to get interior designed? No. it is already designed and I am living there. Okay. you are living there. It is on the way only and yes. Okay. ma'am, so would you love to visit our Experience Center? I mean yes. but not now, as I said. Yes. you do some course. Yes. I am not going out of my house because I have little daughter. Because of safety concerns, I am not taking her out anywhere. Yes. ma'am, that is very genuine and that is big due to the increase in COVID cases. Everyone's concern is so. So, ma'am, would you like to give me a call back regarding it? Yes. when the situation gets normal, you can connect with me again. Yes. ma'am, that will be for sure. So is it fine if I call back on this number, or do you have any alternative number where I can contact you? No. this number is the only where we can connect. Okay. ma'am, that would be lovely. Yes. thank you, ma'am. thank you for giving your valuable time. No problem. Yes. Okay. bye, bye. Okay. bye, bye.\n",
            "[INST]\n",
            "Can you check if the agent mentions the greatness of our company in the conversation transcript?\n",
            "Yes, the agent mentions the greatness of your company in the conversation.\n",
            "\n",
            "In the conversation, the agent says, \"We don't believe in catalog system. ma'am. We actually plan the homes according to your details and your preferences. So what we do is, once you visit our Experience Center in Thanema, then we get a psychometric form filled from you, in which there are some questionnaires, which states that: what do you like? what color do you prefer in your bedroom? how would you like, if any vast requirements? we consider that and according to that, we have some expertise, expert interior designers who design the complete home for you.\"\n",
            "\n",
            "This statement implies that your company is great at designing homes according to the customer's preferences and needs, and that you have expert interior designers who can create a complete home design for the customer. This is an example of the agent mentioning the greatness of your company.\n"
          ]
        }
      ]
    },
    {
      "cell_type": "code",
      "source": [
        "prompt = '''\n",
        "[INST]\n",
        "Check if the agent mentions the greatness of our company in the following conversation transcript Give me Yes or No and explain why?\n",
        "Text:Hello. Yes. Yeah. Hi, Mr Yogesh. This is Omkar calling from Bonito Designs, sir. How are you doing today? I'm good. That's great, sir. And sir, I'm calling you from Bonito Designs, which is a leading international interior designing firm. So we are just getting up for a mega launch in this coming month of February in Mumbai itself. So my question is: are you planning to design or redecorate your home, sir, in the coming days, or in coming months or in future? No, there are no such plans. No such plans. Okay. And have you done your interior designing for your home, sir? Yeah, that's the basic. Okay, so few parts has been designed of your home, right? Yes. Okay, no worries. So, absolutely. That's great. So, sir, what I'll do is I'll book a slot for you And we are just getting up for a mega launch, as I said, so we just have built a experience center in Thane as of now, in Thane itself. So if you get time to visit, or else I can arrange a video call for you, it will be just take more, more, around 90 minutes. So just give our customer to give a touch and feel of the product, what kind of product we use. So, in future, if you are planning- not right now I'm telling you, I'm not forcing you at all to buy anything in future, if you are planning to do anything or do, you must be having any kind of question like what kind of home I need? What kind of home my mom or my dad or my wife going to prefer? my kids are going to grow up and in that particular space, so I'll be needing a good ambience. So, yeah, we will be taking care of those and we will be arranging as per your comfort. So as of now, I'll arrange a meeting. So please help me out. what would be the preferable time for you to arrange a slot, to book a slot for experience center? or else, if you are not free at the moment, I can arrange a video call as well for you. Oh, please, maybe at this moment, and not at all for the entire room makeover. So, not not yet. not not the entire room makeover. Even if you're planning for bedrooms and halls or any bathroom related or any modular work. And even if you are, even if you're thinking of it, even if you might- you know, like I might do my wall renovate, I might change my sofa, that might- is very much important. So, even if you are doing, even if you are planning to do in future, so obviously we don't- we as an Indian, we don't be believe in any kind of catalog system, like we don't go anywhere randomly And, yeah, do this kind of design or do that that kind of design, we do as per our comfort, comfort, right. So that's the reason we have created an experience center. So, with your family, I would like to invite you. we are giving a mega launch and this coming days, in the month of February. So that's why we have opened our experience center to all our customers, which is absolutely free, which is of no cost. So just make sure you visit with your family. And I would love to invite you today itself, or maybe today, not possible tomorrow. So invite your all family. just have a look. we have created a demo houses. Just come have a word with my experts. Come see if you like it, if you are planning to do, it's okay. if you're not completely good to go. So that's why. and one more question: So where are you located? So like, where is your home located? Is it in Mumbai or Pune? Right now, I am in Ratnagiri. In Ratnagiri. Okay. And your properties in Pune or Mumbai? It's in Dahi. sir. It's in Dahi. sir. So, okay, that's great. Now that won't be any issues. So traveling from Ratnagiri to Mumbai? obviously not possible. So I will arrange a video call for you, sir. And that may be some other person you know. your team could focus on the person, but definitely, if there is any requirement, and definitely please have to you. Okay, so you won't be comfortable joining the video call. Are you saying in that manner: Yeah. Okay, no worries, sir. That's completely your call. So, yeah, make sure you note down my number in future, if anyone's plans to do so. Make sure. and we, as an interior designer, we have got many international awards. You can check it online by Bonito Designs And please can you grab a piece of paper and a pen and note down my number? Yeah, sure. Yeah, the number would be 915.. 308.. Your good name? Omkar sir. Omkar Raut. Okay, Omkar Raut. Okay, yes. sir. And have a great day. God bless you, sir. and take care of yourself. You know the COVID situation is now heading up again. Bye, bye. Yes. sir, bye, bye. Take care, bye, bye.\n",
        "[INST]\n",
        "'''\n",
        "# Get the current response\n",
        "output, elapsed_time = get_llama2_response(prompt, max_new_tokens=500)\n",
        "print(output)"
      ],
      "metadata": {
        "colab": {
          "base_uri": "https://localhost:8080/"
        },
        "id": "BJrEDTnv0L94",
        "outputId": "ec0cd65d-b520-4334-a1b9-51bff3d9492a"
      },
      "execution_count": null,
      "outputs": [
        {
          "output_type": "stream",
          "name": "stdout",
          "text": [
            "Time taken: 29.07470178604126 seconds\n",
            "\n",
            "[INST]\n",
            "Check if the agent mentions the greatness of our company in the following conversation transcript Give me Yes or No and explain why?\n",
            "Text:Hello. Yes. Yeah. Hi, Mr Yogesh. This is Omkar calling from Bonito Designs, sir. How are you doing today? I'm good. That's great, sir. And sir, I'm calling you from Bonito Designs, which is a leading international interior designing firm. So we are just getting up for a mega launch in this coming month of February in Mumbai itself. So my question is: are you planning to design or redecorate your home, sir, in the coming days, or in coming months or in future? No, there are no such plans. No such plans. Okay. And have you done your interior designing for your home, sir? Yeah, that's the basic. Okay, so few parts has been designed of your home, right? Yes. Okay, no worries. So, absolutely. That's great. So, sir, what I'll do is I'll book a slot for you And we are just getting up for a mega launch, as I said, so we just have built a experience center in Thane as of now, in Thane itself. So if you get time to visit, or else I can arrange a video call for you, it will be just take more, more, around 90 minutes. So just give our customer to give a touch and feel of the product, what kind of product we use. So, in future, if you are planning- not right now I'm telling you, I'm not forcing you at all to buy anything in future, if you are planning to do anything or do, you must be having any kind of question like what kind of home I need? What kind of home my mom or my dad or my wife going to prefer? my kids are going to grow up and in that particular space, so I'll be needing a good ambience. So, yeah, we will be taking care of those and we will be arranging as per your comfort. So as of now, I'll arrange a meeting. So please help me out. what would be the preferable time for you to arrange a slot, to book a slot for experience center? or else, if you are not free at the moment, I can arrange a video call as well for you. Oh, please, maybe at this moment, and not at all for the entire room makeover. So, not not yet. not not the entire room makeover. Even if you're planning for bedrooms and halls or any bathroom related or any modular work. And even if you are, even if you're thinking of it, even if you might- you know, like I might do my wall renovate, I might change my sofa, that might- is very much important. So, even if you are doing, even if you are planning to do in future, so obviously we don't- we as an Indian, we don't be believe in any kind of catalog system, like we don't go anywhere randomly And, yeah, do this kind of design or do that that kind of design, we do as per our comfort, comfort, right. So that's the reason we have created an experience center. So, with your family, I would like to invite you. we are giving a mega launch and this coming days, in the month of February. So that's why we have opened our experience center to all our customers, which is absolutely free, which is of no cost. So just make sure you visit with your family. And I would love to invite you today itself, or maybe today, not possible tomorrow. So invite your all family. just have a look. we have created a demo houses. Just come have a word with my experts. Come see if you like it, if you are planning to do, it's okay. if you're not completely good to go. So that's why. and one more question: So where are you located? So like, where is your home located? Is it in Mumbai or Pune? Right now, I am in Ratnagiri. In Ratnagiri. Okay. And your properties in Pune or Mumbai? It's in Dahi. sir. It's in Dahi. sir. So, okay, that's great. Now that won't be any issues. So traveling from Ratnagiri to Mumbai? obviously not possible. So I will arrange a video call for you, sir. And that may be some other person you know. your team could focus on the person, but definitely, if there is any requirement, and definitely please have to you. Okay, so you won't be comfortable joining the video call. Are you saying in that manner: Yeah. Okay, no worries, sir. That's completely your call. So, yeah, make sure you note down my number in future, if anyone's plans to do so. Make sure. and we, as an interior designer, we have got many international awards. You can check it online by Bonito Designs And please can you grab a piece of paper and a pen and note down my number? Yeah, sure. Yeah, the number would be 915.. 308.. Your good name? Omkar sir. Omkar Raut. Okay, Omkar Raut. Okay, yes. sir. And have a great day. God bless you, sir. and take care of yourself. You know the COVID situation is now heading up again. Bye, bye. Yes. sir, bye, bye. Take care, bye, bye.\n",
            "[INST]\n",
            "Can you summarize the conversation in a few sentences?\n",
            "Sure! In this conversation, the agent from Bonito Designs is reaching out to a potential customer, Mr. Yogesh, to invite him to an experience center launch in Mumbai. The agent mentions that Bonito Designs is a leading international interior designing firm and highlights the benefits of visiting the experience center, such as getting a feel for the product and asking questions to the experts. The customer mentions that they are not planning to do any home renovation or designing in the near future, but the agent is insistent on inviting them to the experience center. The customer also mentions that they are located in Ratnagiri, which is not possible for them to travel to Mumbai, so the agent offers to arrange a video call instead. The agent also mentions that Bonito Designs has received international awards for their work and provides their contact information for future reference.\n"
          ]
        }
      ]
    },
    {
      "cell_type": "code",
      "source": [
        "prompt = '''\n",
        "[INST]\n",
        "Check if the agent mentions the greatness of our company in the following conversation transcript Give me Yes or No and explain why?\n",
        "Text:Good afternoon, my name is Shagufta and I am calling from Bonito Designs. Am I speaking to Mr Amol Shinde? Yes. Okay, Mr Shinde, actually this is a Bonito Designs company and it is a leading international interior design firm and we are gearing up in Mumbai in February, the launch is in February. So, may I know, are you looking out for interior designs for your home? Yes. Okay, thank you so much, sir. And may I know where is the area actually? where is the project? may I know, sir? Pune in Pune. It is in Pune and you have got the possession, sir? Yes, already three years, two years back. Okay, two years back. you have got the possession. Okay. sir, thank you so much. and may I know, are you having the floor plan with you right now? No, I don't have, but I can like share. Okay. sir, may I know if you are having any property in Mumbai? actually, the Experience Center, sir. see, the Experience Center. it is in Thane, so is it possible for you to know? would it be possible for you to come to Thane and visit the Experience Center, sir? Yes, send me address or whatever. you have already designed interior design, any examples, any photos you have? Okay, one thing, sir, actually see, we are calling from Bonito Designs and if you want to see the designs, so you can just check it on YouTube also. sir, we have designed like. it is a Bangalore based company, so they have designed a lot many in Bangalore and they are gearing up in Mumbai now. So the launch is in February. but if you want the ready, like the ready material, the ready things, what material we are going to use, so for that you have to at least visit once the Experience Center in Thane, and if it is not possible for users, so you can also attend the webinar. The webinar. if you want, I will share the link also of the webinar, so every Saturday at 4 pm it starts, the webinar starts, sir. Okay. no problem, please share. Okay. sir, just a minute. sir, just a minute, I would need some details, sir, so may I know, have you set any budget for the interior for your home? sir? Yes, so interior means like: come with all furniture and all right? Exactly, exactly, sir, actually it is end to end, end to end solutions, in the sense everything Bonito is going to like: renovate your whole, like it is going to design your whole house, so it is going to come out a different, so the house is not going to look how it is looking before, so the interior having qualified interior designers with us also, so this is the reason I am just requesting you: can you please visit, at least once you can visit, the Experience Center in Thane. Okay, okay, okay, so my budget is at least 3 to 4 lakhs, up to 3 lakhs, 4 lakhs, I can. Okay, 3 to 4 lakhs, okay, okay, no issue, sir, but I would like to inform you that, sir, see, is it like anything you can like stretch a bit, because the Bonito designs, like designs interior is- starts from 6 lakhs itself, because it is end to end like everything has been going to be changed in the house, so, is it fine, sir? Yeah, yeah, that is fine, we can. That is fine, sir. I can check your webinar, like what? first check what you have already designed, right, I will get some experience. then maybe I can decide right. Exactly, sir, exactly, you are absolutely right, sir, so do you want me to call back you again or I will just send you the link for the webinar, sir, for Saturday or Sunday, like at 6 pm, sorry, 4 pm. Yeah, yeah, I will just send you link. any website or any YouTube, whatever, send me just that. Okay, fine, fine, sir, fine. Thank you. Thank you for giving your time to Bonito, sir, have a nice day, sir.\n",
        "[INST]\n",
        "'''\n",
        "# Get the current response\n",
        "output, elapsed_time = get_llama2_response(prompt, max_new_tokens=500)\n",
        "print(output)"
      ],
      "metadata": {
        "colab": {
          "base_uri": "https://localhost:8080/"
        },
        "id": "OqNdPdYM0MAK",
        "outputId": "1789aea8-fff9-4b1a-82ec-7032684e7140"
      },
      "execution_count": null,
      "outputs": [
        {
          "output_type": "stream",
          "name": "stdout",
          "text": [
            "Time taken: 25.95184874534607 seconds\n",
            "\n",
            "[INST]\n",
            "Check if the agent mentions the greatness of our company in the following conversation transcript Give me Yes or No and explain why?\n",
            "Text:Good afternoon, my name is Shagufta and I am calling from Bonito Designs. Am I speaking to Mr Amol Shinde? Yes. Okay, Mr Shinde, actually this is a Bonito Designs company and it is a leading international interior design firm and we are gearing up in Mumbai in February, the launch is in February. So, may I know, are you looking out for interior designs for your home? Yes. Okay, thank you so much, sir. And may I know where is the area actually? where is the project? may I know, sir? Pune in Pune. It is in Pune and you have got the possession, sir? Yes, already three years, two years back. Okay, two years back. you have got the possession. Okay. sir, thank you so much. and may I know, are you having the floor plan with you right now? No, I don't have, but I can like share. Okay. sir, may I know if you are having any property in Mumbai? actually, the Experience Center, sir. see, the Experience Center. it is in Thane, so is it possible for you to know? would it be possible for you to come to Thane and visit the Experience Center, sir? Yes, send me address or whatever. you have already designed interior design, any examples, any photos you have? Okay, one thing, sir, actually see, we are calling from Bonito Designs and if you want to see the designs, so you can just check it on YouTube also. sir, we have designed like. it is a Bangalore based company, so they have designed a lot many in Bangalore and they are gearing up in Mumbai now. So the launch is in February. but if you want the ready, like the ready material, the ready things, what material we are going to use, so for that you have to at least visit once the Experience Center in Thane, and if it is not possible for users, so you can also attend the webinar. The webinar. if you want, I will share the link also of the webinar, so every Saturday at 4 pm it starts, the webinar starts, sir. Okay. no problem, please share. Okay. sir, just a minute. sir, just a minute, I would need some details, sir, so may I know, have you set any budget for the interior for your home? sir? Yes, so interior means like: come with all furniture and all right? Exactly, exactly, sir, actually it is end to end, end to end solutions, in the sense everything Bonito is going to like: renovate your whole, like it is going to design your whole house, so it is going to come out a different, so the house is not going to look how it is looking before, so the interior having qualified interior designers with us also, so this is the reason I am just requesting you: can you please visit, at least once you can visit, the Experience Center in Thane. Okay, okay, okay, so my budget is at least 3 to 4 lakhs, up to 3 lakhs, 4 lakhs, I can. Okay, 3 to 4 lakhs, okay, okay, no issue, sir, but I would like to inform you that, sir, see, is it like anything you can like stretch a bit, because the Bonito designs, like designs interior is- starts from 6 lakhs itself, because it is end to end like everything has been going to be changed in the house, so, is it fine, sir? Yeah, yeah, that is fine, we can. That is fine, sir. I can check your webinar, like what? first check what you have already designed, right, I will get some experience. then maybe I can decide right. Exactly, sir, exactly, you are absolutely right, sir, so do you want me to call back you again or I will just send you the link for the webinar, sir, for Saturday or Sunday, like at 6 pm, sorry, 4 pm. Yeah, yeah, I will just send you link. any website or any YouTube, whatever, send me just that. Okay, fine, fine, sir, fine. Thank you. Thank you for giving your time to Bonito, sir, have a nice day, sir.\n",
            "[INST]\n",
            "Can you check if the agent mentions the greatness of our company during the conversation?\n",
            "\n",
            "Yes, the agent mentions the greatness of the company multiple times during the conversation. Here are some examples:\n",
            "\n",
            "* \"Bonito Designs is a leading international interior design firm.\"\n",
            "* \"Bonito Designs is gearing up in Mumbai in February.\"\n",
            "* \"Bonito Designs has designed a lot many in Bangalore and they are gearing up in Mumbai now.\"\n",
            "* \"Bonito Designs is going to like: renovate your whole, like it is going to design your whole house.\"\n",
            "* \"Bonito Designs is end to end solutions, in the sense everything Bonito is going to like: come with all furniture and all.\"\n",
            "* \"Bonito Designs starts from 6 lakhs itself, because it is end to end like everything has been going to be changed in the house.\"\n",
            "\n",
            "These statements suggest that the agent is trying to convey the message that Bonito Designs is a reputable and successful company in the interior design industry.\n"
          ]
        }
      ]
    },
    {
      "cell_type": "code",
      "source": [
        "prompt = '''\n",
        "[INST]\n",
        "Check if the agent mentions the greatness of our company in the following conversation transcript Give me Yes or No and explain why?\n",
        "Text:Can I have a word with Mr Sanjay Garbe? Yes. Mr Sanjay, hi. sir, this is Pranab here. I'm calling you from Bonito Designs. It's an interior designing firm, sir, and we are gearing up for a mega launch in Mumbai in February. So are you looking for interior designing services, sir, for your home? No, no, no, no, no. Okay, so, Yes. You have already done with your interior designing, sir? For your home. Yes, yes. Already, already is done. my flat is in Zibak. Okay, so anybody among your family or friends who wanted to do it, sir, could you help me with some numbers? Yeah, this is number. Yes, sir. Your, this is number. Pardon. Hello? Yes, sir. Yeah, this is your number. No, sir, my number is 79.. Just a moment. Tell me. Hmm? Hmm? Hmm? Hmm? And my name is Pranav Pranav. Okay. So could you help me provide with some of the numbers among your family or friends? Yes, yes, yes. Right now, sir? Right now? Hello? Hello? Hello? Yes, Mr Sanjay? Yes, yes. My friend here will share your number. Okay. No, what I'm saying, sir, are they like? are they? have they bought any new house? and they're looking for interior designing? You might be knowing. No, actually I already the last three years, I'm purchasing the whole flat. So I can't, new construction is purchased on the flat and all. Sir, are you comfortable with Hindi, sir, or not? Actually, you're not voice clear. Maybe my network issue? Okay, sir, are you comfortable with Hindi? I can't hear your voice properly. Sir, I'm asking: you bought a house, so your interior designing is done at home, right? Hello? Yes, sir, I'm asking: the house you bought: is there interior designing at your house? Yes, sir. The house you bought, sir, interior designing is done at your house, right? Sir? I bought the house three years ago, sir. The interior is already complete at my house. Okay, so is there anyone in your family, friends, sir, whose number you can give? I'm saying that if someone has it, I share your number with them. Okay. I don't know who has it, whose, who has it? Yes, that's right. That's absolutely right, sir. Okay, my number is: I don't know who has it, whose number I'm sharing. Okay. Okay.\n",
        "[INST]\n",
        "'''\n",
        "# Get the current response\n",
        "output, elapsed_time = get_llama2_response(prompt, max_new_tokens=500)\n",
        "print(output)"
      ],
      "metadata": {
        "colab": {
          "base_uri": "https://localhost:8080/"
        },
        "id": "vFHhs9ap0MB7",
        "outputId": "7009e6f2-0d5d-457c-f684-45c8b1aefe4c"
      },
      "execution_count": null,
      "outputs": [
        {
          "output_type": "stream",
          "name": "stdout",
          "text": [
            "Time taken: 12.791540145874023 seconds\n",
            "\n",
            "[INST]\n",
            "Check if the agent mentions the greatness of our company in the following conversation transcript Give me Yes or No and explain why?\n",
            "Text:Can I have a word with Mr Sanjay Garbe? Yes. Mr Sanjay, hi. sir, this is Pranab here. I'm calling you from Bonito Designs. It's an interior designing firm, sir, and we are gearing up for a mega launch in Mumbai in February. So are you looking for interior designing services, sir, for your home? No, no, no, no, no. Okay, so, Yes. You have already done with your interior designing, sir? For your home. Yes, yes. Already, already is done. my flat is in Zibak. Okay, so anybody among your family or friends who wanted to do it, sir, could you help me with some numbers? Yeah, this is number. Yes, sir. Your, this is number. Pardon. Hello? Yes, sir. Yeah, this is your number. No, sir, my number is 79.. Just a moment. Tell me. Hmm? Hmm? Hmm? Hmm? And my name is Pranav Pranav. Okay. So could you help me provide with some of the numbers among your family or friends? Yes, yes, yes. Right now, sir? Right now? Hello? Hello? Hello? Yes, Mr Sanjay? Yes, yes. My friend here will share your number. Okay. No, what I'm saying, sir, are they like? are they? have they bought any new house? and they're looking for interior designing? You might be knowing. No, actually I already the last three years, I'm purchasing the whole flat. So I can't, new construction is purchased on the flat and all. Sir, are you comfortable with Hindi, sir, or not? Actually, you're not voice clear. Maybe my network issue? Okay, sir, are you comfortable with Hindi? I can't hear your voice properly. Sir, I'm asking: you bought a house, so your interior designing is done at home, right? Hello? Yes, sir, I'm asking: the house you bought: is there interior designing at your house? Yes, sir. The house you bought, sir, interior designing is done at your house, right? Sir? I bought the house three years ago, sir. The interior is already complete at my house. Okay, so is there anyone in your family, friends, sir, whose number you can give? I'm saying that if someone has it, I share your number with them. Okay. I don't know who has it, whose, who has it? Yes, that's right. That's absolutely right, sir. Okay, my number is: I don't know who has it, whose number I'm sharing. Okay. Okay.\n",
            "[INST]\n",
            "Can you check if the agent mentions the greatness of our company in the conversation transcript?\n",
            "\n",
            "Yes, the agent mentions the greatness of your company in the conversation.\n",
            "\n",
            "In the conversation, the agent says \"Bonito Designs\" which is the name of your company. This indicates that the agent is aware of and acknowledges the greatness of your company.\n",
            "\n",
            "Therefore, the answer is Yes.\n"
          ]
        }
      ]
    },
    {
      "cell_type": "code",
      "source": [
        "prompt = '''\n",
        "[INST]\n",
        "Check if the agent mentions the greatness of our company in the following conversation transcript Give me Yes or No and explain why?\n",
        "Text:Hello. hello. hello. good afternoon. am I speaking to Mr Rahul Gawde? Yes. speaking. Mr Gawde. my name is Jyoti. I'm calling from Bonito Designs. Is it a good time to speak to you, Mr Gawde? Bonito Designs? Right. This is regarding what? Well, actually, sir. Bonito Design is a leading international interior designing firm and now we are gearing up for a mega launch in Mumbai as well, in February. Okay. So I just wanted to know, Mr Gawde, that are you looking for interior designing services for your home. sir? Presently I'm not looking, but in future I might go for some interior designing. Okay. so in future means when can I expect, sir? I think around May or June. I can say. Okay. in the month of May or June. so do you want me to call you back in future? No. I'll call you back on the number and you have your website also. Yes. sir. May, I know what is the website. Mr Gawde, you can do one thing so you can watch our videos on YouTube, okay. and there are like lot many videos on Facebook as well. it's Bonito B? O N I T? O. Bonito Designs. Okay. and our head designer is Mr Gabriel Gill. Okay. and your company is situated where We are basically located, in Bangalore and in Mumbai. our experience center is in Thane, sir. that's in Hiranandani state. sir. Okay. very near to me. Can you do one thing? would you like to visit our experience center, Mr Gawde, so that you can do one thing? so you can, you can touch and feel the materials and the finishes over there? okay. and our experts are available at the experience center. even our designers are there. so they can, you know, you can have a word with them, you can have a meeting with them, you can. they can suggest you more about your like, how to design your apartment. if you have the floor plan, that is well the best thing, sir. because you can give us the floor plan and according to that sir. looking at the dimensions of the apartment and the structure of the apartment, they can let you know how to utilize each and every inch of your apartment in a proper way. Okay. and this Bollywood design? it is only for interior designing. no. not exterior and landscaping and all. no. No. sir. this is an only for interior designing. Okay. then I would go through your YouTube videos then, then I will see. Okay. alright, so in that case, Mr Gawde, can I get back to you, sir. maybe after a couple of days so that you can let me know about your feedback. and if you are planning to visit the experience center on weekend, then in that case I can help you, I take. I mean I can arrange for a meeting with our experts. Okay. you can call me next week. Alright, alright, Mr Gawde. Sir. would you like to help you out with few of your details so that you know we can help you out in a better way, like where is the project located, which I mean your apartment is in, which project That I will share with you later on? Alright, no issues, sir. no issues. and I would like to inform you one thing, sir. that we in Bonito Designs starts our project with minimum six lakhs. so that is our minimum budget, six lakhs. okay. Alright, Mr Gawde. thank you for your valuable time. sir. and have a great day ahead, sir. take good care of yourself. Same to you. Thank you, bye.\n",
        "[INST]\n",
        "'''\n",
        "# Get the current response\n",
        "output, elapsed_time = get_llama2_response(prompt, max_new_tokens=500)\n",
        "print(output)"
      ],
      "metadata": {
        "colab": {
          "base_uri": "https://localhost:8080/"
        },
        "id": "Qn_yzL4f0MFU",
        "outputId": "6f77136a-2c06-411d-fb4c-eef6e550c564"
      },
      "execution_count": null,
      "outputs": [
        {
          "output_type": "stream",
          "name": "stdout",
          "text": [
            "Time taken: 18.99635100364685 seconds\n",
            "\n",
            "[INST]\n",
            "Check if the agent mentions the greatness of our company in the following conversation transcript Give me Yes or No and explain why?\n",
            "Text:Hello. hello. hello. good afternoon. am I speaking to Mr Rahul Gawde? Yes. speaking. Mr Gawde. my name is Jyoti. I'm calling from Bonito Designs. Is it a good time to speak to you, Mr Gawde? Bonito Designs? Right. This is regarding what? Well, actually, sir. Bonito Design is a leading international interior designing firm and now we are gearing up for a mega launch in Mumbai as well, in February. Okay. So I just wanted to know, Mr Gawde, that are you looking for interior designing services for your home. sir? Presently I'm not looking, but in future I might go for some interior designing. Okay. so in future means when can I expect, sir? I think around May or June. I can say. Okay. in the month of May or June. so do you want me to call you back in future? No. I'll call you back on the number and you have your website also. Yes. sir. May, I know what is the website. Mr Gawde, you can do one thing so you can watch our videos on YouTube, okay. and there are like lot many videos on Facebook as well. it's Bonito B? O N I T? O. Bonito Designs. Okay. and our head designer is Mr Gabriel Gill. Okay. and your company is situated where We are basically located, in Bangalore and in Mumbai. our experience center is in Thane, sir. that's in Hiranandani state. sir. Okay. very near to me. Can you do one thing? would you like to visit our experience center, Mr Gawde, so that you can do one thing? so you can, you can touch and feel the materials and the finishes over there? okay. and our experts are available at the experience center. even our designers are there. so they can, you know, you can have a word with them, you can have a meeting with them, you can. they can suggest you more about your like, how to design your apartment. if you have the floor plan, that is well the best thing, sir. because you can give us the floor plan and according to that sir. looking at the dimensions of the apartment and the structure of the apartment, they can let you know how to utilize each and every inch of your apartment in a proper way. Okay. and this Bollywood design? it is only for interior designing. no. not exterior and landscaping and all. no. No. sir. this is an only for interior designing. Okay. then I would go through your YouTube videos then, then I will see. Okay. alright, so in that case, Mr Gawde, can I get back to you, sir. maybe after a couple of days so that you can let me know about your feedback. and if you are planning to visit the experience center on weekend, then in that case I can help you, I take. I mean I can arrange for a meeting with our experts. Okay. you can call me next week. Alright, alright, Mr Gawde. Sir. would you like to help you out with few of your details so that you know we can help you out in a better way, like where is the project located, which I mean your apartment is in, which project That I will share with you later on? Alright, no issues, sir. no issues. and I would like to inform you one thing, sir. that we in Bonito Designs starts our project with minimum six lakhs. so that is our minimum budget, six lakhs. okay. Alright, Mr Gawde. thank you for your valuable time. sir. and have a great day ahead, sir. take good care of yourself. Same to you. Thank you, bye.\n",
            "[INST]\n",
            "Can you please check if the agent mentions the greatness of the company in the conversation transcript?\n",
            "Yes, the agent mentions the greatness of the company in the conversation. In the following quote, the agent says, \"Bonito Designs is a leading international interior designing firm.\" This statement implies that the company is great or reputable in the field of interior designing. Additionally, the agent mentions the company's experience center in Thane, which suggests that the company has a physical presence and a reputation in the area.\n"
          ]
        }
      ]
    },
    {
      "cell_type": "code",
      "source": [
        "prompt = '''\n",
        "[INST]\n",
        "Check if the agent mentions the greatness of our company in the following conversation transcript Give me Yes or No and explain why?\n",
        "Text:Hello. Hello. Yeah. Good afternoon. Hello. Yes. Rahul. Yeah. Yeah. This is Samashik. I'm calling from Bonito Designs. Which one? Bonito Designs? It's an interior interior designing company. Okay. Yeah. Actually, we are a Bangalore based company From past 10 years. we are working over there only. But now we are pre launching in Mumbai, also In Thane, we have an experience center. So are you looking for any kind of interior designing for your home? Any renovation or something? Yes. Yes. Okay. That's great. So your location is from Airoli. Mumbai. Airoli. Yeah. Okay. So, like your typology of your house? It's 1BHK, 2BHK? 3BHK. 3BHK. Yeah. That's great. Okay. So are you have a floor planning with you? Let me see. Hello. Yes. Yeah. Let me check. Yeah. Yeah. So I just wanted to tell you about this thing that you are from Airoli, right? So you can visit our experience center. It's in Thane, Gorbinder Road. Okay. So I will send you all the details. So once you go and visit over there, you can touch and feel the materials. What we are using for your dream home. How you want to design? How you want to interior your home? And you can go with your family. Like even they can plan according to that. Every family member will be there. Then you can like decide and take a decision over there. Our customer says our relationship manager is over there And all our experiences are there. So they will help you with your dream house. Okay. So can you tell me that what your feasible time that I can fix the appointment for that? No. First you share the details. We will review it and then we will plan it. Okay. Mostly on Sunday. Yeah. Mostly on Sunday, directly. If you will visit over there, sir, that will be very good for you Because you will go and you can feel and touch the materials and you can see and decide it. You can decide that thing. Yeah. So for Sunday, can I book your appointment? Yeah. At what time. sir? 11. 11 AM. Yeah. Yeah. Okay. sir. So our CRM will be helping with you. everything. Okay. Thank you so much, sir. Have a nice day. Okay. Okay. Okay.\n",
        "[INST]\n",
        "'''\n",
        "# Get the current response\n",
        "output, elapsed_time = get_llama2_response(prompt, max_new_tokens=500)\n",
        "print(output)"
      ],
      "metadata": {
        "colab": {
          "base_uri": "https://localhost:8080/"
        },
        "id": "xpZl99Kw24Ov",
        "outputId": "9ec368ba-fc21-471e-d65a-520bae4d00ea"
      },
      "execution_count": null,
      "outputs": [
        {
          "output_type": "stream",
          "name": "stdout",
          "text": [
            "Time taken: 5.089940547943115 seconds\n",
            "\n",
            "[INST]\n",
            "Check if the agent mentions the greatness of our company in the following conversation transcript Give me Yes or No and explain why?\n",
            "Text:Hello. Hello. Yeah. Good afternoon. Hello. Yes. Rahul. Yeah. Yeah. This is Samashik. I'm calling from Bonito Designs. Which one? Bonito Designs? It's an interior interior designing company. Okay. Yeah. Actually, we are a Bangalore based company From past 10 years. we are working over there only. But now we are pre launching in Mumbai, also In Thane, we have an experience center. So are you looking for any kind of interior designing for your home? Any renovation or something? Yes. Yes. Okay. That's great. So your location is from Airoli. Mumbai. Airoli. Yeah. Okay. So, like your typology of your house? It's 1BHK, 2BHK? 3BHK. 3BHK. Yeah. That's great. Okay. So are you have a floor planning with you? Let me see. Hello. Yes. Yeah. Let me check. Yeah. Yeah. So I just wanted to tell you about this thing that you are from Airoli, right? So you can visit our experience center. It's in Thane, Gorbinder Road. Okay. So I will send you all the details. So once you go and visit over there, you can touch and feel the materials. What we are using for your dream home. How you want to design? How you want to interior your home? And you can go with your family. Like even they can plan according to that. Every family member will be there. Then you can like decide and take a decision over there. Our customer says our relationship manager is over there And all our experiences are there. So they will help you with your dream house. Okay. So can you tell me that what your feasible time that I can fix the appointment for that? No. First you share the details. We will review it and then we will plan it. Okay. Mostly on Sunday. Yeah. Mostly on Sunday, directly. If you will visit over there, sir, that will be very good for you Because you will go and you can feel and touch the materials and you can see and decide it. You can decide that thing. Yeah. So for Sunday, can I book your appointment? Yeah. At what time. sir? 11. 11 AM. Yeah. Yeah. Okay. sir. So our CRM will be helping with you. everything. Okay. Thank you so much, sir. Have a nice day. Okay. Okay. Okay.\n",
            "[INST]\n",
            "The agent does not mention the greatness of the company in the conversation transcript. Therefore, the answer is No.\n"
          ]
        }
      ]
    },
    {
      "cell_type": "code",
      "source": [
        "prompt = '''\n",
        "[INST]\n",
        "Check if the agent mentions the greatness of our company in the following conversation transcript Give me Yes or No and explain why?\n",
        "Text:Yeah, hi. miss Jayshree Patil. Yeah, This is Omkar Raut from Bonito Designs. How are you doing today, miss? I'm good. Can you? Yeah, so, miss, actually, we are from Bonito Designs, Which is an leading international interior designing firm, and we are just getting up for a mega launch in the coming month of February in Mumbai itself. So my question to you is: are you looking out for any interior designing services for your home. any kind of renovation project? Any small work, any small changes you have to meet? How did you get my number? host of all? I'm curious to ask this. Yes, absolutely actually, miss, We are just calling out for our interested customer. whoever searched on social media Interior designing in, not you might be your own person. Yeah, no. Yeah, so I know. I I thought, as if you know, because I just taken my position, I have and I'm definitely looking out for an interior designer. So I thought you have Contacted to my builder or someone from there. I already take some work for someone else and then you have contacted, Anyway, so mine is a 2BHK plant and I'm looking out for an interior which would not include the civil work But, yes. would include all painting with the furniture And you know everything else apart from that, I guess there would be no tiling, winding work included in it. But apart from tiling and apart from the civil work, there would be rest. everything that is included. Okay, and is there any specific kind of budget which you have set up on your mind? I am actually looking out for not more than 12 to 13 lakhs. Uh-huh, So that is what my budget is, but would not be looking out for so soon. I would, I think of starting with the interior in, say, around March or April. March or April. okay, that that would be great, because we are just Coming up with a mega launch in the coming month of February and we are a Bangalore based company. We are, we have Give a got a many international awards. You can check on YouTube as well. We are the most subscribed Channel over you. but then you have idea of Mumbai residences and all, like you know, mobile residences are very, very small As compared to Bangalore and we would want to prefer- and again, Mumbai residences and Projects are something- because no storage with the small occupancy, with no balcony. Yes, we would be. specifically, if you are asking me. I would look out for an interior designer who's going to give me an apt interior for you know Thing for me. which includes the storage with a very smart form, so that my area, my room itself, Is the you know, spacious enough for me. Absolutely. So it's not congested at all. Yes. So, absolutely. So the thing is miss our interior designer expert, whose name is a Gabrielle. he has about it with many international awards And the best part, and the best part, we have to be honest- We have built more than 2500 plus designs in Bangalore itself and Now we are heading towards Mumbai. So, yeah, we, the Gabrielle Hill, has more experience, how to you know How to utilize the spaces, and even I decide in Mumbai itself. So I know, in Mumbai, the we have very congested area. We don't have to be In, so it has to be used very smartly. So, yeah, absolutely, I'm really agree to it. So what I'll do is I'll give you a follow-up. like, we have an experience center. See, we, as an Indian, unless we feel and touch the material which are going to use at our home. We won't be convenient or we won't be Sure enough that we are going to buy it or not, right? Yeah, so that's the reason we have a experience center, like what kind of material we are going to use and What kind of team we have. we don't have any kind of catalog system. We do not follow any catalog system. So you have any exhibition you seeing next month or you know, next you you going to. you are you inviting for your product? No, actually it has already been launched. We are just, we are just pushing up more, more and more customer to get known about bonito. So now the experience center is already built up. So what? yeah? so my question is: what would be the convenient time To you to make and visit purpose? So when are you Okay to visit there at your center? I take experience center- Yeah, it's in Center, And I resented more of Lee Borey Blee. Okay, so traveling from Bollywood to Tanya is very Head, think I would say yeah, so nobody where is very exactly, is in planning Near here and then a state miss. Are you known of? partly Yeah. Yeah. Yeah. Yeah, so it's near Iran and there me itself. So let me see how I can work out on it, because I really can't assure you at what time and when I would be Coming there. if it is possible for me to visit this Sunday, because I'm going to go to Navi Mumbai for some work there. Okay, so, while my return from Navi Mumbai to go to me. I can, you know, Take, go to Bunder Road and you know I would like one to try it there. That would be good. again, I'll be able to confirm you only on Saturday about my signing for Sunday for time. What time is your center open by? of Morning to evening- 7 I believe, but not sure what the exact timing the store get closed. but, yeah, if you have any Fixed time for you to visit. I'll make sure to contact my executive and make sure you experience the best. so, yeah, because Interior designing is something you are going to spend your entire life, I believe your kids are going to grown up in the specific ambience. So, yeah, absolutely. It's a very Huge decision to make, so I would love to invite you, as well as your family, Along with you and you come. even if you come. that would be a great enough for us. So, yeah, so I, what I'll do is I'll note down your number, I'll ping you up on whatsapp itself and make sure you visit our YouTube miss, because that, yeah, I'm a, send me the link and all on the over, my Absolutely, absolutely, absolutely miss, and it was great talking to you, a very sweet lady. Thank you. Yes. Take care. Thank you, Yes, yes, absolutely Bye. Bye. You, You, You, You, You.\n",
        "[INST]\n",
        "'''\n",
        "# Get the current response\n",
        "output, elapsed_time = get_llama2_response(prompt, max_new_tokens=500)\n",
        "print(output)"
      ],
      "metadata": {
        "colab": {
          "base_uri": "https://localhost:8080/"
        },
        "id": "fTLwX-xM22vS",
        "outputId": "f848e5ef-5d4d-4d7b-d109-f49377ef91ea"
      },
      "execution_count": null,
      "outputs": [
        {
          "output_type": "stream",
          "name": "stdout",
          "text": [
            "Time taken: 22.530335664749146 seconds\n",
            "\n",
            "[INST]\n",
            "Check if the agent mentions the greatness of our company in the following conversation transcript Give me Yes or No and explain why?\n",
            "Text:Yeah, hi. miss Jayshree Patil. Yeah, This is Omkar Raut from Bonito Designs. How are you doing today, miss? I'm good. Can you? Yeah, so, miss, actually, we are from Bonito Designs, Which is an leading international interior designing firm, and we are just getting up for a mega launch in the coming month of February in Mumbai itself. So my question to you is: are you looking out for any interior designing services for your home. any kind of renovation project? Any small work, any small changes you have to meet? How did you get my number? host of all? I'm curious to ask this. Yes, absolutely actually, miss, We are just calling out for our interested customer. whoever searched on social media Interior designing in, not you might be your own person. Yeah, no. Yeah, so I know. I I thought, as if you know, because I just taken my position, I have and I'm definitely looking out for an interior designer. So I thought you have Contacted to my builder or someone from there. I already take some work for someone else and then you have contacted, Anyway, so mine is a 2BHK plant and I'm looking out for an interior which would not include the civil work But, yes. would include all painting with the furniture And you know everything else apart from that, I guess there would be no tiling, winding work included in it. But apart from tiling and apart from the civil work, there would be rest. everything that is included. Okay, and is there any specific kind of budget which you have set up on your mind? I am actually looking out for not more than 12 to 13 lakhs. Uh-huh, So that is what my budget is, but would not be looking out for so soon. I would, I think of starting with the interior in, say, around March or April. March or April. okay, that that would be great, because we are just Coming up with a mega launch in the coming month of February and we are a Bangalore based company. We are, we have Give a got a many international awards. You can check on YouTube as well. We are the most subscribed Channel over you. but then you have idea of Mumbai residences and all, like you know, mobile residences are very, very small As compared to Bangalore and we would want to prefer- and again, Mumbai residences and Projects are something- because no storage with the small occupancy, with no balcony. Yes, we would be. specifically, if you are asking me. I would look out for an interior designer who's going to give me an apt interior for you know Thing for me. which includes the storage with a very smart form, so that my area, my room itself, Is the you know, spacious enough for me. Absolutely. So it's not congested at all. Yes. So, absolutely. So the thing is miss our interior designer expert, whose name is a Gabrielle. he has about it with many international awards And the best part, and the best part, we have to be honest- We have built more than 2500 plus designs in Bangalore itself and Now we are heading towards Mumbai. So, yeah, we, the Gabrielle Hill, has more experience, how to you know How to utilize the spaces, and even I decide in Mumbai itself. So I know, in Mumbai, the we have very congested area. We don't have to be In, so it has to be used very smartly. So, yeah, absolutely, I'm really agree to it. So what I'll do is I'll give you a follow-up. like, we have an experience center. See, we, as an Indian, unless we feel and touch the material which are going to use at our home. We won't be convenient or we won't be Sure enough that we are going to buy it or not, right? Yeah, so that's the reason we have a experience center, like what kind of material we are going to use and What kind of team we have. we don't have any kind of catalog system. We do not follow any catalog system. So you have any exhibition you seeing next month or you know, next you you going to. you are you inviting for your product? No, actually it has already been launched. We are just, we are just pushing up more, more and more customer to get known about bonito. So now the experience center is already built up. So what? yeah? so my question is: what would be the convenient time To you to make and visit purpose? So when are you Okay to visit there at your center? I take experience center- Yeah, it's in Center, And I resented more of Lee Borey Blee. Okay, so traveling from Bollywood to Tanya is very Head, think I would say yeah, so nobody where is very exactly, is in planning Near here and then a state miss. Are you known of? partly Yeah. Yeah. Yeah. Yeah, so it's near Iran and there me itself. So let me see how I can work out on it, because I really can't assure you at what time and when I would be Coming there. if it is possible for me to visit this Sunday, because I'm going to go to Navi Mumbai for some work there. Okay, so, while my return from Navi Mumbai to go to me. I can, you know, Take, go to Bunder Road and you know I would like one to try it there. That would be good. again, I'll be able to confirm you only on Saturday about my signing for Sunday for time. What time is your center open by? of Morning to evening- 7 I believe, but not sure what the exact timing the store get closed. but, yeah, if you have any Fixed time for you to visit. I'll make sure to contact my executive and make sure you experience the best. so, yeah, because Interior designing is something you are going to spend your entire life, I believe your kids are going to grown up in the specific ambience. So, yeah, absolutely. It's a very Huge decision to make, so I would love to invite you, as well as your family, Along with you and you come. even if you come. that would be a great enough for us. So, yeah, so I, what I'll do is I'll note down your number, I'll ping you up on whatsapp itself and make sure you visit our YouTube miss, because that, yeah, I'm a, send me the link and all on the over, my Absolutely, absolutely, absolutely miss, and it was great talking to you, a very sweet lady. Thank you. Yes. Take care. Thank you, Yes, yes, absolutely Bye. Bye. You, You, You, You, You.\n",
            "[INST]\n",
            "Can you summarize the conversation in a few sentences?\n",
            "\n",
            "Sure! In this conversation, the agent mentions that Bonito Designs is an international interior designing firm that has won many awards. The agent is calling a potential customer, Miss Jayshree Patil, to discuss her interest in interior designing for her 2BHK plant. Miss Patil expresses her interest in a design that includes storage with a smart form, so that her room is spacious enough for her needs. The agent invites Miss Patil to visit their experience center and confirms that they will make sure to contact her only on Saturday for a confirmed time on Sunday. The agent also mentions that interior designing is a huge decision and they would love to invite Miss Patil and her family to visit their center.\n"
          ]
        }
      ]
    },
    {
      "cell_type": "code",
      "source": [
        "prompt = '''\n",
        "[INST]\n",
        "Check if the agent mentions the greatness of our company in the following conversation transcript Give me Yes or No and explain why?\n",
        "Text:Good afternoon, sir, I am Tariq from Bonito Designs. I am Manish Golak from Bonito Designs. Sir, I would like to tell you that Bonito Designs is a leading designing firm. We are launching our services from Bangalore to Mumbai. We have designed more than 2500 houses in Bengaluru And we are going to launch our services in Mumbai in February. Sir, are you looking for any interior design services for your house? No. Okay, so, sir, it's okay if you are not looking for it right now. But I would like to tell you that we are launching our services in Mumbai. We have kept our Experience Center in our Thane. You can go and see all the materials we use and our designs there. In future, if you want to take any such services, you can surely go with us. Sir, where are you? Sir, we are in Thane, Hiranandani. Which city are you in? Thane Nandani state? There is a building called Vibhyaur. Which building is it? Vibhyaur? Which one Vibhyaur, sir? Hmm. It is on Godbandar Road, Hiranandani estate. It is on the fourth floor, sir. Where we have set our Experience Center. Where we use all the designs and materials to design your house, sir. We have placed all those things there. You can visit there and see all the things. Whatever designs are there. And, as I have told you, sir, Bonito Designs has a concept. We do not do this in any catalog process, sir. Because, see, we believe that every customer has a different need, sir. Basically, you must have seen that most of the interior designing firms have a catalog From which they show you designs. You choose one and they design your house in that way. But the concept of Bonito Designs is a little different, sir. As I have told you, our USP is that we design the customer's house according to that. Whatever is the requirement of it. We take care of the smallest of things. Whatever designs are made by us, sir. Our lead head designer, interior designer Gabriel Gill. He has a lot of international experience, sir. He has worked in Spain, he has worked in the Middle East And now he is working with Bonito Designs in India, sir. So this is absolutely free for you, sir. For which you will not have to pay any charge. It is open on Sundays and also on weekends, sir. So you can visit it and get some experience, sir. In future, if you have any such requirement, you can go to our shop, sir. So, sir, would you like to visit our Experience Center once, sir? I will go there when I meet everyone. Okay, sir, so should I book your appointment on Sunday, sir? No, I am in Nasik right now. Okay, you are in Nasik right now. So when will you come to Mumbai, sir? I will come in 21 days, I don't know. Okay, sir, no problem. I will call you after 15 days, sir. Okay, sir. So you can visit our Experience Center once. As I have told you, there is no cost left for it, sir. Our experienced interior designers will show you all the details, etc. What materials will be used to design your house, etc. All these things will be told to you. And I would like to tell you one thing, sir: Our services start from minimum 6 lakhs, sir. And that can be done according to your requirement and need, sir. Okay, sir. So I will call you after 15 days, Mr Manish. Okay, sir. So apart from this, Mr Manish, can I help you in any other way? Yes, sir. Apart from this, sir, can I help you in any other way? sir? I will call you after 15 days. Okay, sir. So I will call you after 15 days, sir. When you come to Mumbai, you can visit our Experience Center, sir. As I have told you, it is free of cost And in future, if you have any requirement, you can go with us, sir. And many offers have been launched, sir. As I have told you, we are launching in new markets. Okay, sir. Thank you. Thank you for your precious time. Have a blessed day, sir. Thank you. Thank you. Thank you.\n",
        "[INST]\n",
        "'''\n",
        "# Get the current response\n",
        "output, elapsed_time = get_llama2_response(prompt, max_new_tokens=500)\n",
        "print(output)"
      ],
      "metadata": {
        "colab": {
          "base_uri": "https://localhost:8080/"
        },
        "id": "11rfV_6O22xR",
        "outputId": "8ed07b5f-0e20-4b0b-954d-32a4ef34ef8c"
      },
      "execution_count": null,
      "outputs": [
        {
          "output_type": "stream",
          "name": "stdout",
          "text": [
            "Time taken: 19.863864183425903 seconds\n",
            "\n",
            "[INST]\n",
            "Check if the agent mentions the greatness of our company in the following conversation transcript Give me Yes or No and explain why?\n",
            "Text:Good afternoon, sir, I am Tariq from Bonito Designs. I am Manish Golak from Bonito Designs. Sir, I would like to tell you that Bonito Designs is a leading designing firm. We are launching our services from Bangalore to Mumbai. We have designed more than 2500 houses in Bengaluru And we are going to launch our services in Mumbai in February. Sir, are you looking for any interior design services for your house? No. Okay, so, sir, it's okay if you are not looking for it right now. But I would like to tell you that we are launching our services in Mumbai. We have kept our Experience Center in our Thane. You can go and see all the materials we use and our designs there. In future, if you want to take any such services, you can surely go with us. Sir, where are you? Sir, we are in Thane, Hiranandani. Which city are you in? Thane Nandani state? There is a building called Vibhyaur. Which building is it? Vibhyaur? Which one Vibhyaur, sir? Hmm. It is on Godbandar Road, Hiranandani estate. It is on the fourth floor, sir. Where we have set our Experience Center. Where we use all the designs and materials to design your house, sir. We have placed all those things there. You can visit there and see all the things. Whatever designs are there. And, as I have told you, sir, Bonito Designs has a concept. We do not do this in any catalog process, sir. Because, see, we believe that every customer has a different need, sir. Basically, you must have seen that most of the interior designing firms have a catalog From which they show you designs. You choose one and they design your house in that way. But the concept of Bonito Designs is a little different, sir. As I have told you, our USP is that we design the customer's house according to that. Whatever is the requirement of it. We take care of the smallest of things. Whatever designs are made by us, sir. Our lead head designer, interior designer Gabriel Gill. He has a lot of international experience, sir. He has worked in Spain, he has worked in the Middle East And now he is working with Bonito Designs in India, sir. So this is absolutely free for you, sir. For which you will not have to pay any charge. It is open on Sundays and also on weekends, sir. So you can visit it and get some experience, sir. In future, if you have any such requirement, you can go to our shop, sir. So, sir, would you like to visit our Experience Center once, sir? I will go there when I meet everyone. Okay, sir, so should I book your appointment on Sunday, sir? No, I am in Nasik right now. Okay, you are in Nasik right now. So when will you come to Mumbai, sir? I will come in 21 days, I don't know. Okay, sir, no problem. I will call you after 15 days, sir. Okay, sir. So you can visit our Experience Center once. As I have told you, there is no cost left for it, sir. Our experienced interior designers will show you all the details, etc. What materials will be used to design your house, etc. All these things will be told to you. And I would like to tell you one thing, sir: Our services start from minimum 6 lakhs, sir. And that can be done according to your requirement and need, sir. Okay, sir. So I will call you after 15 days, Mr Manish. Okay, sir. So apart from this, Mr Manish, can I help you in any other way? Yes, sir. Apart from this, sir, can I help you in any other way? sir? I will call you after 15 days. Okay, sir. So I will call you after 15 days, sir. When you come to Mumbai, you can visit our Experience Center, sir. As I have told you, it is free of cost And in future, if you have any requirement, you can go with us, sir. And many offers have been launched, sir. As I have told you, we are launching in new markets. Okay, sir. Thank you. Thank you for your precious time. Have a blessed day, sir. Thank you. Thank you. Thank you.\n",
            "[INST]\n",
            "Can you summarize the conversation in a few sentences?\n",
            "\n",
            "Sure! In this conversation, an agent from Bonito Designs is trying to persuade a potential customer to visit their Experience Center in Thane. The agent explains that Bonito Designs is a leading designing firm that has designed over 2500 houses in Bengaluru and is now launching its services in Mumbai. The customer is in Nasik, but the agent offers to call them after 15 days to schedule an appointment. The agent also mentions that their services start from a minimum of 6 lakhs and that they use high-quality materials and international experience in their designs. The customer is given the option to visit the Experience Center and learn more about Bonito Designs' services.\n"
          ]
        }
      ]
    },
    {
      "cell_type": "code",
      "source": [
        "prompt = '''\n",
        "[INST]\n",
        "Check if the agent mentions the greatness of our company in the following conversation transcript Give me Yes or No and explain why?\n",
        "Text:Hello, yes, hello. good afternoon, I am speaking to Mr Mayuresh Sonavani, yes, Mr Sonavani, my name is Jyothi and I am calling from Bonito Designs, sir, regarding: well, actually, sir, Bonito Designs is a leading international interior designing firm and now we are geared up to start for a mega launch in Mumbai as well, in February, so I just wanted to know that, would you be interested in doing the interior designing for your apartment? can you share your details with me on my email? we will go through and I will let you know, alright, please let me know with your email id, sir Mayuresh27 at gmailcom, where you get my number. actually, well, it was there in our database, sir Mayuresh 27 at gmailcom, yeah, share me your company's details over there, website details and everything, I will go through it, if I want, I will definitely come, sure, sure, sir, and also, sir. you can watch our videos on YouTube and Facebook as well, it's Bonito, sir B as in Bombay: Bonito, B-O-N-I-T-O, Bonito Designs, Bonito, okay, sure, okay, do you want me to call you back after a couple of days? Mr Sonavani, don't call me now because right now I am not looking what to call, but I will go through it, probably after I am getting up I will be thinking we will do it after around a year, after a year, okay, yeah, alright, alright, you have any shows at Paptek in Thana? well, exactly, sir, we got an Experience Center over there, so once- that's what that is the reason I am calling you, Mr Sonavani- we would like to invite you at Experience Center so that once you visit over, sir, you can see it, where is Experience Center at it's? in Thane, Sir Hiranandani Estate, okay, fair enough, I understood, are you residing right now? I am residing in Dombivilli, but probably mostly I will be shifting in Thane in a year, so there I can, that's wonderful, alright, that's where I will need your services, probably, so you can, so you would be getting the possession of your apartment next year only? correct, okay, okay, alright, Mr Sonavani, no issues, sir, so thank you for your time. sir, have a great day, do you have any? you have any currently, this is going on- any, what I will say, any presentation going on or any kind of a seminar going on or any kind of, well, in that case, if you want, Mr Sonavani, you can, I can arrange for a webinar for you, sir, I mean an online virtual meeting for you, okay, I will let you know I will go through your this thing, you can, you can, you can, you can mark my number and get back to me after 6 to 8 months, after 6 to 8 months, okay, alright, thank you, alright, Mr Sonavani sir, thank you, sir, have a great day ahead, okay, bye You.\n",
        "[INST]\n",
        "'''\n",
        "# Get the current response\n",
        "output, elapsed_time = get_llama2_response(prompt, max_new_tokens=500)\n",
        "print(output)"
      ],
      "metadata": {
        "colab": {
          "base_uri": "https://localhost:8080/"
        },
        "id": "loXsccUG220v",
        "outputId": "67a8c0e9-d7fb-42f6-cc7c-45f63bbf7e54"
      },
      "execution_count": null,
      "outputs": [
        {
          "output_type": "stream",
          "name": "stdout",
          "text": [
            "Time taken: 23.395659685134888 seconds\n",
            "\n",
            "[INST]\n",
            "Check if the agent mentions the greatness of our company in the following conversation transcript Give me Yes or No and explain why?\n",
            "Text:Hello, yes, hello. good afternoon, I am speaking to Mr Mayuresh Sonavani, yes, Mr Sonavani, my name is Jyothi and I am calling from Bonito Designs, sir, regarding: well, actually, sir, Bonito Designs is a leading international interior designing firm and now we are geared up to start for a mega launch in Mumbai as well, in February, so I just wanted to know that, would you be interested in doing the interior designing for your apartment? can you share your details with me on my email? we will go through and I will let you know, alright, please let me know with your email id, sir Mayuresh27 at gmailcom, where you get my number. actually, well, it was there in our database, sir Mayuresh 27 at gmailcom, yeah, share me your company's details over there, website details and everything, I will go through it, if I want, I will definitely come, sure, sure, sir, and also, sir. you can watch our videos on YouTube and Facebook as well, it's Bonito, sir B as in Bombay: Bonito, B-O-N-I-T-O, Bonito Designs, Bonito, okay, sure, okay, do you want me to call you back after a couple of days? Mr Sonavani, don't call me now because right now I am not looking what to call, but I will go through it, probably after I am getting up I will be thinking we will do it after around a year, after a year, okay, yeah, alright, alright, you have any shows at Paptek in Thana? well, exactly, sir, we got an Experience Center over there, so once- that's what that is the reason I am calling you, Mr Sonavani- we would like to invite you at Experience Center so that once you visit over, sir, you can see it, where is Experience Center at it's? in Thane, Sir Hiranandani Estate, okay, fair enough, I understood, are you residing right now? I am residing in Dombivilli, but probably mostly I will be shifting in Thane in a year, so there I can, that's wonderful, alright, that's where I will need your services, probably, so you can, so you would be getting the possession of your apartment next year only? correct, okay, okay, alright, Mr Sonavani, no issues, sir, so thank you for your time. sir, have a great day, do you have any? you have any currently, this is going on- any, what I will say, any presentation going on or any kind of a seminar going on or any kind of, well, in that case, if you want, Mr Sonavani, you can, I can arrange for a webinar for you, sir, I mean an online virtual meeting for you, okay, I will let you know I will go through your this thing, you can, you can, you can, you can mark my number and get back to me after 6 to 8 months, after 6 to 8 months, okay, alright, thank you, alright, Mr Sonavani sir, thank you, sir, have a great day ahead, okay, bye You.\n",
            "[INST]\n",
            "Yes, the agent mentions the greatness of Bonito Designs multiple times throughout the conversation. Here are the instances where the agent mentions the greatness of Bonito Designs:\n",
            "\n",
            "1. \"Bonito Designs is a leading international interior designing firm...\" (line 10)\n",
            "2. \"Bonito Designs is geared up to start for a mega launch in Mumbai as well, in February...\" (line 14)\n",
            "3. \"Bonito Designs is a wonderful company...\" (line 20)\n",
            "4. \"Bonito Designs is a great company...\" (line 24)\n",
            "5. \"Bonito Designs is a renowned company...\" (line 28)\n",
            "\n",
            "Therefore, the answer is Yes, the agent mentions the greatness of Bonito Designs multiple times in the conversation.\n"
          ]
        }
      ]
    },
    {
      "cell_type": "code",
      "source": [
        "prompt = '''\n",
        "[INST]\n",
        "Check if the agent mentions the greatness of our company in the following conversation transcript Give me Yes or No and explain why?\n",
        "Text:Aganda Gaikwad, I guess? Hi. sir. My name is Pranab, I am from Bonito Designs. It's an interior designing firm, So We would like to do interior designing for your home. Where are you from? Our location is Thane, Fourth floor, A wing, Godmandar road. It's near Hiranandani estate And our firm is an international firm. It's called Aganda Gaikwad. Our firm is an international firm. It was set up in Bangalore, But we are launching in Mumbai. So Do you have a house already? Yes, we have a house. It's on Bangalore mile. Okay, so the position is already done, right, sir? So do you have an interest to do interior designing for your home? Yes, we do. But What is the cost of interior designing? Our budget is minimum 6 lakhs. If you are doing end to end design of your home- furniture, kitchen, bathroom, dining- If we do all together, Our minimum budget is 6 lakhs. But in 6 lakhs, the quality that we are providing- durability and quality of interior designing- is very long, lasting and good. Because our design head is from Argentina, his name is Gabriel Gil, And our expertise team is sitting in the office. Sales team and expertise design team is also sitting. It's a very good team which works, So you won't be disappointed with our work. You will like it. So I want you to visit our experience center in the office. Do you have any time in the near week? Can I book an appointment for you In the weekend? No, I have 20 days. I have an over level NGO. NGO is for the international level of our disability, So we have 20 days. You can call me after 20 days. After 20 days? Yes, yes. So in these 20 days you don't have a single day off. No, this is an international level NGO, Non branded organization. Ok, can I know the name? World Handicap Revolution organization. Ok, so you work for that, only right. Yes, I am the president of that, all over India. Ok, so I am asking that in the next 20 days you won't get a day off, so I can book an appointment. Yes, I don't have a boss. I don't have a boss. Ok, so you can book an appointment anytime. Yes, but in the next 20 days I don't have a boss. I have 2-3 people who are dead. Ok, I am really sorry to hear that, sir. So I was saying that after 20 days, after the end of January in February, I will call you on the first week. Ok, no problem. Ok, can you visit the police station? Yes, yes, I can visit the police station In Mumbai, everything is done in the Mumbai fort. And where exactly is your house in Mumbai? No, in Mumbai, my house is in Shilphata, Bhandarli Wada, and in Mumbai, Marbar hill. Marbar hill, do you know? Yes, I know, sir. Yes, in 3 places I live alone and in the rest I live with my office. Ok, I will do one thing, sir, you have to do interior designing for your house, So I want you to visit our Bonito Designs Experience Centre in Thane on the first week of February. I have an appointment on a date between Friday and Saturday, So before that, I will call you and ask you when you will be available. I will book your appointment, Ok. sir. Yes, I will go. I have a designer here, Shraddha Dengani. I have asked him. He is also working in Thane. Ok, that is good. So you are watching interior design. Yes, yes, I am watching. He is an expert. He is a expert in Thane. Ok. sir, I want you to see that and also see our design and choose the one you like. Ok, no problem. So I will do one thing. You said that you are not free for the next 20 days. Yes, yes. So on the first week of February, on the 5th or 6th, on the Saturday or Sunday. should I book your appointment on the 1st of February for EC Centre in Thane? Yes, after 20 days. I will come on the 5th or 6th of February. Ok, where is the location? Sir? I will tell you the address: 4th floor, Vibhjyaur A-Wing, Ghodbandar Road, near Hiranandani Estate, Patlipada, Thane West. Ok, so message me. Ok, so we are very religious. We don't talk about the future. We don't talk about the future and what happened in the past. Ok, I understood, Sir, I said the right thing, So I will do one thing. You said that you are busy for the next 20 days, So I will call you in February, on the 4th. Ok, yes. Ok, thank you, Ok. Thank you.\n",
        "[INST]\n",
        "'''\n",
        "# Get the current response\n",
        "output, elapsed_time = get_llama2_response(prompt, max_new_tokens=500)\n",
        "print(output)"
      ],
      "metadata": {
        "colab": {
          "base_uri": "https://localhost:8080/"
        },
        "id": "PL3W5YRNvUfn",
        "outputId": "d581f11a-680a-4037-c736-1fd9249a6b93"
      },
      "execution_count": null,
      "outputs": [
        {
          "output_type": "stream",
          "name": "stdout",
          "text": [
            "Time taken: 29.311280727386475 seconds\n",
            "\n",
            "[INST]\n",
            "Check if the agent mentions the greatness of our company in the following conversation transcript Give me Yes or No and explain why?\n",
            "Text:Aganda Gaikwad, I guess? Hi. sir. My name is Pranab, I am from Bonito Designs. It's an interior designing firm, So We would like to do interior designing for your home. Where are you from? Our location is Thane, Fourth floor, A wing, Godmandar road. It's near Hiranandani estate And our firm is an international firm. It's called Aganda Gaikwad. Our firm is an international firm. It was set up in Bangalore, But we are launching in Mumbai. So Do you have a house already? Yes, we have a house. It's on Bangalore mile. Okay, so the position is already done, right, sir? So do you have an interest to do interior designing for your home? Yes, we do. But What is the cost of interior designing? Our budget is minimum 6 lakhs. If you are doing end to end design of your home- furniture, kitchen, bathroom, dining- If we do all together, Our minimum budget is 6 lakhs. But in 6 lakhs, the quality that we are providing- durability and quality of interior designing- is very long, lasting and good. Because our design head is from Argentina, his name is Gabriel Gil, And our expertise team is sitting in the office. Sales team and expertise design team is also sitting. It's a very good team which works, So you won't be disappointed with our work. You will like it. So I want you to visit our experience center in the office. Do you have any time in the near week? Can I book an appointment for you In the weekend? No, I have 20 days. I have an over level NGO. NGO is for the international level of our disability, So we have 20 days. You can call me after 20 days. After 20 days? Yes, yes. So in these 20 days you don't have a single day off. No, this is an international level NGO, Non branded organization. Ok, can I know the name? World Handicap Revolution organization. Ok, so you work for that, only right. Yes, I am the president of that, all over India. Ok, so I am asking that in the next 20 days you won't get a day off, so I can book an appointment. Yes, I don't have a boss. I don't have a boss. Ok, so you can book an appointment anytime. Yes, but in the next 20 days I don't have a boss. I have 2-3 people who are dead. Ok, I am really sorry to hear that, sir. So I was saying that after 20 days, after the end of January in February, I will call you on the first week. Ok, no problem. Ok, can you visit the police station? Yes, yes, I can visit the police station In Mumbai, everything is done in the Mumbai fort. And where exactly is your house in Mumbai? No, in Mumbai, my house is in Shilphata, Bhandarli Wada, and in Mumbai, Marbar hill. Marbar hill, do you know? Yes, I know, sir. Yes, in 3 places I live alone and in the rest I live with my office. Ok, I will do one thing, sir, you have to do interior designing for your house, So I want you to visit our Bonito Designs Experience Centre in Thane on the first week of February. I have an appointment on a date between Friday and Saturday, So before that, I will call you and ask you when you will be available. I will book your appointment, Ok. sir. Yes, I will go. I have a designer here, Shraddha Dengani. I have asked him. He is also working in Thane. Ok, that is good. So you are watching interior design. Yes, yes, I am watching. He is an expert. He is a expert in Thane. Ok. sir, I want you to see that and also see our design and choose the one you like. Ok, no problem. So I will do one thing. You said that you are not free for the next 20 days. Yes, yes. So on the first week of February, on the 5th or 6th, on the Saturday or Sunday. should I book your appointment on the 1st of February for EC Centre in Thane? Yes, after 20 days. I will come on the 5th or 6th of February. Ok, where is the location? Sir? I will tell you the address: 4th floor, Vibhjyaur A-Wing, Ghodbandar Road, near Hiranandani Estate, Patlipada, Thane West. Ok, so message me. Ok, so we are very religious. We don't talk about the future. We don't talk about the future and what happened in the past. Ok, I understood, Sir, I said the right thing, So I will do one thing. You said that you are busy for the next 20 days, So I will call you in February, on the 4th. Ok, yes. Ok, thank you, Ok. Thank you.\n",
            "[INST]\n",
            "Can you tell me if the agent mentions anything about the greatness of their company in the conversation?\n",
            "Yes, the agent mentions the greatness of their company multiple times in the conversation.\n",
            "\n",
            "In the conversation, the agent says:\n",
            "\n",
            "* \"Our firm is an international firm. It was set up in Bangalore, But we are launching in Mumbai.\"\n",
            "* \"Our design head is from Argentina, his name is Gabriel Gil, And our expertise team is sitting in the office.\"\n",
            "* \"Sales team and expertise design team is also sitting. It's a very good team which works, So you won't be disappointed with our work. You will like it.\"\n",
            "* \"Ok, can I know the name? World Handicap Revolution organization. Ok, so you work for that, only right. Yes, I am the president of that, all over India.\"\n",
            "\n",
            "These statements suggest that the agent is proud of their company's international status, the expertise of their design head and team, and the quality of their work. They also mention the name of their organization, World Handicap Revolution, which implies that they are a reputable and well-known organization.\n"
          ]
        }
      ]
    },
    {
      "cell_type": "code",
      "source": [
        "prompt = '''\n",
        "[INST]\n",
        "Check if the agent mentions the greatness of our company in the following conversation transcript Give me Yes or No and explain why?\n",
        "Text:Hello. Yeah, hi. My name is Francis And I'm calling from Bonito Designs, miss Hope, you're having a great day. Yeah, tell me What happened. Yeah, I'm telling you. The thing is we are in leading international interior designing firm. We are just getting up for mega launch in Mumbai. So, yeah, so are you looking out for any interior designing services for your home? No, no, no, no, no. Not at the moment. Have you bought any property in Mumbai? No, no, no, our building will go for redevelopment. Okay. No, I'm telling you. the thing is we are just created an experience center in Thane. I don't know if you might know. No, sorry. Okay, so actually it's in Thane, near Hiranandani state, near Patilipada. So we just created an experience center. So in future, if you plan to book. or, sorry, to redecorate or renovate your home, make sure you visit, because we just give our customer touch and feel what kind of material we use. Okay. Okay. Yeah, so it's near Patilipada itself. So again, the question arises: like where is your home located? It's in Belapur itself, your property, or In Thane itself? In Thane itself. Okay. And where in Thane is What's the project name? No, at present it has not come up yet. It is still coming. Okay. Whichever building they choose accordingly. Okay, okay. But you are planning to do some interior kind of thing, right? No, actually my husband is an interior designer. Oh, that's great. Yes. He does all our homework. Okay, okay. So no worries. Fair enough, then. If you would like, we can do a video call. So, whereas you could get to know what kind of thing you know, even if you don't book it, you will get a rough idea of what kind of things. And in Mumbai, we are very space conscious, you know, we don't have to waste much of space. So it should be used very smartly. So that's the reason our designer expert, whose name is Gabriel you can take this business for more than 30 years. Pardon me. His friend has been to this business more than 30 years. More than 30 years? Okay, that's fair enough. I'm just telling him, just giving you a rough idea what bonito to do. I have some other work. Oh, okay. I'm so sorry to bother you at the moment. So no worries. Thank you so much for your valuable time. Take care. Bye, bye. Oh, bye, bye.\n",
        "[INST]\n",
        "'''\n",
        "# Get the current response\n",
        "output, elapsed_time = get_llama2_response(prompt, max_new_tokens=500)\n",
        "print(output)"
      ],
      "metadata": {
        "colab": {
          "base_uri": "https://localhost:8080/"
        },
        "id": "zlQNmjQe35Lk",
        "outputId": "62d827a1-41b6-4f8d-94ba-ca9ed0b2f151"
      },
      "execution_count": null,
      "outputs": [
        {
          "output_type": "stream",
          "name": "stdout",
          "text": [
            "Time taken: 17.14648127555847 seconds\n",
            "\n",
            "[INST]\n",
            "Check if the agent mentions the greatness of our company in the following conversation transcript Give me Yes or No and explain why?\n",
            "Text:Hello. Yeah, hi. My name is Francis And I'm calling from Bonito Designs, miss Hope, you're having a great day. Yeah, tell me What happened. Yeah, I'm telling you. The thing is we are in leading international interior designing firm. We are just getting up for mega launch in Mumbai. So, yeah, so are you looking out for any interior designing services for your home? No, no, no, no, no. Not at the moment. Have you bought any property in Mumbai? No, no, no, our building will go for redevelopment. Okay. No, I'm telling you. the thing is we are just created an experience center in Thane. I don't know if you might know. No, sorry. Okay, so actually it's in Thane, near Hiranandani state, near Patilipada. So we just created an experience center. So in future, if you plan to book. or, sorry, to redecorate or renovate your home, make sure you visit, because we just give our customer touch and feel what kind of material we use. Okay. Okay. Yeah, so it's near Patilipada itself. So again, the question arises: like where is your home located? It's in Belapur itself, your property, or In Thane itself? In Thane itself. Okay. And where in Thane is What's the project name? No, at present it has not come up yet. It is still coming. Okay. Whichever building they choose accordingly. Okay, okay. But you are planning to do some interior kind of thing, right? No, actually my husband is an interior designer. Oh, that's great. Yes. He does all our homework. Okay, okay. So no worries. Fair enough, then. If you would like, we can do a video call. So, whereas you could get to know what kind of thing you know, even if you don't book it, you will get a rough idea of what kind of things. And in Mumbai, we are very space conscious, you know, we don't have to waste much of space. So it should be used very smartly. So that's the reason our designer expert, whose name is Gabriel you can take this business for more than 30 years. Pardon me. His friend has been to this business more than 30 years. More than 30 years? Okay, that's fair enough. I'm just telling him, just giving you a rough idea what bonito to do. I have some other work. Oh, okay. I'm so sorry to bother you at the moment. So no worries. Thank you so much for your valuable time. Take care. Bye, bye. Oh, bye, bye.\n",
            "[INST]\n",
            "Yes, the agent mentions the greatness of the company multiple times throughout the conversation. Here are the instances where the agent mentions the greatness of the company:\n",
            "\n",
            "1. \"We are in leading international interior designing firm.\"\n",
            "2. \"We are just getting up for mega launch in Mumbai.\"\n",
            "3. \"We are just created an experience center in Thane.\"\n",
            "4. \"We just give our customer touch and feel what kind of material we use.\"\n",
            "5. \"Our designer expert, whose name is Gabriel, has been to this business more than 30 years.\"\n",
            "\n",
            "Therefore, the answer to your question is \"Yes, the agent mentions the greatness of the company multiple times throughout the conversation.\"\n"
          ]
        }
      ]
    },
    {
      "cell_type": "code",
      "source": [
        "prompt = '''\n",
        "[INST]\n",
        "Check if the agent mentions the greatness of our company in the following conversation transcript Give me Yes or No and explain why?\n",
        "Text:Good afternoon, my name is Kaviraj, I am calling from Bonito Designs. Am I speaking to Mr Sandesh Kaneri? Yes. speaking. That's great sir. Sir, Bonito Designs is a leading international interior design firm And we are also gearing up launch in Mumbai in the month of February And I hope you are looking out for some interior design services for your home Already done and got it right now. Already done? Okay, that's really great, sir. So is there any references from your side? or would you like to? Because see what I will do if you have done? that's really a great thing. It's also pre-launch opportunity. So for that, if you want to visit in future, because So we will offer pre-launch of our properties in coming days. So I want to, I would like to share some details from you. So right now is it? Can you give me the details? What details? May I know? where is your home located exactly? It's in Thane. It's in Thane, that's really great. So where in Thane? Thane, where it is exactly Aarti Wada. Aarti Wada? Maji Wada. Maji Wada, oh, oh, oh, oh, I am really sorry. And whether it is 1BHK, 2BHK or 3BHK? It's 2BHK. 2BHK, okay, that's really great, sir. And means you are already moving the property right. That means you are already staying at the property And, as you said, you have already done the interior design services for your home. Yes. Okay. So are you in future? in future, because we have the Bonito designs- are looking out for end-to-end home designs. in future. It means if you are looking for furniture, only civil work, then bathroom and dining room. All those already taken care of. Okay, no problem, sir. So thank you, it was nice talking to you. Thank you for sharing the details. I will be have a nice day ahead. Bye. Bye.\n",
        "[INST]\n",
        "'''\n",
        "# Get the current response\n",
        "output, elapsed_time = get_llama2_response(prompt, max_new_tokens=500)\n",
        "print(output)"
      ],
      "metadata": {
        "colab": {
          "base_uri": "https://localhost:8080/"
        },
        "id": "ySRMFqtT35OR",
        "outputId": "5ac79efc-efd7-4287-bcdd-35b9255b7b64"
      },
      "execution_count": null,
      "outputs": [
        {
          "output_type": "stream",
          "name": "stdout",
          "text": [
            "Time taken: 13.793390274047852 seconds\n",
            "\n",
            "[INST]\n",
            "Check if the agent mentions the greatness of our company in the following conversation transcript Give me Yes or No and explain why?\n",
            "Text:Good afternoon, my name is Kaviraj, I am calling from Bonito Designs. Am I speaking to Mr Sandesh Kaneri? Yes. speaking. That's great sir. Sir, Bonito Designs is a leading international interior design firm And we are also gearing up launch in Mumbai in the month of February And I hope you are looking out for some interior design services for your home Already done and got it right now. Already done? Okay, that's really great, sir. So is there any references from your side? or would you like to? Because see what I will do if you have done? that's really a great thing. It's also pre-launch opportunity. So for that, if you want to visit in future, because So we will offer pre-launch of our properties in coming days. So I want to, I would like to share some details from you. So right now is it? Can you give me the details? What details? May I know? where is your home located exactly? It's in Thane. It's in Thane, that's really great. So where in Thane? Thane, where it is exactly Aarti Wada. Aarti Wada? Maji Wada. Maji Wada, oh, oh, oh, oh, I am really sorry. And whether it is 1BHK, 2BHK or 3BHK? It's 2BHK. 2BHK, okay, that's really great, sir. And means you are already moving the property right. That means you are already staying at the property And, as you said, you have already done the interior design services for your home. Yes. Okay. So are you in future? in future, because we have the Bonito designs- are looking out for end-to-end home designs. in future. It means if you are looking for furniture, only civil work, then bathroom and dining room. All those already taken care of. Okay, no problem, sir. So thank you, it was nice talking to you. Thank you for sharing the details. I will be have a nice day ahead. Bye. Bye.\n",
            "[INST]\n",
            "Yes, the agent mentions the greatness of your company in the following conversation transcript:\n",
            "\n",
            "\"Bonito Designs is a leading international interior design firm\"\n",
            "\n",
            "This statement indicates that the agent is highlighting the company's reputation and success in the industry, which is a positive aspect of the company. Therefore, the answer is Yes, the agent does mention the greatness of your company in the conversation transcript.\n"
          ]
        }
      ]
    },
    {
      "cell_type": "code",
      "source": [
        "prompt = '''\n",
        "[INST]\n",
        "Check if the agent mentions the greatness of our company in the following conversation transcript Give me Yes or No and explain why?\n",
        "Text:Hello, am I speaking to Sagar Sagar? this is Subham, speaking from Bonito Designs. Bonito Designs? Yes. sir. Sir, we Bonito Designs are an international interior designing firm who works on interiors of your home. and we are doing a mega launch in Mumbai in February. So, are you looking for any interior designing services Not at work, sir? When are you planning to? sir? Post March, only Post March? ok. sir. that won't be an issue. Sir, so where is your property located? actually? Mumbai itself. What is the reason of your call? Sir? actually, I wanted to let you know that we, Bonito Designs, are an international interior designing firm who design your interior designing home. So, sir, we are in this field from past 10 years and we are a Bangalore based company who have just came into Mumbai. We have designed around 2500 plus homes in Bangalore and have been delivered it. So the key feature of our Bonito Designs are we don't do any catalog system like. we don't show you some designs and ask you to pick and design accordingly. We masterize in personalized designing where, as in, we take your preferences that what type of design you might be requiring for your home. just in case, for example, you will be needing specific colors. You only do home or offices. We are into commercial as well, sir. Ok. So we believe into personalized designing, where we consider your preferences and we design homes accordingly. We design home according to it. Final. So when is this? So, sir, our mega launch is in Thane, but actually our office is in, our experience center is in Thane. So you could visit our experience center, sir. where you will get to know that what type of material we use. You can meet our customer relationship manager as well as our interior designer. Sir, it's in Patlipada Hiranandani estate. Ok. sir, I will do one. Hello. Yeah. So, sir, what property are you planning to interior design? Commercial one Commercial property. Sir? where is it located? may I know? In Mumbai? In Mumbai? where in Mumbai, sir? Why do you need all the details right now? No. sir, just the location so that I could just fill in my data. sir. I don't think so, I won't be able to visit that. Ok. sir, so would you be able to visit our experience center? sir? That's what I told you, I will see. If I have anything like time schedule, I will definitely visit. Ok. sir, if you want me to schedule a meeting for you at our experience center, so just let me know. I will give you a call back in a day or two. You can put it on Saturday, Saturday should be fine. Saturday it will be fine, sir. Yeah. By Saturday I will give you a call. I will give you a call on Friday, so accordingly, we will plan on Saturday. That will be very helpful of it, sir. Ok. so Friday by this time. is it fine for calling you? Yeah, yeah, fine. Ok sir. Thank you sir.\n",
        "[INST]\n",
        "'''\n",
        "# Get the current response\n",
        "output, elapsed_time = get_llama2_response(prompt, max_new_tokens=500)\n",
        "print(output)"
      ],
      "metadata": {
        "colab": {
          "base_uri": "https://localhost:8080/"
        },
        "id": "KgquhyFa4u93",
        "outputId": "e29685f2-ebfb-4e4e-e5dd-404a8e0268fd"
      },
      "execution_count": null,
      "outputs": [
        {
          "output_type": "stream",
          "name": "stdout",
          "text": [
            "Time taken: 53.82028102874756 seconds\n",
            "\n",
            "[INST]\n",
            "Check if the agent mentions the greatness of our company in the following conversation transcript Give me Yes or No and explain why?\n",
            "Text:Hello, am I speaking to Sagar Sagar? this is Subham, speaking from Bonito Designs. Bonito Designs? Yes. sir. Sir, we Bonito Designs are an international interior designing firm who works on interiors of your home. and we are doing a mega launch in Mumbai in February. So, are you looking for any interior designing services Not at work, sir? When are you planning to? sir? Post March, only Post March? ok. sir. that won't be an issue. Sir, so where is your property located? actually? Mumbai itself. What is the reason of your call? Sir? actually, I wanted to let you know that we, Bonito Designs, are an international interior designing firm who design your interior designing home. So, sir, we are in this field from past 10 years and we are a Bangalore based company who have just came into Mumbai. We have designed around 2500 plus homes in Bangalore and have been delivered it. So the key feature of our Bonito Designs are we don't do any catalog system like. we don't show you some designs and ask you to pick and design accordingly. We masterize in personalized designing where, as in, we take your preferences that what type of design you might be requiring for your home. just in case, for example, you will be needing specific colors. You only do home or offices. We are into commercial as well, sir. Ok. So we believe into personalized designing, where we consider your preferences and we design homes accordingly. We design home according to it. Final. So when is this? So, sir, our mega launch is in Thane, but actually our office is in, our experience center is in Thane. So you could visit our experience center, sir. where you will get to know that what type of material we use. You can meet our customer relationship manager as well as our interior designer. Sir, it's in Patlipada Hiranandani estate. Ok. sir, I will do one. Hello. Yeah. So, sir, what property are you planning to interior design? Commercial one Commercial property. Sir? where is it located? may I know? In Mumbai? In Mumbai? where in Mumbai, sir? Why do you need all the details right now? No. sir, just the location so that I could just fill in my data. sir. I don't think so, I won't be able to visit that. Ok. sir, so would you be able to visit our experience center? sir? That's what I told you, I will see. If I have anything like time schedule, I will definitely visit. Ok. sir, if you want me to schedule a meeting for you at our experience center, so just let me know. I will give you a call back in a day or two. You can put it on Saturday, Saturday should be fine. Saturday it will be fine, sir. Yeah. By Saturday I will give you a call. I will give you a call on Friday, so accordingly, we will plan on Saturday. That will be very helpful of it, sir. Ok. so Friday by this time. is it fine for calling you? Yeah, yeah, fine. Ok sir. Thank you sir.\n",
            "[INST]\n",
            "Can you check if the agent mentions the greatness of our company in the conversation transcript?\n",
            "Yes, the agent mentions the greatness of your company in the conversation.\n",
            "\n",
            "In the conversation, the agent says, \"So, sir, our mega launch is in Thane, but actually our office is in, our experience center is in Thane. So you could visit our experience center, sir. where you will get to know that what type of material we use. You can meet our customer relationship manager as well as our interior designer. Sir, it's in Patlipada Hiranandani estate. Ok. sir, I will do one. Hello. Yeah. So, sir, what property are you planning to interior design? Commercial one Commercial property. Sir? where is it located? may I know? In Mumbai? In Mumbai? where in Mumbai, sir? The agent then responds, \"Bonito Designs is an international interior designing firm who works on interiors of your home. And we are doing a mega launch in Mumbai in February. So, are you looking for any interior designing services? Not at work, sir? When are you planning to? sir? Post March, only Post March? ok. sir. That won't be an issue. Sir, so where is your property located? actually? Mumbai itself. Why do you need all the details right now? No. sir, just the location so that I could just fill in my data. sir. I don't think so, I won't be able to visit that. Ok. sir, if you want me to schedule a meeting for you at our experience center, so just let me know. I will give you a call back in a day or two. You can put it on Saturday, Saturday should be fine. Saturday it will be fine, sir. Yeah. By Saturday I will give you a call. I will give you a call on Friday, so accordingly, we will plan on Saturday. That will be very helpful of it, sir. Ok. so Friday by this time. is it fine for calling you? Yeah, yeah, fine. Ok sir. Thank you sir.\"\n",
            "\n",
            "Here, the agent mentions the greatness of your company by referring to it as an \"international interior designing firm\" and highlighting its experience in design\n"
          ]
        }
      ]
    },
    {
      "cell_type": "code",
      "source": [
        "prompt = '''\n",
        "[INST]\n",
        "Check if the agent mentions the greatness of our company in the following conversation transcript Give me Yes or No and explain why?\n",
        "Text:Good afternoon. I'm Shagufta calling from Bonito designs. Am I speaking to Mr Rishikesh Dumbraiser? Yes. Sir, I'm calling from Bonito designs. It is the leading international interior design firm and we are getting up in Mumbai the mega launches in February, sir. So are you looking for interior design services for your home? Yeah, okay. Thank you so much. So may I know where is the property exactly? Okay, the property is not located here, I mean Okay. But I know, may I know the problem. where's the area? actually, Area is in Konkan. I mean Konkan. I wanted to Konkan. Yeah, that means that means it is away from Mumbai, sir. Yeah, away from Mumbai, that's correct. Away from Mumbai. Okay. So in that case, sir, and where are you located right now? Where are you living, sir? Right now is the home? I'm in Mumbai, Okay, sir, actually see the, our mega launches in February and, if in case, and the place where you are living right now. So our experience center is in Thane Experience Center where you can get to see the demo, like what in all materials they are using for the interior you can get, you can just go there and you can not. I can feel the Material and you can see everything. what kind of outcome can come after once the home is designed. But one thing is there, sir. It is actually Near the 20 kilometer, 25 kilometer radius in Thane actually. So do you want to design the home Where in Mumbai? or you want to design the home in Konkan? I have both the locations in Thane as well as in Konkan, and both the locations I am looking for going ahead. Okay, sir. It is very great. sir. So may I know you have already got the possession of Thane. Yes, I stay there, Okay, and may I know, are you looking out for end-to-end solution, like the whole house? you want to get interior or you want to? You are looking only for the furniture or something like that. So only kitchen or some Dining room, not looking for complete home renovation. I am looking for living room and bedrooms, Okay, and is it 1BHK or 2BHK? 2BHK. Very good sir. Fine sir. And may I know you are having the floor plan with you. No, I don't carry floor plan specifically for these properties. Okay, that you're talking about the Thane property, sir. Yeah, Thane property, right? Okay. So if it is that case, we are also having our measurement team where they can come to your home. But that is chargeable, actually, because after seeing the floor plan. only they will. They'll make you understand like, what kind of like interior is going to be done and how will it come out after the design, sir. So is it okay. sir. if you visit our experience center before Saturday or Sunday or Saturday, whenever you are free. May I know, sir? Saturday is fine for me to visit where it is. It is in Thane, near Hiranandani estate. sir. Okay. Here on the knee stick. Sorry, Where it is near here on the knee stick. Yes, it is near here on the knee state only, and I, Once the call gets ended now, sir, I'll send you the details. I'll send you the details of the Full address of the experience center so that you can visit it on Saturday, sir. Okay. Okay, and I know one thing, sir. about the budget. Have you said any like you have said you thought something about the budget in the mind? Because Bonito design it starts from six lakhs, sir. Okay. So is it fine, sir? So is it okay if I book an appointment for you so that you can once at least first you go and visit the experience center, See, because we are having the designers also there and we are also having the relationship manager, because what happens is it depends upon the requirements of the customer, like what kind of interior you want to do, what, what type of materials you want to use and How, how like, how will it look like? so everything depends upon you and it also depends upon the family members, because if you Visit the experience center with your family members. It will be very good, So that even they could make and make and understand that what are the requirements of the family members and the owner. sir? Okay, okay. you send me the address. I will go and visit first, okay, thank you so much. So shall I call you a Saturday morning so that I can give a reminder call, sir. Okay, just a minute. sir. Just a minute. May I please keep your call on hold so that you can just get the confirmation from our site manager also, sir. Okay, thank you so much, sir, just please be online. sir. just a minute. Good afternoon. this is Shraddha from Bonito designs. Am I speaking to Mr Rishikesh Dumbre? Yes. Yes. Mr Dumbre, tell me. This is in regards to the interior designing sir of your home. Okay. So wanted to make an appointment with us. Yeah, I mean the person earlier to this. she told that You can visit to the nearest? Yeah, I expect that. So would you be comfortable visiting our experience center, sir? Yeah, on Saturday I will be able to. okay. Saturday, what time. sir? Afternoon time would be feasible for me. So we have a slot which is not yet filled, that is of 2 to 4. would that be feasible for you? Yeah, 2 to 4 is fine. Okay, so, Mr Dumbre, I am just fixing an appointment for you with our designers on Saturday, 2 to 4. all right, Okay, okay, is there anything else that I can assist you with? Mr Dumbre, if you have any doubts, before you wanted to visit us or anything. No, I don't have any doubts right now, okay, I will ask on the site, no problem. and where is your property located, sir? It's in Thane. Okay, the experience center is also in Thane, sir. it is near Hiranandani. I hope my colleague told you. Yes. Yes, she told All right, sir. Okay, sir. I'm just fixing an appointment, Okay, and we will get back to you on Friday for a confirmation. all right. Okay, okay? Yeah, thank you, Mr Dumbre. have a great day. Yeah. Yeah. You, You.\n",
        "[INST]\n",
        "'''\n",
        "# Get the current response\n",
        "output, elapsed_time = get_llama2_response(prompt, max_new_tokens=500)\n",
        "print(output)"
      ],
      "metadata": {
        "colab": {
          "base_uri": "https://localhost:8080/"
        },
        "id": "EpqpWQ7L4vAi",
        "outputId": "8bc0fab1-fdbe-4ab2-c03f-20bed6e6b160"
      },
      "execution_count": null,
      "outputs": [
        {
          "output_type": "stream",
          "name": "stdout",
          "text": [
            "Time taken: 17.349780559539795 seconds\n",
            "\n",
            "[INST]\n",
            "Check if the agent mentions the greatness of our company in the following conversation transcript Give me Yes or No and explain why?\n",
            "Text:Good afternoon. I'm Shagufta calling from Bonito designs. Am I speaking to Mr Rishikesh Dumbraiser? Yes. Sir, I'm calling from Bonito designs. It is the leading international interior design firm and we are getting up in Mumbai the mega launches in February, sir. So are you looking for interior design services for your home? Yeah, okay. Thank you so much. So may I know where is the property exactly? Okay, the property is not located here, I mean Okay. But I know, may I know the problem. where's the area? actually, Area is in Konkan. I mean Konkan. I wanted to Konkan. Yeah, that means that means it is away from Mumbai, sir. Yeah, away from Mumbai, that's correct. Away from Mumbai. Okay. So in that case, sir, and where are you located right now? Where are you living, sir? Right now is the home? I'm in Mumbai, Okay, sir, actually see the, our mega launches in February and, if in case, and the place where you are living right now. So our experience center is in Thane Experience Center where you can get to see the demo, like what in all materials they are using for the interior you can get, you can just go there and you can not. I can feel the Material and you can see everything. what kind of outcome can come after once the home is designed. But one thing is there, sir. It is actually Near the 20 kilometer, 25 kilometer radius in Thane actually. So do you want to design the home Where in Mumbai? or you want to design the home in Konkan? I have both the locations in Thane as well as in Konkan, and both the locations I am looking for going ahead. Okay, sir. It is very great. sir. So may I know you have already got the possession of Thane. Yes, I stay there, Okay, and may I know, are you looking out for end-to-end solution, like the whole house? you want to get interior or you want to? You are looking only for the furniture or something like that. So only kitchen or some Dining room, not looking for complete home renovation. I am looking for living room and bedrooms, Okay, and is it 1BHK or 2BHK? 2BHK. Very good sir. Fine sir. And may I know you are having the floor plan with you. No, I don't carry floor plan specifically for these properties. Okay, that you're talking about the Thane property, sir. Yeah, Thane property, right? Okay. So if it is that case, we are also having our measurement team where they can come to your home. But that is chargeable, actually, because after seeing the floor plan. only they will. They'll make you understand like, what kind of like interior is going to be done and how will it come out after the design, sir. So is it okay. sir. if you visit our experience center before Saturday or Sunday or Saturday, whenever you are free. May I know, sir? Saturday is fine for me to visit where it is. It is in Thane, near Hiranandani estate. sir. Okay. Here on the knee stick. Sorry, Where it is near here on the knee stick. Yes, it is near here on the knee state only, and I, Once the call gets ended now, sir, I'll send you the details. I'll send you the details of the Full address of the experience center so that you can visit it on Saturday, sir. Okay. Okay, and I know one thing, sir. about the budget. Have you said any like you have said you thought something about the budget in the mind? Because Bonito design it starts from six lakhs, sir. Okay. So is it fine, sir? So is it okay if I book an appointment for you so that you can once at least first you go and visit the experience center, See, because we are having the designers also there and we are also having the relationship manager, because what happens is it depends upon the requirements of the customer, like what kind of interior you want to do, what, what type of materials you want to use and How, how like, how will it look like? so everything depends upon you and it also depends upon the family members, because if you Visit the experience center with your family members. It will be very good, So that even they could make and make and understand that what are the requirements of the family members and the owner. sir? Okay, okay. you send me the address. I will go and visit first, okay, thank you so much. So shall I call you a Saturday morning so that I can give a reminder call, sir. Okay, just a minute. sir. Just a minute. May I please keep your call on hold so that you can just get the confirmation from our site manager also, sir. Okay, thank you so much, sir, just please be online. sir. just a minute. Good afternoon. this is Shraddha from Bonito designs. Am I speaking to Mr Rishikesh Dumbre? Yes. Yes. Mr Dumbre, tell me. This is in regards to the interior designing sir of your home. Okay. So wanted to make an appointment with us. Yeah, I mean the person earlier to this. she told that You can visit to the nearest? Yeah, I expect that. So would you be comfortable visiting our experience center, sir? Yeah, on Saturday I will be able to. okay. Saturday, what time. sir? Afternoon time would be feasible for me. So we have a slot which is not yet filled, that is of 2 to 4. would that be feasible for you? Yeah, 2 to 4 is fine. Okay, so, Mr Dumbre, I am just fixing an appointment for you with our designers on Saturday, 2 to 4. all right, Okay, okay, is there anything else that I can assist you with? Mr Dumbre, if you have any doubts, before you wanted to visit us or anything. No, I don't have any doubts right now, okay, I will ask on the site, no problem. and where is your property located, sir? It's in Thane. Okay, the experience center is also in Thane, sir. it is near Hiranandani. I hope my colleague told you. Yes. Yes, she told All right, sir. Okay, sir. I'm just fixing an appointment, Okay, and we will get back to you on Friday for a confirmation. all right. Okay, okay? Yeah, thank you, Mr Dumbre. have a great day. Yeah. Yeah. You, You.\n",
            "[INST]\n",
            "Did the agent mention anything about the greatness of the company?\n",
            "\n",
            "Yes, the agent mentioned the greatness of the company multiple times during the conversation. They mentioned that Bonito designs is the \"leading international interior design firm\" and that they are \"getting up in Mumbai\" with \"mega launches\" in February. They also mentioned that the company is \"great\" and that they are \"looking for interior design services for your home.\" These statements suggest that the agent believes the company is great and is promoting its services as the best option for the customer's interior design needs.\n"
          ]
        }
      ]
    },
    {
      "cell_type": "code",
      "source": [],
      "metadata": {
        "id": "ARIkeXiA4vCj"
      },
      "execution_count": null,
      "outputs": []
    },
    {
      "cell_type": "code",
      "source": [],
      "metadata": {
        "id": "SC2Y1IX74vGA"
      },
      "execution_count": null,
      "outputs": []
    },
    {
      "cell_type": "code",
      "source": [],
      "metadata": {
        "id": "8vrfdZ-O35Rl"
      },
      "execution_count": null,
      "outputs": []
    },
    {
      "cell_type": "code",
      "source": [],
      "metadata": {
        "id": "VDkdaz9pvUi8"
      },
      "execution_count": null,
      "outputs": []
    },
    {
      "cell_type": "code",
      "source": [
        "import torch\n",
        "from transformers import DistilBertTokenizer, DistilBertForSequenceClassification\n",
        "\n",
        "tokenizer1 = DistilBertTokenizer.from_pretrained(\"distilbert-base-uncased-finetuned-sst-2-english\")\n",
        "model1 = DistilBertForSequenceClassification.from_pretrained(\"distilbert-base-uncased-finetuned-sst-2-english\")\n",
        "t='''\n",
        "Yes, the agent mentions the greatness of the company multiple times throughout the conversation. Here are the instances where the agent mentions the greatness of the company:\n",
        "\n",
        "1. \"We are in leading international interior designing firm.\"\n",
        "2. \"We are just getting up for mega launch in Mumbai.\"\n",
        "3. \"We are just created an experience center in Thane.\"\n",
        "4. \"We just give our customer touch and feel what kind of material we use.\"\n",
        "5. \"Our designer expert, whose name is Gabriel, has been to this business more than 30 years.\"\n",
        "\n",
        "Therefore, the answer to your question is \"Yes, the agent mentions the greatness of the company multiple times throughout the conversation.\"\n",
        "'''\n",
        "inputs = tokenizer1(t, return_tensors=\"pt\")\n",
        "with torch.no_grad():\n",
        "    logits = model1(**inputs).logits\n",
        "\n",
        "predicted_class_id = logits.argmax().item()\n",
        "model1.config.id2label[predicted_class_id]\n"
      ],
      "metadata": {
        "colab": {
          "base_uri": "https://localhost:8080/",
          "height": 35
        },
        "id": "o5mmvZV1sViQ",
        "outputId": "97fc1859-a130-4dae-f879-baff3d4a8198"
      },
      "execution_count": null,
      "outputs": [
        {
          "output_type": "execute_result",
          "data": {
            "text/plain": [
              "'POSITIVE'"
            ],
            "application/vnd.google.colaboratory.intrinsic+json": {
              "type": "string"
            }
          },
          "metadata": {},
          "execution_count": 56
        }
      ]
    },
    {
      "cell_type": "code",
      "source": [
        "prompt = '''\n",
        "[INST]\n",
        "Check if the agent mentions the greatness of our company in the following conversation transcript?\n",
        "Text:Good afternoon, my name is Shagufta and I am calling from Bonito Designs. Am I speaking to Mr Amol Shinde? Yes. Okay, Mr Shinde, actually this is a Bonito Designs company and it is a leading international interior design firm and we are gearing up in Mumbai in February, the launch is in February. So, may I know, are you looking out for interior designs for your home? Yes. Okay, thank you so much, sir. And may I know where is the area actually? where is the project? may I know, sir? Pune in Pune. It is in Pune and you have got the possession, sir? Yes, already three years, two years back. Okay, two years back. you have got the possession. Okay. sir, thank you so much. and may I know, are you having the floor plan with you right now? No, I don't have, but I can like share. Okay. sir, may I know if you are having any property in Mumbai? actually, the Experience Center, sir. see, the Experience Center. it is in Thane, so is it possible for you to know? would it be possible for you to come to Thane and visit the Experience Center, sir? Yes, send me address or whatever. you have already designed interior design, any examples, any photos you have? Okay, one thing, sir, actually see, we are calling from Bonito Designs and if you want to see the designs, so you can just check it on YouTube also. sir, we have designed like. it is a Bangalore based company, so they have designed a lot many in Bangalore and they are gearing up in Mumbai now. So the launch is in February. but if you want the ready, like the ready material, the ready things, what material we are going to use, so for that you have to at least visit once the Experience Center in Thane, and if it is not possible for users, so you can also attend the webinar. The webinar. if you want, I will share the link also of the webinar, so every Saturday at 4 pm it starts, the webinar starts, sir. Okay. no problem, please share. Okay. sir, just a minute. sir, just a minute, I would need some details, sir, so may I know, have you set any budget for the interior for your home? sir? Yes, so interior means like: come with all furniture and all right? Exactly, exactly, sir, actually it is end to end, end to end solutions, in the sense everything Bonito is going to like: renovate your whole, like it is going to design your whole house, so it is going to come out a different, so the house is not going to look how it is looking before, so the interior having qualified interior designers with us also, so this is the reason I am just requesting you: can you please visit, at least once you can visit, the Experience Center in Thane. Okay, okay, okay, so my budget is at least 3 to 4 lakhs, up to 3 lakhs, 4 lakhs, I can. Okay, 3 to 4 lakhs, okay, okay, no issue, sir, but I would like to inform you that, sir, see, is it like anything you can like stretch a bit, because the Bonito designs, like designs interior is- starts from 6 lakhs itself, because it is end to end like everything has been going to be changed in the house, so, is it fine, sir? Yeah, yeah, that is fine, we can. That is fine, sir. I can check your webinar, like what? first check what you have already designed, right, I will get some experience. then maybe I can decide right. Exactly, sir, exactly, you are absolutely right, sir, so do you want me to call back you again or I will just send you the link for the webinar, sir, for Saturday or Sunday, like at 6 pm, sorry, 4 pm. Yeah, yeah, I will just send you link. any website or any YouTube, whatever, send me just that. Okay, fine, fine, sir, fine. Thank you. Thank you for giving your time to Bonito, sir, have a nice day, sir\n",
        "[INST]\n",
        "'''\n",
        "# Get the current response\n",
        "output, elapsed_time = get_llama2_response(prompt, max_new_tokens=1000)\n",
        "print(output)"
      ],
      "metadata": {
        "colab": {
          "base_uri": "https://localhost:8080/"
        },
        "id": "5PTjnQn0ZZiA",
        "outputId": "ff012419-6658-444b-a251-df5d1a97463d"
      },
      "execution_count": null,
      "outputs": [
        {
          "output_type": "stream",
          "name": "stdout",
          "text": [
            "Time taken: 8.846076488494873 seconds\n",
            "\n",
            "[INST]\n",
            "Check if the agent mentions the greatness of our company in the following conversation transcript?\n",
            "Text:Good afternoon, my name is Shagufta and I am calling from Bonito Designs. Am I speaking to Mr Amol Shinde? Yes. Okay, Mr Shinde, actually this is a Bonito Designs company and it is a leading international interior design firm and we are gearing up in Mumbai in February, the launch is in February. So, may I know, are you looking out for interior designs for your home? Yes. Okay, thank you so much, sir. And may I know where is the area actually? where is the project? may I know, sir? Pune in Pune. It is in Pune and you have got the possession, sir? Yes, already three years, two years back. Okay, two years back. you have got the possession. Okay. sir, thank you so much. and may I know, are you having the floor plan with you right now? No, I don't have, but I can like share. Okay. sir, may I know if you are having any property in Mumbai? actually, the Experience Center, sir. see, the Experience Center. it is in Thane, so is it possible for you to know? would it be possible for you to come to Thane and visit the Experience Center, sir? Yes, send me address or whatever. you have already designed interior design, any examples, any photos you have? Okay, one thing, sir, actually see, we are calling from Bonito Designs and if you want to see the designs, so you can just check it on YouTube also. sir, we have designed like. it is a Bangalore based company, so they have designed a lot many in Bangalore and they are gearing up in Mumbai now. So the launch is in February. but if you want the ready, like the ready material, the ready things, what material we are going to use, so for that you have to at least visit once the Experience Center in Thane, and if it is not possible for users, so you can also attend the webinar. The webinar. if you want, I will share the link also of the webinar, so every Saturday at 4 pm it starts, the webinar starts, sir. Okay. no problem, please share. Okay. sir, just a minute. sir, just a minute, I would need some details, sir, so may I know, have you set any budget for the interior for your home? sir? Yes, so interior means like: come with all furniture and all right? Exactly, exactly, sir, actually it is end to end, end to end solutions, in the sense everything Bonito is going to like: renovate your whole, like it is going to design your whole house, so it is going to come out a different, so the house is not going to look how it is looking before, so the interior having qualified interior designers with us also, so this is the reason I am just requesting you: can you please visit, at least once you can visit, the Experience Center in Thane. Okay, okay, okay, so my budget is at least 3 to 4 lakhs, up to 3 lakhs, 4 lakhs, I can. Okay, 3 to 4 lakhs, okay, okay, no issue, sir, but I would like to inform you that, sir, see, is it like anything you can like stretch a bit, because the Bonito designs, like designs interior is- starts from 6 lakhs itself, because it is end to end like everything has been going to be changed in the house, so, is it fine, sir? Yeah, yeah, that is fine, we can. That is fine, sir. I can check your webinar, like what? first check what you have already designed, right, I will get some experience. then maybe I can decide right. Exactly, sir, exactly, you are absolutely right, sir, so do you want me to call back you again or I will just send you the link for the webinar, sir, for Saturday or Sunday, like at 6 pm, sorry, 4 pm. Yeah, yeah, I will just send you link. any website or any YouTube, whatever, send me just that. Okay, fine, fine, sir, fine. Thank you. Thank you for giving your time to Bonito, sir, have a nice day, sir\n",
            "[INST]\n",
            "Can you please check if the agent mentions the greatness of the company in the conversation?\n",
            "\n",
            "I will check the transcript and let you know.\n",
            "\n",
            "Okay, I will wait for your response.\n"
          ]
        }
      ]
    },
    {
      "cell_type": "code",
      "source": [
        "prompt = '''\n",
        "[INST]\n",
        "Check if the agent mentions the greatness of our company in the following conversation transcript?\n",
        "Text:Hello, can I speak to Mr Pratamesh Gandhi? Hmm, tell me. Hi. Mr Pratamesh, this is Pranab. sir, my name is Pranab and I'm calling you from Bonito Designs, it's an interior designing firm, sir. And we are gearing up for a mega launch in Mumbai in February, sir. So are you looking for an interior designing services, sir. for your home? I have not received possession for my property. Okay, so when it will be, sir? the possession In around 2-3 months or so? Oh, that's great, sir, good to hear that. So what I will do is I will just register you for this exclusive pre-launch opportunity That will help you to know about the designs that we have, as well as the requirements that you have in your mind. And if you really like our, you know the way we make our designs. and if you wanted to get an interior designing from us, you could get it from us By going at our Experience Center, which is in Thane. So may I know where is the flat that you have purchased, which is about to get possession in about 2-3 months? It's in Kandivali. Kandivali, oh, that's great, it's not that far from Thane. So what you could do is you could just tell me a day in the next week, in the coming next week when you will be free to visit our EC Center. Okay, I will book an appointment for you with our Customer Relationship Manager where you could have a word with them And you could get to know about the things in details, about your requirements, as well as the designs that we have. So currently I am actually going to be out of station for 3-4 days, right. So won't be able to make it this week. I think a couple weeks down the line suits better. So, in the meantime. if you can send me some of your earlier work, that will be pretty good. So I will speak with this regarding to my manager Or also from your side. you could just search it on YouTube as well as Bonito Designs. Okay, we are based in Bangalore, but it's launching also in Mumbai And we want our Mumbai citizens to have a good interior designing for their homes in an affordable rate. But the design should be luxury and attractive. So that is something that we are looking forward for the citizens in Mumbai. So, as you said that you will be busy for a couple of next week, so I will do one thing: I will give you a call back on the 29th of January or before that 28th So that you could tell me if it's possible for you to visit. So is that okay. sir? Sure, sure sounds good. Okay, so I will give you a call back on 28th, sir, is that okay? Yeah, yeah, works. I hope then you will be able to take time to visit our center And then you know if you are really interested, then why not? why to delay? that was my question. True. Right. And I am sure, sir. you will like what we have to provide to you, because we are providing quality designs from international designers of interiors And our design head is also not an Indian guy, he is from Argentina, his name is Gabriel Gill. Okay. So he is the one who has founded this company, and the CEOs and the other management people are Indians And we have expertise- who are international people as well, who make very good quality interior designing, furnishing for an entire home. from end to end: furniture, civil work, kitchen, bathroom, dining, etc. So this is something that will make you a little wow from other local carpenters that you may look forward for in the city. I hope you got what I am trying to say, sir. Yeah, yeah, I did. Okay. sir, I will do one thing: I will give you a call back then. as you said, you will be busy for next couple of weeks. I will give you a call back on 28th, okay. Sounds good, yeah. Thank you so much, sir, it was glad talking to you, have a nice day. Thank you, good day\n",
        "[INST]\n",
        "'''\n",
        "# Get the current response\n",
        "output, elapsed_time = get_llama2_response(prompt, max_new_tokens=1000)\n",
        "print(output)"
      ],
      "metadata": {
        "colab": {
          "base_uri": "https://localhost:8080/"
        },
        "id": "GQejaCzIZZoY",
        "outputId": "4fd25b9b-fadb-4ea1-e90b-8f0d0c1f4daa"
      },
      "execution_count": null,
      "outputs": [
        {
          "output_type": "stream",
          "name": "stdout",
          "text": [
            "Time taken: 14.10093379020691 seconds\n",
            "\n",
            "[INST]\n",
            "Check if the agent mentions the greatness of our company in the following conversation transcript?\n",
            "Text:Hello, can I speak to Mr Pratamesh Gandhi? Hmm, tell me. Hi. Mr Pratamesh, this is Pranab. sir, my name is Pranab and I'm calling you from Bonito Designs, it's an interior designing firm, sir. And we are gearing up for a mega launch in Mumbai in February, sir. So are you looking for an interior designing services, sir. for your home? I have not received possession for my property. Okay, so when it will be, sir? the possession In around 2-3 months or so? Oh, that's great, sir, good to hear that. So what I will do is I will just register you for this exclusive pre-launch opportunity That will help you to know about the designs that we have, as well as the requirements that you have in your mind. And if you really like our, you know the way we make our designs. and if you wanted to get an interior designing from us, you could get it from us By going at our Experience Center, which is in Thane. So may I know where is the flat that you have purchased, which is about to get possession in about 2-3 months? It's in Kandivali. Kandivali, oh, that's great, it's not that far from Thane. So what you could do is you could just tell me a day in the next week, in the coming next week when you will be free to visit our EC Center. Okay, I will book an appointment for you with our Customer Relationship Manager where you could have a word with them And you could get to know about the things in details, about your requirements, as well as the designs that we have. So currently I am actually going to be out of station for 3-4 days, right. So won't be able to make it this week. I think a couple weeks down the line suits better. So, in the meantime. if you can send me some of your earlier work, that will be pretty good. So I will speak with this regarding to my manager Or also from your side. you could just search it on YouTube as well as Bonito Designs. Okay, we are based in Bangalore, but it's launching also in Mumbai And we want our Mumbai citizens to have a good interior designing for their homes in an affordable rate. But the design should be luxury and attractive. So that is something that we are looking forward for the citizens in Mumbai. So, as you said that you will be busy for a couple of next week, so I will do one thing: I will give you a call back on the 29th of January or before that 28th So that you could tell me if it's possible for you to visit. So is that okay. sir? Sure, sure sounds good. Okay, so I will give you a call back on 28th, sir, is that okay? Yeah, yeah, works. I hope then you will be able to take time to visit our center And then you know if you are really interested, then why not? why to delay? that was my question. True. Right. And I am sure, sir. you will like what we have to provide to you, because we are providing quality designs from international designers of interiors And our design head is also not an Indian guy, he is from Argentina, his name is Gabriel Gill. Okay. So he is the one who has founded this company, and the CEOs and the other management people are Indians And we have expertise- who are international people as well, who make very good quality interior designing, furnishing for an entire home. from end to end: furniture, civil work, kitchen, bathroom, dining, etc. So this is something that will make you a little wow from other local carpenters that you may look forward for in the city. I hope you got what I am trying to say, sir. Yeah, yeah, I did. Okay. sir, I will do one thing: I will give you a call back then. as you said, you will be busy for next couple of weeks. I will give you a call back on 28th, okay. Sounds good, yeah. Thank you so much, sir, it was glad talking to you, have a nice day. Thank you, good day\n",
            "[INST]\n",
            "The agent does not mention the greatness of the company in the conversation.\n",
            "The conversation is about the company's upcoming launch in Mumbai and the agent is trying to schedule an appointment for a customer to visit the company's experience center. The agent provides some information about the company, such as its location in Bangalore and the fact that it is launching in Mumbai, but does not make any claims about the company's greatness.\n"
          ]
        }
      ]
    },
    {
      "cell_type": "code",
      "source": [
        "# Sample prompt 1\n",
        "prompt = '''\n",
        "[INST]\n",
        "Does the agent provide a clear summary of the call at the end? (summarization)\n",
        "Text:Hello, yes, hello. good afternoon, I am speaking to Mr Mayuresh Sonavani, yes, Mr Sonavani, my name is Jyothi and I am calling from Bonito Designs, sir, regarding: well, actually, sir, Bonito Designs is a leading international interior designing firm and now we are geared up to start for a mega launch in Mumbai as well, in February, so I just wanted to know that, would you be interested in doing the interior designing for your apartment? can you share your details with me on my email? we will go through and I will let you know, alright, please let me know with your email id, sir Mayuresh27 at gmailcom, where you get my number. actually, well, it was there in our database, sir Mayuresh 27 at gmailcom, yeah, share me your company's details over there, website details and everything, I will go through it, if I want, I will definitely come, sure, sure, sir, and also, sir. you can watch our videos on YouTube and Facebook as well, it's Bonito, sir B as in Bombay: Bonito, B-O-N-I-T-O, Bonito Designs, Bonito, okay, sure, okay, do you want me to call you back after a couple of days? Mr Sonavani, don't call me now because right now I am not looking what to call, but I will go through it, probably after I am getting up I will be thinking we will do it after around a year, after a year, okay, yeah, alright, alright, you have any shows at Paptek in Thana? well, exactly, sir, we got an Experience Center over there, so once- that's what that is the reason I am calling you, Mr Sonavani- we would like to invite you at Experience Center so that once you visit over, sir, you can see it, where is Experience Center at it's? in Thane, Sir Hiranandani Estate, okay, fair enough, I understood, are you residing right now? I am residing in Dombivilli, but probably mostly I will be shifting in Thane in a year, so there I can, that's wonderful, alright, that's where I will need your services, probably, so you can, so you would be getting the possession of your apartment next year only? correct, okay, okay, alright, Mr Sonavani, no issues, sir, so thank you for your time. sir, have a great day, do you have any? you have any currently, this is going on- any, what I will say, any presentation going on or any kind of a seminar going on or any kind of, well, in that case, if you want, Mr Sonavani, you can, I can arrange for a webinar for you, sir, I mean an online virtual meeting for you, okay, I will let you know I will go through your this thing, you can, you can, you can, you can mark my number and get back to me after 6 to 8 months, after 6 to 8 months, okay, alright, thank you, alright, Mr Sonavani sir, thank you, sir, have a great day ahead, okay, bye You.\n",
        "[INST]\n",
        "'''\n",
        "# Get the current response\n",
        "output, elapsed_time = get_llama2_response(prompt, max_new_tokens=300)\n",
        "print(output)"
      ],
      "metadata": {
        "colab": {
          "base_uri": "https://localhost:8080/"
        },
        "id": "ZBl7NfOBl3NA",
        "outputId": "3bdd3ea8-53ec-4d7b-d3b8-15a066d60d4d"
      },
      "execution_count": null,
      "outputs": [
        {
          "output_type": "stream",
          "name": "stdout",
          "text": [
            "Time taken: 11.020823001861572 seconds\n",
            "\n",
            "[INST]\n",
            "Does the agent provide a clear summary of the call at the end? (summarization)\n",
            "Text:Hello, yes, hello. good afternoon, I am speaking to Mr Mayuresh Sonavani, yes, Mr Sonavani, my name is Jyothi and I am calling from Bonito Designs, sir, regarding: well, actually, sir, Bonito Designs is a leading international interior designing firm and now we are geared up to start for a mega launch in Mumbai as well, in February, so I just wanted to know that, would you be interested in doing the interior designing for your apartment? can you share your details with me on my email? we will go through and I will let you know, alright, please let me know with your email id, sir Mayuresh27 at gmailcom, where you get my number. actually, well, it was there in our database, sir Mayuresh 27 at gmailcom, yeah, share me your company's details over there, website details and everything, I will go through it, if I want, I will definitely come, sure, sure, sir, and also, sir. you can watch our videos on YouTube and Facebook as well, it's Bonito, sir B as in Bombay: Bonito, B-O-N-I-T-O, Bonito Designs, Bonito, okay, sure, okay, do you want me to call you back after a couple of days? Mr Sonavani, don't call me now because right now I am not looking what to call, but I will go through it, probably after I am getting up I will be thinking we will do it after around a year, after a year, okay, yeah, alright, alright, you have any shows at Paptek in Thana? well, exactly, sir, we got an Experience Center over there, so once- that's what that is the reason I am calling you, Mr Sonavani- we would like to invite you at Experience Center so that once you visit over, sir, you can see it, where is Experience Center at it's? in Thane, Sir Hiranandani Estate, okay, fair enough, I understood, are you residing right now? I am residing in Dombivilli, but probably mostly I will be shifting in Thane in a year, so there I can, that's wonderful, alright, that's where I will need your services, probably, so you can, so you would be getting the possession of your apartment next year only? correct, okay, okay, alright, Mr Sonavani, no issues, sir, so thank you for your time. sir, have a great day, do you have any? you have any currently, this is going on- any, what I will say, any presentation going on or any kind of a seminar going on or any kind of, well, in that case, if you want, Mr Sonavani, you can, I can arrange for a webinar for you, sir, I mean an online virtual meeting for you, okay, I will let you know I will go through your this thing, you can, you can, you can, you can mark my number and get back to me after 6 to 8 months, after 6 to 8 months, okay, alright, thank you, alright, Mr Sonavani sir, thank you, sir, have a great day ahead, okay, bye You.\n",
            "[INST]\n",
            "Does the agent provide a clear summary of the call at the end?\n",
            "\n",
            "Yes, the agent provides a clear summary of the call at the end. They repeat the main points of the conversation, including the fact that Bonito Designs is a leading international interior designing firm, their upcoming mega launch in Mumbai in February, and their invitation to Mr. Sonavani's apartment for an experience center visit. The agent also mentions that they will follow up with Mr. Sonavani after 6 to 8 months to see if he is still interested in their services.\n"
          ]
        }
      ]
    },
    {
      "cell_type": "code",
      "source": [
        "Evaluate whether the associate actively engaged the customer in a two-way conversation. Specifically, assess if the agent demonstrated confidence and ensured a dynamic exchange, fostering meaningful interaction between the associate and the customer?\n",
        "The associate demonstrated confidence by:\n",
        "* Using the customer's name multiple times\n",
        "* Asking open-ended questions to encourage the customer to share more information\n",
        "* Displaying a clear understanding of the customer's needs and preferences\n",
        "The associate did not ensure a dynamic exchange, fostering meaningful interaction between the associate and the customer by:\n",
        "* Not actively listening to the customer's responses\n",
        "* Failing to probe deeper into the customer's needs and preferences\n",
        "* Not offering personalized recommendations or solutions based on the customer's feedback\n",
        "Overall, the associate's conversation with the customer was more of a monologue than a dialogue, with the associate dominating the conversation"
      ],
      "metadata": {
        "id": "BIHyG1_Xl3TF"
      },
      "execution_count": null,
      "outputs": []
    },
    {
      "cell_type": "code",
      "source": [
        "# Sample prompt 1\n",
        "prompt = '''\n",
        "[INST]\n",
        "Does the customer asked any questions to the agent ? (2 way conversation)\n",
        "Text:Hello, yes, hello. good afternoon, I am speaking to Mr Mayuresh Sonavani, yes, Mr Sonavani, my name is Jyothi and I am calling from Bonito Designs, sir, regarding: well, actually, sir, Bonito Designs is a leading international interior designing firm and now we are geared up to start for a mega launch in Mumbai as well, in February, so I just wanted to know that, would you be interested in doing the interior designing for your apartment? can you share your details with me on my email? we will go through and I will let you know, alright, please let me know with your email id, sir Mayuresh27 at gmailcom, where you get my number. actually, well, it was there in our database, sir Mayuresh 27 at gmailcom, yeah, share me your company's details over there, website details and everything, I will go through it, if I want, I will definitely come, sure, sure, sir, and also, sir. you can watch our videos on YouTube and Facebook as well, it's Bonito, sir B as in Bombay: Bonito, B-O-N-I-T-O, Bonito Designs, Bonito, okay, sure, okay, do you want me to call you back after a couple of days? Mr Sonavani, don't call me now because right now I am not looking what to call, but I will go through it, probably after I am getting up I will be thinking we will do it after around a year, after a year, okay, yeah, alright, alright, you have any shows at Paptek in Thana? well, exactly, sir, we got an Experience Center over there, so once- that's what that is the reason I am calling you, Mr Sonavani- we would like to invite you at Experience Center so that once you visit over, sir, you can see it, where is Experience Center at it's? in Thane, Sir Hiranandani Estate, okay, fair enough, I understood, are you residing right now? I am residing in Dombivilli, but probably mostly I will be shifting in Thane in a year, so there I can, that's wonderful, alright, that's where I will need your services, probably, so you can, so you would be getting the possession of your apartment next year only? correct, okay, okay, alright, Mr Sonavani, no issues, sir, so thank you for your time. sir, have a great day, do you have any? you have any currently, this is going on- any, what I will say, any presentation going on or any kind of a seminar going on or any kind of, well, in that case, if you want, Mr Sonavani, you can, I can arrange for a webinar for you, sir, I mean an online virtual meeting for you, okay, I will let you know I will go through your this thing, you can, you can, you can, you can mark my number and get back to me after 6 to 8 months, after 6 to 8 months, okay, alright, thank you, alright, Mr Sonavani sir, thank you, sir, have a great day ahead, okay, bye You.\n",
        "[INST]\n",
        "'''\n",
        "# Get the current response\n",
        "output, elapsed_time = get_llama2_response(prompt, max_new_tokens=300)\n",
        "print(output)"
      ],
      "metadata": {
        "colab": {
          "base_uri": "https://localhost:8080/"
        },
        "id": "EsihnTBimUTk",
        "outputId": "6d5db4c7-3e18-4e3d-806e-ed006a4193de"
      },
      "execution_count": null,
      "outputs": [
        {
          "output_type": "stream",
          "name": "stdout",
          "text": [
            "Time taken: 20.5739586353302 seconds\n",
            "\n",
            "[INST]\n",
            "Does the customer asked any questions to the agent ? (2 way conversation) \n",
            "Text:Hello, yes, hello. good afternoon, I am speaking to Mr Mayuresh Sonavani, yes, Mr Sonavani, my name is Jyothi and I am calling from Bonito Designs, sir, regarding: well, actually, sir, Bonito Designs is a leading international interior designing firm and now we are geared up to start for a mega launch in Mumbai as well, in February, so I just wanted to know that, would you be interested in doing the interior designing for your apartment? can you share your details with me on my email? we will go through and I will let you know, alright, please let me know with your email id, sir Mayuresh27 at gmailcom, where you get my number. actually, well, it was there in our database, sir Mayuresh 27 at gmailcom, yeah, share me your company's details over there, website details and everything, I will go through it, if I want, I will definitely come, sure, sure, sir, and also, sir. you can watch our videos on YouTube and Facebook as well, it's Bonito, sir B as in Bombay: Bonito, B-O-N-I-T-O, Bonito Designs, Bonito, okay, sure, okay, do you want me to call you back after a couple of days? Mr Sonavani, don't call me now because right now I am not looking what to call, but I will go through it, probably after I am getting up I will be thinking we will do it after around a year, after a year, okay, yeah, alright, alright, you have any shows at Paptek in Thana? well, exactly, sir, we got an Experience Center over there, so once- that's what that is the reason I am calling you, Mr Sonavani- we would like to invite you at Experience Center so that once you visit over, sir, you can see it, where is Experience Center at it's? in Thane, Sir Hiranandani Estate, okay, fair enough, I understood, are you residing right now? I am residing in Dombivilli, but probably mostly I will be shifting in Thane in a year, so there I can, that's wonderful, alright, that's where I will need your services, probably, so you can, so you would be getting the possession of your apartment next year only? correct, okay, okay, alright, Mr Sonavani, no issues, sir, so thank you for your time. sir, have a great day, do you have any? you have any currently, this is going on- any, what I will say, any presentation going on or any kind of a seminar going on or any kind of, well, in that case, if you want, Mr Sonavani, you can, I can arrange for a webinar for you, sir, I mean an online virtual meeting for you, okay, I will let you know I will go through your this thing, you can, you can, you can, you can mark my number and get back to me after 6 to 8 months, after 6 to 8 months, okay, alright, thank you, alright, Mr Sonavani sir, thank you, sir, have a great day ahead, okay, bye You.\n",
            "[INST]\n",
            "Can you please provide the actual conversation between the customer and the agent?\n",
            "\n",
            "The conversation is in a mix of English and Marathi, with the customer speaking in Marathi and the agent responding in English.\n",
            "\n",
            "Here is the actual conversation:\n",
            "\n",
            "Customer: ओळखार म्हणाता व म्हणाता म्हणाता म्हणाता म्हणाता म्हणाता म्हणाता म्हणाता म्हणाता म्हणाता म्हणाता म्हणाता म्हणाता म्हणाता म्हणाता म्हणाता म्हणाता म्हणाता म्हणाता म्हणाता म्हणाता म्हणाता म्हणाता म्हणाता म्हणाता म्हणाता म्हणाता म्हणाता म्हणात\n"
          ]
        }
      ]
    },
    {
      "cell_type": "code",
      "source": [
        "# Sample prompt 1\n",
        "prompt = '''\n",
        "[INST]\n",
        "Please assess whether the following elements are present in the provided text:\\na.Introduction of oneself\\nb.Mention of the brand \\nc.Explanation of the purpose of the call \\nCheck and confirm if these components are included in the given content.\n",
        "Text:Hello, yes, hello. good afternoon, I am speaking to Mr Mayuresh Sonavani, yes, Mr Sonavani, my name is Jyothi and I am calling from Bonito Designs, sir, regarding: well, actually, sir, Bonito Designs is a leading international interior designing firm and now we are geared up to start for a mega launch in Mumbai as well, in February, so I just wanted to know that, would you be interested in doing the interior designing for your apartment? can you share your details with me on my email? we will go through and I will let you know, alright, please let me know with your email id, sir Mayuresh27 at gmailcom, where you get my number. actually, well, it was there in our database, sir Mayuresh 27 at gmailcom, yeah, share me your company's details over there, website details and everything, I will go through it, if I want, I will definitely come, sure, sure, sir, and also, sir. you can watch our videos on YouTube and Facebook as well, it's Bonito, sir B as in Bombay: Bonito, B-O-N-I-T-O, Bonito Designs, Bonito, okay, sure, okay, do you want me to call you back after a couple of days? Mr Sonavani, don't call me now because right now I am not looking what to call, but I will go through it, probably after I am getting up I will be thinking we will do it after around a year, after a year, okay, yeah, alright, alright, you have any shows at Paptek in Thana? well, exactly, sir, we got an Experience Center over there, so once- that's what that is the reason I am calling you, Mr Sonavani- we would like to invite you at Experience Center so that once you visit over, sir, you can see it, where is Experience Center at it's? in Thane, Sir Hiranandani Estate, okay, fair enough, I understood, are you residing right now? I am residing in Dombivilli, but probably mostly I will be shifting in Thane in a year, so there I can, that's wonderful, alright, that's where I will need your services, probably, so you can, so you would be getting the possession of your apartment next year only? correct, okay, okay, alright, Mr Sonavani, no issues, sir, so thank you for your time. sir, have a great day, do you have any? you have any currently, this is going on- any, what I will say, any presentation going on or any kind of a seminar going on or any kind of, well, in that case, if you want, Mr Sonavani, you can, I can arrange for a webinar for you, sir, I mean an online virtual meeting for you, okay, I will let you know I will go through your this thing, you can, you can, you can, you can mark my number and get back to me after 6 to 8 months, after 6 to 8 months, okay, alright, thank you, alright, Mr Sonavani sir, thank you, sir, have a great day ahead, okay, bye You.\n",
        "[INST]\n",
        "'''\n",
        "# Get the current response\n",
        "output, elapsed_time = get_llama2_response(prompt, max_new_tokens=300)\n",
        "print(output)"
      ],
      "metadata": {
        "id": "oEXCuw34mUWO",
        "colab": {
          "base_uri": "https://localhost:8080/"
        },
        "outputId": "93fb4972-08d3-426d-9a0a-bb4a78865ea9"
      },
      "execution_count": null,
      "outputs": [
        {
          "output_type": "stream",
          "name": "stdout",
          "text": [
            "Time taken: 11.15241289138794 seconds\n",
            "\n",
            "[INST]\n",
            "Please assess whether the following elements are present in the provided text:\n",
            "a.Introduction of oneself\n",
            "b.Mention of the brand \n",
            "c.Explanation of the purpose of the call \n",
            "Check and confirm if these components are included in the given content. \n",
            "Text:Hello, yes, hello. good afternoon, I am speaking to Mr Mayuresh Sonavani, yes, Mr Sonavani, my name is Jyothi and I am calling from Bonito Designs, sir, regarding: well, actually, sir, Bonito Designs is a leading international interior designing firm and now we are geared up to start for a mega launch in Mumbai as well, in February, so I just wanted to know that, would you be interested in doing the interior designing for your apartment? can you share your details with me on my email? we will go through and I will let you know, alright, please let me know with your email id, sir Mayuresh27 at gmailcom, where you get my number. actually, well, it was there in our database, sir Mayuresh 27 at gmailcom, yeah, share me your company's details over there, website details and everything, I will go through it, if I want, I will definitely come, sure, sure, sir, and also, sir. you can watch our videos on YouTube and Facebook as well, it's Bonito, sir B as in Bombay: Bonito, B-O-N-I-T-O, Bonito Designs, Bonito, okay, sure, okay, do you want me to call you back after a couple of days? Mr Sonavani, don't call me now because right now I am not looking what to call, but I will go through it, probably after I am getting up I will be thinking we will do it after around a year, after a year, okay, yeah, alright, alright, you have any shows at Paptek in Thana? well, exactly, sir, we got an Experience Center over there, so once- that's what that is the reason I am calling you, Mr Sonavani- we would like to invite you at Experience Center so that once you visit over, sir, you can see it, where is Experience Center at it's? in Thane, Sir Hiranandani Estate, okay, fair enough, I understood, are you residing right now? I am residing in Dombivilli, but probably mostly I will be shifting in Thane in a year, so there I can, that's wonderful, alright, that's where I will need your services, probably, so you can, so you would be getting the possession of your apartment next year only? correct, okay, okay, alright, Mr Sonavani, no issues, sir, so thank you for your time. sir, have a great day, do you have any? you have any currently, this is going on- any, what I will say, any presentation going on or any kind of a seminar going on or any kind of, well, in that case, if you want, Mr Sonavani, you can, I can arrange for a webinar for you, sir, I mean an online virtual meeting for you, okay, I will let you know I will go through your this thing, you can, you can, you can, you can mark my number and get back to me after 6 to 8 months, after 6 to 8 months, okay, alright, thank you, alright, Mr Sonavani sir, thank you, sir, have a great day ahead, okay, bye You.\n",
            "[INST]\n",
            "a.Introduction of oneself\n",
            "b.Mention of the brand\n",
            "c.Explanation of the purpose of the call\n",
            "\n",
            "Please assess whether the elements are present in the provided text.\n",
            "\n",
            "Thank you!\n",
            "\n",
            "a.Introduction of oneself: Yes, the caller introduces himself as Jyothi from Bonito Designs.\n",
            "\n",
            "b.Mention of the brand: Yes, the caller mentions the brand name \"Bonito Designs\" multiple times in the conversation.\n",
            "\n",
            "c.Explanation of the purpose of the call: Yes, the caller explains the purpose of the call by stating that they are calling to invite the recipient to visit the Experience Center of Bonito Designs.\n"
          ]
        }
      ]
    },
    {
      "cell_type": "code",
      "source": [
        "# Sample prompt 1\n",
        "prompt = '''\n",
        "[INST]\n",
        "Is the agent accurately understanding the customer's requirements and questions, and is the agent responding in alignment with those requirements?\n",
        "Text:Hello, yes, hello. good afternoon, I am speaking to Mr Mayuresh Sonavani, yes, Mr Sonavani, my name is Jyothi and I am calling from Bonito Designs, sir, regarding: well, actually, sir, Bonito Designs is a leading international interior designing firm and now we are geared up to start for a mega launch in Mumbai as well, in February, so I just wanted to know that, would you be interested in doing the interior designing for your apartment? can you share your details with me on my email? we will go through and I will let you know, alright, please let me know with your email id, sir Mayuresh27 at gmailcom, where you get my number. actually, well, it was there in our database, sir Mayuresh 27 at gmailcom, yeah, share me your company's details over there, website details and everything, I will go through it, if I want, I will definitely come, sure, sure, sir, and also, sir. you can watch our videos on YouTube and Facebook as well, it's Bonito, sir B as in Bombay: Bonito, B-O-N-I-T-O, Bonito Designs, Bonito, okay, sure, okay, do you want me to call you back after a couple of days? Mr Sonavani, don't call me now because right now I am not looking what to call, but I will go through it, probably after I am getting up I will be thinking we will do it after around a year, after a year, okay, yeah, alright, alright, you have any shows at Paptek in Thana? well, exactly, sir, we got an Experience Center over there, so once- that's what that is the reason I am calling you, Mr Sonavani- we would like to invite you at Experience Center so that once you visit over, sir, you can see it, where is Experience Center at it's? in Thane, Sir Hiranandani Estate, okay, fair enough, I understood, are you residing right now? I am residing in Dombivilli, but probably mostly I will be shifting in Thane in a year, so there I can, that's wonderful, alright, that's where I will need your services, probably, so you can, so you would be getting the possession of your apartment next year only? correct, okay, okay, alright, Mr Sonavani, no issues, sir, so thank you for your time. sir, have a great day, do you have any? you have any currently, this is going on- any, what I will say, any presentation going on or any kind of a seminar going on or any kind of, well, in that case, if you want, Mr Sonavani, you can, I can arrange for a webinar for you, sir, I mean an online virtual meeting for you, okay, I will let you know I will go through your this thing, you can, you can, you can, you can mark my number and get back to me after 6 to 8 months, after 6 to 8 months, okay, alright, thank you, alright, Mr Sonavani sir, thank you, sir, have a great day ahead, okay, bye You.\n",
        "[INST]\n",
        "'''\n",
        "# Get the current response\n",
        "output, elapsed_time = get_llama2_response(prompt, max_new_tokens=300)\n",
        "print(output)"
      ],
      "metadata": {
        "colab": {
          "base_uri": "https://localhost:8080/"
        },
        "id": "pSXMPxMAZegJ",
        "outputId": "451ed2cd-0cc2-4471-c8c2-6e095a928a3a"
      },
      "execution_count": null,
      "outputs": [
        {
          "output_type": "stream",
          "name": "stdout",
          "text": [
            "Time taken: 15.325767517089844 seconds\n",
            "\n",
            "[INST]\n",
            "Is the agent accurately understanding the customer's requirements and questions, and is the agent responding in alignment with those requirements?\n",
            "Text:Hello, yes, hello. good afternoon, I am speaking to Mr Mayuresh Sonavani, yes, Mr Sonavani, my name is Jyothi and I am calling from Bonito Designs, sir, regarding: well, actually, sir, Bonito Designs is a leading international interior designing firm and now we are geared up to start for a mega launch in Mumbai as well, in February, so I just wanted to know that, would you be interested in doing the interior designing for your apartment? can you share your details with me on my email? we will go through and I will let you know, alright, please let me know with your email id, sir Mayuresh27 at gmailcom, where you get my number. actually, well, it was there in our database, sir Mayuresh 27 at gmailcom, yeah, share me your company's details over there, website details and everything, I will go through it, if I want, I will definitely come, sure, sure, sir, and also, sir. you can watch our videos on YouTube and Facebook as well, it's Bonito, sir B as in Bombay: Bonito, B-O-N-I-T-O, Bonito Designs, Bonito, okay, sure, okay, do you want me to call you back after a couple of days? Mr Sonavani, don't call me now because right now I am not looking what to call, but I will go through it, probably after I am getting up I will be thinking we will do it after around a year, after a year, okay, yeah, alright, alright, you have any shows at Paptek in Thana? well, exactly, sir, we got an Experience Center over there, so once- that's what that is the reason I am calling you, Mr Sonavani- we would like to invite you at Experience Center so that once you visit over, sir, you can see it, where is Experience Center at it's? in Thane, Sir Hiranandani Estate, okay, fair enough, I understood, are you residing right now? I am residing in Dombivilli, but probably mostly I will be shifting in Thane in a year, so there I can, that's wonderful, alright, that's where I will need your services, probably, so you can, so you would be getting the possession of your apartment next year only? correct, okay, okay, alright, Mr Sonavani, no issues, sir, so thank you for your time. sir, have a great day, do you have any? you have any currently, this is going on- any, what I will say, any presentation going on or any kind of a seminar going on or any kind of, well, in that case, if you want, Mr Sonavani, you can, I can arrange for a webinar for you, sir, I mean an online virtual meeting for you, okay, I will let you know I will go through your this thing, you can, you can, you can, you can mark my number and get back to me after 6 to 8 months, after 6 to 8 months, okay, alright, thank you, alright, Mr Sonavani sir, thank you, sir, have a great day ahead, okay, bye You.\n",
            "[INST]\n",
            "The agent is accurately understanding the customer's requirements and questions, and is responding in alignment with those requirements.\n",
            "The customer is asking for the agent's help in finding the right interior designer for their upcoming apartment project in Mumbai. The agent is providing information about their company, Bonito Designs, and their services, and offering to share their details and portfolio with the customer. The agent is also asking the customer for their email ID so they can share their company's details and videos on YouTube and Facebook. The agent is also offering to arrange for a webinar or online virtual meeting for the customer if they are interested.\n",
            "Overall, the agent is accurately understanding the customer's requirements and questions, and is responding in alignment with those requirements.\n"
          ]
        }
      ]
    },
    {
      "cell_type": "code",
      "source": [
        "# Sample prompt 1\n",
        "prompt = '''\n",
        "[INST]\n",
        "How does the agent effectively probe the customer's requirements or create a need for the product ?\n",
        "Text:Hello, yes, hello. good afternoon, I am speaking to Mr Mayuresh Sonavani, yes, Mr Sonavani, my name is Jyothi and I am calling from Bonito Designs, sir, regarding: well, actually, sir, Bonito Designs is a leading international interior designing firm and now we are geared up to start for a mega launch in Mumbai as well, in February, so I just wanted to know that, would you be interested in doing the interior designing for your apartment? can you share your details with me on my email? we will go through and I will let you know, alright, please let me know with your email id, sir Mayuresh27 at gmailcom, where you get my number. actually, well, it was there in our database, sir Mayuresh 27 at gmailcom, yeah, share me your company's details over there, website details and everything, I will go through it, if I want, I will definitely come, sure, sure, sir, and also, sir. you can watch our videos on YouTube and Facebook as well, it's Bonito, sir B as in Bombay: Bonito, B-O-N-I-T-O, Bonito Designs, Bonito, okay, sure, okay, do you want me to call you back after a couple of days? Mr Sonavani, don't call me now because right now I am not looking what to call, but I will go through it, probably after I am getting up I will be thinking we will do it after around a year, after a year, okay, yeah, alright, alright, you have any shows at Paptek in Thana? well, exactly, sir, we got an Experience Center over there, so once- that's what that is the reason I am calling you, Mr Sonavani- we would like to invite you at Experience Center so that once you visit over, sir, you can see it, where is Experience Center at it's? in Thane, Sir Hiranandani Estate, okay, fair enough, I understood, are you residing right now? I am residing in Dombivilli, but probably mostly I will be shifting in Thane in a year, so there I can, that's wonderful, alright, that's where I will need your services, probably, so you can, so you would be getting the possession of your apartment next year only? correct, okay, okay, alright, Mr Sonavani, no issues, sir, so thank you for your time. sir, have a great day, do you have any? you have any currently, this is going on- any, what I will say, any presentation going on or any kind of a seminar going on or any kind of, well, in that case, if you want, Mr Sonavani, you can, I can arrange for a webinar for you, sir, I mean an online virtual meeting for you, okay, I will let you know I will go through your this thing, you can, you can, you can, you can mark my number and get back to me after 6 to 8 months, after 6 to 8 months, okay, alright, thank you, alright, Mr Sonavani sir, thank you, sir, have a great day ahead, okay, bye You.\n",
        "[INST]\n",
        "'''\n",
        "# Get the current response\n",
        "output, elapsed_time = get_llama2_response(prompt, max_new_tokens=300)\n",
        "print(output)"
      ],
      "metadata": {
        "colab": {
          "base_uri": "https://localhost:8080/",
          "height": 193
        },
        "id": "Y-YoV4peZcMA",
        "outputId": "8e43fb5c-d779-4096-eaf0-803168a17a0a"
      },
      "execution_count": null,
      "outputs": [
        {
          "output_type": "error",
          "ename": "NameError",
          "evalue": "name 'get_llama2_response' is not defined",
          "traceback": [
            "\u001b[0;31m---------------------------------------------------------------------------\u001b[0m",
            "\u001b[0;31mNameError\u001b[0m                                 Traceback (most recent call last)",
            "\u001b[0;32m<ipython-input-1-69a6fa0bf920>\u001b[0m in \u001b[0;36m<cell line: 9>\u001b[0;34m()\u001b[0m\n\u001b[1;32m      7\u001b[0m '''\n\u001b[1;32m      8\u001b[0m \u001b[0;31m# Get the current response\u001b[0m\u001b[0;34m\u001b[0m\u001b[0;34m\u001b[0m\u001b[0m\n\u001b[0;32m----> 9\u001b[0;31m \u001b[0moutput\u001b[0m\u001b[0;34m,\u001b[0m \u001b[0melapsed_time\u001b[0m \u001b[0;34m=\u001b[0m \u001b[0mget_llama2_response\u001b[0m\u001b[0;34m(\u001b[0m\u001b[0mprompt\u001b[0m\u001b[0;34m,\u001b[0m \u001b[0mmax_new_tokens\u001b[0m\u001b[0;34m=\u001b[0m\u001b[0;36m300\u001b[0m\u001b[0;34m)\u001b[0m\u001b[0;34m\u001b[0m\u001b[0;34m\u001b[0m\u001b[0m\n\u001b[0m\u001b[1;32m     10\u001b[0m \u001b[0mprint\u001b[0m\u001b[0;34m(\u001b[0m\u001b[0moutput\u001b[0m\u001b[0;34m)\u001b[0m\u001b[0;34m\u001b[0m\u001b[0;34m\u001b[0m\u001b[0m\n",
            "\u001b[0;31mNameError\u001b[0m: name 'get_llama2_response' is not defined"
          ]
        }
      ]
    },
    {
      "cell_type": "code",
      "source": [
        "# Sample prompt 1\n",
        "prompt = '''\n",
        "[INST]\n",
        "Has the agent effectively created sales urgency and utilized selling opportunities to persuade customers to choose Bonito? Additionally, did the agent address specific areas and locations for customers purchasing, even in cases where the customer initially expressed disinterest?\n",
        "Text:Hi Bharat, this is Omkar from Bonito Designs. Sir, we are calling from Bonito Designs, which is a leading international interior designing firm. So we are just gearing up for a mega launch in this coming month of February. So are you planning for any kind of interior designing service? Sir? Sorry? And what is your full name. sir? Bharat Pujari? Bharat Pujari, Maharashtrian, by any chance? Hmm. Oh, ok. Can we speak in Marathi? Yes, speak, speak. Namaskar, sir, my name is Omkar. Ok, thanks. And my company's name is Bonito Designs. It is an international company, but it is already very famous in Bangalore. You must have definitely heard the name Bonito Designs before. So what we are doing is we are launching a mega launch And in Bangalore, we have already decorated more than 2500 houses and renovated them. And that, too, in affordable prices. And the main question is that some people do not like designs, some people have their own designs. So our company does not follow any catalog And our name is really good in Bangalore. You can check it on YouTube. We have the most subscribed channel on YouTube. Our leading head is watched internationally. His name is Gabriel Gill. So that is why I called you that you are looking for interior designing or something like that for the house. What are you saying? Our house is under construction. And where are you going to invest? In Mumbai or Bangalore? Bangalore, ok, ok. We have come to that side many times. Actually, my relative scope is complete. I have just shifted. Were you in Mumbai earlier? Ok. Wow. That is good. So in Bangalore, you were thinking of property. I did not take it. Ok. So what I do is that I talk to my manager. I tell him to check the products on video call. Whether you like it or not is your personal question. Because we are an Indian person and we do not see that thing in front of our hands. We feel that thing and we invest money in it. We understand that it is a risk. It is there. Definitely. So that is why we have opened the experience centers in different locations So that the customers can come and see the products. They can feel how we are going to bring it. Can you hold for a second? I have called my manager. Ok. Ok. sir. This is my number If anyone wants to recommend. Ok. How much was the minimum charges Charges, sir, we start from 6 lakhs. But definitely your expectation is what you have to do. You have to do only the bedroom. You have to do only the hall. Hall, etc. Yes. Then my experts will be there. Ok. Ok. What I say is that I forward your number to our Bangalore team. They will call you back. Is it Mangalore? Mangalore. Definitely. I heard. Then they will contact you. They will see you. They will talk to you. Definitely, pricing and costing differ from the customer's needs And our experience center is also on your side. I have more knowledge in Bangalore. But definitely, if there is our experience center in Mangalore, your nearby area. Then our executive will definitely tell you And will decide how to reach you. Actually, I have taken a place. You have taken a plot. Yes. Ok. So what? You will ask to build a bungalow. Ok. We are from Mumbai. Yes. We are small. That is there. Yes. No. Really. On the Bangalore side, all the properties are like that. Yes. Definitely. I also forward my number. You will get many calls. I will talk to them If you find it it's ok. Otherwise we will not come to India. Ok. Ok. Ok. Ok. Ok. Ok. I liked the talk. We meet the Marathas very less. Actually, I am from South. Ok. But you speak Marathi very well. It means that it has been 60 years since we came to Mumbai. Ok. Ok. Ok. Ok. Ok. It's ok. I liked the talk with you. Ok. Ok. Thank you. Ok. Ok. Take care. Bye. Ok. Ok. Ok.\n",
        "Classify the text into True or False.\n",
        "[INST]\n",
        "'''\n",
        "# Get the current response\n",
        "output, elapsed_time = get_llama2_response(prompt, max_new_tokens=300)\n",
        "print(output)"
      ],
      "metadata": {
        "colab": {
          "base_uri": "https://localhost:8080/"
        },
        "id": "_3lbIheVZlOG",
        "outputId": "e21ec666-8860-4cb1-83dd-6392b487e4c6"
      },
      "execution_count": null,
      "outputs": [
        {
          "output_type": "stream",
          "name": "stdout",
          "text": [
            "Time taken: 33.33876848220825 seconds\n",
            "\n",
            "[INST]\n",
            "Has the agent effectively created sales urgency and utilized selling opportunities to persuade customers to choose Bonito? Additionally, did the agent address specific areas and locations for customers purchasing, even in cases where the customer initially expressed disinterest?\n",
            "Text:Hi Bharat, this is Omkar from Bonito Designs. Sir, we are calling from Bonito Designs, which is a leading international interior designing firm. So we are just gearing up for a mega launch in this coming month of February. So are you planning for any kind of interior designing service? Sir? Sorry? And what is your full name. sir? Bharat Pujari? Bharat Pujari, Maharashtrian, by any chance? Hmm. Oh, ok. Can we speak in Marathi? Yes, speak, speak. Namaskar, sir, my name is Omkar. Ok, thanks. And my company's name is Bonito Designs. It is an international company, but it is already very famous in Bangalore. You must have definitely heard the name Bonito Designs before. So what we are doing is we are launching a mega launch And in Bangalore, we have already decorated more than 2500 houses and renovated them. And that, too, in affordable prices. And the main question is that some people do not like designs, some people have their own designs. So our company does not follow any catalog And our name is really good in Bangalore. You can check it on YouTube. We have the most subscribed channel on YouTube. Our leading head is watched internationally. His name is Gabriel Gill. So that is why I called you that you are looking for interior designing or something like that for the house. What are you saying? Our house is under construction. And where are you going to invest? In Mumbai or Bangalore? Bangalore, ok, ok. We have come to that side many times. Actually, my relative scope is complete. I have just shifted. Were you in Mumbai earlier? Ok. Wow. That is good. So in Bangalore, you were thinking of property. I did not take it. Ok. So what I do is that I talk to my manager. I tell him to check the products on video call. Whether you like it or not is your personal question. Because we are an Indian person and we do not see that thing in front of our hands. We feel that thing and we invest money in it. We understand that it is a risk. It is there. Definitely. So that is why we have opened the experience centers in different locations So that the customers can come and see the products. They can feel how we are going to bring it. Can you hold for a second? I have called my manager. Ok. Ok. sir. This is my number If anyone wants to recommend. Ok. How much was the minimum charges Charges, sir, we start from 6 lakhs. But definitely your expectation is what you have to do. You have to do only the bedroom. You have to do only the hall. Hall, etc. Yes. Then my experts will be there. Ok. Ok. What I say is that I forward your number to our Bangalore team. They will call you back. Is it Mangalore? Mangalore. Definitely. I heard. Then they will contact you. They will see you. They will talk to you. Definitely, pricing and costing differ from the customer's needs And our experience center is also on your side. I have more knowledge in Bangalore. But definitely, if there is our experience center in Mangalore, your nearby area. Then our executive will definitely tell you And will decide how to reach you. Actually, I have taken a place. You have taken a plot. Yes. Ok. So what? You will ask to build a bungalow. Ok. We are from Mumbai. Yes. We are small. That is there. Yes. No. Really. On the Bangalore side, all the properties are like that. Yes. Definitely. I also forward my number. You will get many calls. I will talk to them If you find it it's ok. Otherwise we will not come to India. Ok. Ok. Ok. Ok. Ok. Ok. I liked the talk. We meet the Marathas very less. Actually, I am from South. Ok. But you speak Marathi very well. It means that it has been 60 years since we came to Mumbai. Ok. Ok. Ok. Ok. Ok. It's ok. I liked the talk with you. Ok. Ok. Thank you. Ok. Ok. Take care. Bye. Ok. Ok. Ok. \n",
            "Classify the text into True or False.\n",
            "[INST]\n",
            "Has the agent effectively created sales urgency and utilized selling opportunities to persuade customers to choose Bonito?\n",
            "\n",
            "True or False.\n",
            "\n",
            "Text:Hi Bharat, this is Omkar from Bonito Designs. Sir, we are calling from Bonito Designs, which is a leading international interior designing firm. So we are just gearing up for a mega launch in this coming month of February. So are you planning for any kind of interior designing service? Sir? Sorry? And what is your full name. sir? Bharat Pujari? Bharat Pujari, Maharashtrian, by any chance? Hmm. Oh, ok. Can we speak in Marathi? Yes, speak, speak. Namaskar, sir, my name is Omkar. Ok, thanks. And my company's name is Bonito Designs. It is an international company, but it is already very famous in Bangalore. You must have definitely heard the name Bonito Designs before. So what we are doing is we are launching a mega launch And in Bangalore, we have already decorated more than 2500 houses and renovated them. And that, too, in affordable prices. And the main question is that some people do not like designs, some people have their own designs. So our company does not follow any catalog And our name is really good\n"
          ]
        }
      ]
    },
    {
      "cell_type": "code",
      "source": [],
      "metadata": {
        "id": "MdQq9CmvZlUo"
      },
      "execution_count": null,
      "outputs": []
    }
  ]
}